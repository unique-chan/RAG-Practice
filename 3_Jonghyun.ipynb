{
 "cells": [
  {
   "cell_type": "code",
   "id": "initial_id",
   "metadata": {
    "collapsed": true,
    "ExecuteTime": {
     "end_time": "2025-05-22T14:56:41.965165Z",
     "start_time": "2025-05-22T14:56:41.581118Z"
    }
   },
   "source": [
    "from langchain.text_splitter import RecursiveCharacterTextSplitter, CharacterTextSplitter\n",
    "from langchain.vectorstores import Chroma\n",
    "from langchain.document_loaders import PyPDFLoader\n",
    "from langchain.embeddings import HuggingFaceEmbeddings"
   ],
   "outputs": [],
   "execution_count": 82
  },
  {
   "metadata": {
    "ExecuteTime": {
     "end_time": "2025-05-22T14:29:31.188603Z",
     "start_time": "2025-05-22T14:29:30.758548Z"
    }
   },
   "cell_type": "code",
   "source": [
    "loader = PyPDFLoader('./RAG-Practice-PDF-JongHyun.pdf')\n",
    "pages = loader.load_and_split() # pdf 페이지 단위로 쪼깨서 읽어 들임\n",
    "print(len(pages))"
   ],
   "id": "90bc4f4973ff266",
   "outputs": [
    {
     "name": "stdout",
     "output_type": "stream",
     "text": [
      "3\n"
     ]
    }
   ],
   "execution_count": 36
  },
  {
   "metadata": {
    "ExecuteTime": {
     "end_time": "2025-05-22T14:29:31.250119Z",
     "start_time": "2025-05-22T14:29:31.238120Z"
    }
   },
   "cell_type": "code",
   "source": "pages[1]",
   "id": "6a77e55b8b2ffc10",
   "outputs": [
    {
     "data": {
      "text/plain": [
       "Document(metadata={'producer': 'Microsoft® Word Microsoft 365용', 'creator': 'Microsoft® Word Microsoft 365용', 'creationdate': '2025-05-22T16:01:03+09:00', 'author': 'YechanKim', 'moddate': '2025-05-22T16:01:03+09:00', 'source': './RAG-Practice-PDF-JongHyun.pdf', 'total_pages': 3, 'page': 1, 'page_label': '2'}, page_content='박종현 연구원의 업적은 다음과 같음: \\n▪ Selected Papers \\n▪ International Conference \\n▪ Jonghyun Park, Yongmin Ju, Wonil Choi, Hong Kook Kim, and Moongu Jeon, Seamless \\nIntegration of 3D LiDAR into ROS-based 2D Navigation Systems, Automation, Robotics & \\nCommunications for Industry 4.0/5.0 (ARCI\\' 2025), 2025. (Ack: MIT)  \\n▪ Y. Kim, J. Park, S. Kim, S. Kim, S. Kim, Y. Ko, J. Oh and M. Jeon, Towards large-scale \\nbenchmark dataset for remote sensing object detection on battlefield, ICCE-Asia (IEEE \\nInternational Conference on Consumer Electronics-Asia), 2024. (Ack: ADD) \\n▪ Domestic Journal \\n▪ 김예찬, 박종현, 김수연, 김시현, 김성헌, 고영민, 오중균, 윤동호, 전문구. \"위성영상에서의 군 \\n표적탐지를 위한 ARMA3 기반의 가상 데이터 생성 연구\", Journal of KIISE (2024) \\n▪ 한대영, 김예찬, 박종현, 윤동호, 전문구. \"A Diffusion-based Data Augmentation Method for \\nSAR Object Detection\", Journal of KIIT (2024) \\n▪ Domestic Conference \\n▪ 김수연*, 김예찬*, 박종현, 김성헌, 김기웅, 전문구. \"Arma 3로 생성한 군사용 가상 데이터를 \\n활용한 실세계 일반 객체탐지 성능 향상에 관한 연구\" 한국소프트웨어공학학술대회 (KCSE), \\n한국정보과학회x한국정보처리학회 공동주최, 강원 평창 한화리조트, 2025.01.20. - 01.22. (NRF) \\n▪ 임재서*, 김예찬*, 박종현*, 김시현, 전문구, 조규태, 진정훈, 김지아. \"ABS: 전장 상황인식을 위\\n한 Arma3 기반 가상 데이터 생성 프레임워크\" Korea Computer Congress 2024, Jeju, \\n2024.06.26.-06.28. \\n▪ 김예찬, 박종현, 오중균, 고영민, 전문구. \"위성영상에서의 군 표적탐지 고도화를 위한 가상 데\\n이터 생성 연구\", Korea Computer Congress 2023. (Best Paper Award) \\n▪ 박종현, 김예찬, 전문구. \"국방 AI 감시체계 구축을 위한 ARMA3 기반 위성 데이터셋 합성 방\\n안\", Korea Software Congress 2022. \\n▪ 박종현\\uf02c 안성은\\uf02c 조우현\\uf02c ROS 기반 군집로봇의 지능형 추적 알고리즘 설계, 한\\n국정보처리학회 학술대회논문집, 2020. \\n▪ Patents \\n▪ 김지아, 권철희, 조규태, 진정훈, 박종현, 김성헌, 김예찬, 전문구, \"시각 질의 응답 모델의 학습을 위한 \\n학습 데이터 생성 방법 및 장치\", 국내 출원번호: 10-2025-0039703, 출원일자: 2025.03.27. (Ack: LIG \\nNex1) \\n▪ 김예찬, 박종현, 전문구, \"표적 탐지를 위한 가상 영상 데이터 생성 장치, 방법 및 컴퓨터 프로그램\", 국\\n내 출원번호: 10-2023-0156525, 출원일자: 2023.11.13. (Ack: ADD)')"
      ]
     },
     "execution_count": 37,
     "metadata": {},
     "output_type": "execute_result"
    }
   ],
   "execution_count": 37
  },
  {
   "metadata": {
    "ExecuteTime": {
     "end_time": "2025-05-22T14:36:51.508698Z",
     "start_time": "2025-05-22T14:36:51.494698Z"
    }
   },
   "cell_type": "code",
   "source": [
    "# text_splitter = RecursiveCharacterTextSplitter(chunk_size=500, chunk_overlap=0)\n",
    "\n",
    "text_splitter = CharacterTextSplitter.from_tiktoken_encoder(\n",
    "    chunk_size=500,\n",
    "    chunk_overlap=0,\n",
    "    encoding_name=\"cl100k_base\",\n",
    ")\n",
    "texts = text_splitter.split_documents(pages)"
   ],
   "id": "3cee96c9e7126fd7",
   "outputs": [],
   "execution_count": 56
  },
  {
   "metadata": {
    "ExecuteTime": {
     "end_time": "2025-05-22T14:36:52.131767Z",
     "start_time": "2025-05-22T14:36:52.118770Z"
    }
   },
   "cell_type": "code",
   "source": "texts",
   "id": "92fa37452b18bfa1",
   "outputs": [
    {
     "data": {
      "text/plain": [
       "[Document(metadata={'producer': 'Microsoft® Word Microsoft 365용', 'creator': 'Microsoft® Word Microsoft 365용', 'creationdate': '2025-05-22T16:01:03+09:00', 'author': 'YechanKim', 'moddate': '2025-05-22T16:01:03+09:00', 'source': './RAG-Practice-PDF-JongHyun.pdf', 'total_pages': 3, 'page': 0, 'page_label': '1'}, page_content='영문명 \\n- JongHyun Park \\n어디 출신? \\n- 경기 수원 \\n- 1997년 1월 12일에 태어났으며, 부모님은 LG전자 사내연애를 통해 눈이 맞으심. \\n- 가족 관계로는 부모님과 여동생 1명이 있음. \\n병역? \\n- 2016년 1월 18일 입대하여, 2017년 10월 17일 병장으로 해병대를 전역함. 군번\\n은 16-72000349. 병과는 21/1. 해병대 제1사단 전차대대 소속이었음. \\n- 해병대 상병 계급일 때, 해병대교육훈련단장으로부터 공수휘장패용증을 수여 받\\n은 바 있음. \\n자격? \\n- 인명구조요원, 응급처치법전문과정 자격증 보유 \\n어학 연수 경험? \\n- 해외 어학 연수 경험 없음 \\n- 다만, 유아 시절, ‘영어 유치원’을 다니며 영어 회화 실력을 키워옴 \\n학력? \\n- 학사 학위는 2021년 2월 경기에 있는 수원대학교에서 취득하였음. 정보통신학부\\n를 최우등으로 졸업하였음. \\n- 석사 학위는 2023년 8월 광주과학기술원 전기전자컴퓨터공학부에서 취득하였음. \\n지도교수는 전문구. \\n- 2023년 9월부터 광주과학기술원 전기전자컴퓨터공학부 박사과정에 재학 중. \\n \\n박종현 연구원의 여자친구 성명은 ‘김수연’ 입니다. \\n안녕하십니까? \\n박종현 연구원입니다. \\n제 소개를 드리도록 하지요.'),\n",
       " Document(metadata={'producer': 'Microsoft® Word Microsoft 365용', 'creator': 'Microsoft® Word Microsoft 365용', 'creationdate': '2025-05-22T16:01:03+09:00', 'author': 'YechanKim', 'moddate': '2025-05-22T16:01:03+09:00', 'source': './RAG-Practice-PDF-JongHyun.pdf', 'total_pages': 3, 'page': 1, 'page_label': '2'}, page_content='박종현 연구원의 업적은 다음과 같음: \\n▪ Selected Papers \\n▪ International Conference \\n▪ Jonghyun Park, Yongmin Ju, Wonil Choi, Hong Kook Kim, and Moongu Jeon, Seamless \\nIntegration of 3D LiDAR into ROS-based 2D Navigation Systems, Automation, Robotics & \\nCommunications for Industry 4.0/5.0 (ARCI\\' 2025), 2025. (Ack: MIT)  \\n▪ Y. Kim, J. Park, S. Kim, S. Kim, S. Kim, Y. Ko, J. Oh and M. Jeon, Towards large-scale \\nbenchmark dataset for remote sensing object detection on battlefield, ICCE-Asia (IEEE \\nInternational Conference on Consumer Electronics-Asia), 2024. (Ack: ADD) \\n▪ Domestic Journal \\n▪ 김예찬, 박종현, 김수연, 김시현, 김성헌, 고영민, 오중균, 윤동호, 전문구. \"위성영상에서의 군 \\n표적탐지를 위한 ARMA3 기반의 가상 데이터 생성 연구\", Journal of KIISE (2024) \\n▪ 한대영, 김예찬, 박종현, 윤동호, 전문구. \"A Diffusion-based Data Augmentation Method for \\nSAR Object Detection\", Journal of KIIT (2024) \\n▪ Domestic Conference \\n▪ 김수연*, 김예찬*, 박종현, 김성헌, 김기웅, 전문구. \"Arma 3로 생성한 군사용 가상 데이터를 \\n활용한 실세계 일반 객체탐지 성능 향상에 관한 연구\" 한국소프트웨어공학학술대회 (KCSE), \\n한국정보과학회x한국정보처리학회 공동주최, 강원 평창 한화리조트, 2025.01.20. - 01.22. (NRF) \\n▪ 임재서*, 김예찬*, 박종현*, 김시현, 전문구, 조규태, 진정훈, 김지아. \"ABS: 전장 상황인식을 위\\n한 Arma3 기반 가상 데이터 생성 프레임워크\" Korea Computer Congress 2024, Jeju, \\n2024.06.26.-06.28. \\n▪ 김예찬, 박종현, 오중균, 고영민, 전문구. \"위성영상에서의 군 표적탐지 고도화를 위한 가상 데\\n이터 생성 연구\", Korea Computer Congress 2023. (Best Paper Award) \\n▪ 박종현, 김예찬, 전문구. \"국방 AI 감시체계 구축을 위한 ARMA3 기반 위성 데이터셋 합성 방\\n안\", Korea Software Congress 2022. \\n▪ 박종현\\uf02c 안성은\\uf02c 조우현\\uf02c ROS 기반 군집로봇의 지능형 추적 알고리즘 설계, 한\\n국정보처리학회 학술대회논문집, 2020. \\n▪ Patents \\n▪ 김지아, 권철희, 조규태, 진정훈, 박종현, 김성헌, 김예찬, 전문구, \"시각 질의 응답 모델의 학습을 위한 \\n학습 데이터 생성 방법 및 장치\", 국내 출원번호: 10-2025-0039703, 출원일자: 2025.03.27. (Ack: LIG \\nNex1) \\n▪ 김예찬, 박종현, 전문구, \"표적 탐지를 위한 가상 영상 데이터 생성 장치, 방법 및 컴퓨터 프로그램\", 국\\n내 출원번호: 10-2023-0156525, 출원일자: 2023.11.13. (Ack: ADD)'),\n",
       " Document(metadata={'producer': 'Microsoft® Word Microsoft 365용', 'creator': 'Microsoft® Word Microsoft 365용', 'creationdate': '2025-05-22T16:01:03+09:00', 'author': 'YechanKim', 'moddate': '2025-05-22T16:01:03+09:00', 'source': './RAG-Practice-PDF-JongHyun.pdf', 'total_pages': 3, 'page': 2, 'page_label': '3'}, page_content='현재 박종현 연구원이 참여 중인 연구 과제는 다음과 같음: \\n⚫ 다중 시점의 실세계 환경에서 강건한 밀도추정 및 군중 분석 기술 연구 (후원: \\n한국연구재단, 실무담당자: 김예찬) \\n⚫ 초거대 AI 모델 기반 상황인식 및 의사결심지원 알고리즘 기술 개발 (후원: LIG넥\\n스원, 실무담당자: 박종현) \\n⚫ 새로운 모달리티와 계산 효율적인 대조 학습 연구 (GIST-MIT공동연구, 후원: GIST \\n자체재원, 실무담당자: 김예찬, 김성헌) \\n \\n박종현 연구원이 참여하였던 연구 과제는 다음과 같음: \\n⚫ 위성영상에서의 트랜스포머 구조 기반 표적탐지/인식 연구 (후원: 국방과학연구\\n소, 실무담당자: 김예찬) \\n⚫ 인공지능 기반 어린이 독서활동 지원 로봇 및 서비스 콘텐츠 개발 (후원: 한국콘\\n텐츠진흥원, 실무담당자: 박종현, 고영민) \\n \\n박종현 연구원에 대하여 더 자세한 정보가 알고 싶으시다면, \\n⚫ 주소: GIST 전기전자컴퓨터공학부 C동 306호 \\n⚫ 전자우편: citizen135@gm.gist.ac.kr \\n⚫ 연구실 전화: 062-715-3254')]"
      ]
     },
     "execution_count": 57,
     "metadata": {},
     "output_type": "execute_result"
    }
   ],
   "execution_count": 57
  },
  {
   "metadata": {
    "ExecuteTime": {
     "end_time": "2025-05-22T14:36:47.387327Z",
     "start_time": "2025-05-22T14:36:47.374817Z"
    }
   },
   "cell_type": "code",
   "source": "len(texts)",
   "id": "cc60ab715f42e4da",
   "outputs": [
    {
     "data": {
      "text/plain": [
       "3"
      ]
     },
     "execution_count": 55,
     "metadata": {},
     "output_type": "execute_result"
    }
   ],
   "execution_count": 55
  },
  {
   "metadata": {
    "ExecuteTime": {
     "end_time": "2025-05-22T14:36:57.982696Z",
     "start_time": "2025-05-22T14:36:57.970187Z"
    }
   },
   "cell_type": "code",
   "source": "texts[0].page_content",
   "id": "5f8d0b6799c4272d",
   "outputs": [
    {
     "data": {
      "text/plain": [
       "'영문명 \\n- JongHyun Park \\n어디 출신? \\n- 경기 수원 \\n- 1997년 1월 12일에 태어났으며, 부모님은 LG전자 사내연애를 통해 눈이 맞으심. \\n- 가족 관계로는 부모님과 여동생 1명이 있음. \\n병역? \\n- 2016년 1월 18일 입대하여, 2017년 10월 17일 병장으로 해병대를 전역함. 군번\\n은 16-72000349. 병과는 21/1. 해병대 제1사단 전차대대 소속이었음. \\n- 해병대 상병 계급일 때, 해병대교육훈련단장으로부터 공수휘장패용증을 수여 받\\n은 바 있음. \\n자격? \\n- 인명구조요원, 응급처치법전문과정 자격증 보유 \\n어학 연수 경험? \\n- 해외 어학 연수 경험 없음 \\n- 다만, 유아 시절, ‘영어 유치원’을 다니며 영어 회화 실력을 키워옴 \\n학력? \\n- 학사 학위는 2021년 2월 경기에 있는 수원대학교에서 취득하였음. 정보통신학부\\n를 최우등으로 졸업하였음. \\n- 석사 학위는 2023년 8월 광주과학기술원 전기전자컴퓨터공학부에서 취득하였음. \\n지도교수는 전문구. \\n- 2023년 9월부터 광주과학기술원 전기전자컴퓨터공학부 박사과정에 재학 중. \\n \\n박종현 연구원의 여자친구 성명은 ‘김수연’ 입니다. \\n안녕하십니까? \\n박종현 연구원입니다. \\n제 소개를 드리도록 하지요.'"
      ]
     },
     "execution_count": 58,
     "metadata": {},
     "output_type": "execute_result"
    }
   ],
   "execution_count": 58
  },
  {
   "metadata": {
    "ExecuteTime": {
     "end_time": "2025-05-22T14:37:00.042479Z",
     "start_time": "2025-05-22T14:37:00.030479Z"
    }
   },
   "cell_type": "code",
   "source": "texts[1].page_content",
   "id": "983193a1b52782e8",
   "outputs": [
    {
     "data": {
      "text/plain": [
       "'박종현 연구원의 업적은 다음과 같음: \\n▪ Selected Papers \\n▪ International Conference \\n▪ Jonghyun Park, Yongmin Ju, Wonil Choi, Hong Kook Kim, and Moongu Jeon, Seamless \\nIntegration of 3D LiDAR into ROS-based 2D Navigation Systems, Automation, Robotics & \\nCommunications for Industry 4.0/5.0 (ARCI\\' 2025), 2025. (Ack: MIT)  \\n▪ Y. Kim, J. Park, S. Kim, S. Kim, S. Kim, Y. Ko, J. Oh and M. Jeon, Towards large-scale \\nbenchmark dataset for remote sensing object detection on battlefield, ICCE-Asia (IEEE \\nInternational Conference on Consumer Electronics-Asia), 2024. (Ack: ADD) \\n▪ Domestic Journal \\n▪ 김예찬, 박종현, 김수연, 김시현, 김성헌, 고영민, 오중균, 윤동호, 전문구. \"위성영상에서의 군 \\n표적탐지를 위한 ARMA3 기반의 가상 데이터 생성 연구\", Journal of KIISE (2024) \\n▪ 한대영, 김예찬, 박종현, 윤동호, 전문구. \"A Diffusion-based Data Augmentation Method for \\nSAR Object Detection\", Journal of KIIT (2024) \\n▪ Domestic Conference \\n▪ 김수연*, 김예찬*, 박종현, 김성헌, 김기웅, 전문구. \"Arma 3로 생성한 군사용 가상 데이터를 \\n활용한 실세계 일반 객체탐지 성능 향상에 관한 연구\" 한국소프트웨어공학학술대회 (KCSE), \\n한국정보과학회x한국정보처리학회 공동주최, 강원 평창 한화리조트, 2025.01.20. - 01.22. (NRF) \\n▪ 임재서*, 김예찬*, 박종현*, 김시현, 전문구, 조규태, 진정훈, 김지아. \"ABS: 전장 상황인식을 위\\n한 Arma3 기반 가상 데이터 생성 프레임워크\" Korea Computer Congress 2024, Jeju, \\n2024.06.26.-06.28. \\n▪ 김예찬, 박종현, 오중균, 고영민, 전문구. \"위성영상에서의 군 표적탐지 고도화를 위한 가상 데\\n이터 생성 연구\", Korea Computer Congress 2023. (Best Paper Award) \\n▪ 박종현, 김예찬, 전문구. \"국방 AI 감시체계 구축을 위한 ARMA3 기반 위성 데이터셋 합성 방\\n안\", Korea Software Congress 2022. \\n▪ 박종현\\uf02c 안성은\\uf02c 조우현\\uf02c ROS 기반 군집로봇의 지능형 추적 알고리즘 설계, 한\\n국정보처리학회 학술대회논문집, 2020. \\n▪ Patents \\n▪ 김지아, 권철희, 조규태, 진정훈, 박종현, 김성헌, 김예찬, 전문구, \"시각 질의 응답 모델의 학습을 위한 \\n학습 데이터 생성 방법 및 장치\", 국내 출원번호: 10-2025-0039703, 출원일자: 2025.03.27. (Ack: LIG \\nNex1) \\n▪ 김예찬, 박종현, 전문구, \"표적 탐지를 위한 가상 영상 데이터 생성 장치, 방법 및 컴퓨터 프로그램\", 국\\n내 출원번호: 10-2023-0156525, 출원일자: 2023.11.13. (Ack: ADD)'"
      ]
     },
     "execution_count": 59,
     "metadata": {},
     "output_type": "execute_result"
    }
   ],
   "execution_count": 59
  },
  {
   "metadata": {
    "ExecuteTime": {
     "end_time": "2025-05-22T14:37:01.641661Z",
     "start_time": "2025-05-22T14:37:01.630660Z"
    }
   },
   "cell_type": "code",
   "source": "texts[2].page_content",
   "id": "89ec51929ef744b9",
   "outputs": [
    {
     "data": {
      "text/plain": [
       "'현재 박종현 연구원이 참여 중인 연구 과제는 다음과 같음: \\n⚫ 다중 시점의 실세계 환경에서 강건한 밀도추정 및 군중 분석 기술 연구 (후원: \\n한국연구재단, 실무담당자: 김예찬) \\n⚫ 초거대 AI 모델 기반 상황인식 및 의사결심지원 알고리즘 기술 개발 (후원: LIG넥\\n스원, 실무담당자: 박종현) \\n⚫ 새로운 모달리티와 계산 효율적인 대조 학습 연구 (GIST-MIT공동연구, 후원: GIST \\n자체재원, 실무담당자: 김예찬, 김성헌) \\n \\n박종현 연구원이 참여하였던 연구 과제는 다음과 같음: \\n⚫ 위성영상에서의 트랜스포머 구조 기반 표적탐지/인식 연구 (후원: 국방과학연구\\n소, 실무담당자: 김예찬) \\n⚫ 인공지능 기반 어린이 독서활동 지원 로봇 및 서비스 콘텐츠 개발 (후원: 한국콘\\n텐츠진흥원, 실무담당자: 박종현, 고영민) \\n \\n박종현 연구원에 대하여 더 자세한 정보가 알고 싶으시다면, \\n⚫ 주소: GIST 전기전자컴퓨터공학부 C동 306호 \\n⚫ 전자우편: citizen135@gm.gist.ac.kr \\n⚫ 연구실 전화: 062-715-3254'"
      ]
     },
     "execution_count": 60,
     "metadata": {},
     "output_type": "execute_result"
    }
   ],
   "execution_count": 60
  },
  {
   "metadata": {
    "ExecuteTime": {
     "end_time": "2025-05-22T14:37:18.524900Z",
     "start_time": "2025-05-22T14:37:13.837816Z"
    }
   },
   "cell_type": "code",
   "source": "model = HuggingFaceEmbeddings(model_name='BAAI/bge-m3')",
   "id": "8e06a2c16568ca90",
   "outputs": [],
   "execution_count": 61
  },
  {
   "metadata": {
    "ExecuteTime": {
     "end_time": "2025-05-22T14:53:57.870869Z",
     "start_time": "2025-05-22T14:53:53.883286Z"
    }
   },
   "cell_type": "code",
   "source": "chroma_db = Chroma.from_documents(texts, model)",
   "id": "c58fdd953692cec3",
   "outputs": [],
   "execution_count": 77
  },
  {
   "metadata": {
    "ExecuteTime": {
     "end_time": "2025-05-22T14:53:58.729169Z",
     "start_time": "2025-05-22T14:53:58.716660Z"
    }
   },
   "cell_type": "code",
   "source": "chroma_db._collection.count()",
   "id": "d817eec298e13c50",
   "outputs": [
    {
     "data": {
      "text/plain": [
       "26"
      ]
     },
     "execution_count": 78,
     "metadata": {},
     "output_type": "execute_result"
    }
   ],
   "execution_count": 78
  },
  {
   "metadata": {
    "ExecuteTime": {
     "end_time": "2025-05-22T14:54:01.708570Z",
     "start_time": "2025-05-22T14:54:01.556538Z"
    }
   },
   "cell_type": "code",
   "source": [
    "question = \"박종현 연구원이 실무 담당자로 참여했거나, 참여 중인 과제 목록은?\"\n",
    "docs = chroma_db.similarity_search_with_relevance_scores(question, k=2)\n",
    "for doc in docs:\n",
    "    print(doc)"
   ],
   "id": "9e1ec197113e6dc3",
   "outputs": [
    {
     "name": "stdout",
     "output_type": "stream",
     "text": [
      "(Document(metadata={'creationdate': '2025-05-22T16:01:03+09:00', 'page_label': '3', 'moddate': '2025-05-22T16:01:03+09:00', 'page': 2, 'source': './RAG-Practice-PDF-JongHyun.pdf', 'creator': 'Microsoft® Word Microsoft 365용', 'total_pages': 3, 'producer': 'Microsoft® Word Microsoft 365용', 'author': 'YechanKim'}, page_content='현재 박종현 연구원이 참여 중인 연구 과제는 다음과 같음: \\n⚫ 다중 시점의 실세계 환경에서 강건한 밀도추정 및 군중 분석 기술 연구 (후원: \\n한국연구재단, 실무담당자: 김예찬) \\n⚫ 초거대 AI 모델 기반 상황인식 및 의사결심지원 알고리즘 기술 개발 (후원: LIG넥\\n스원, 실무담당자: 박종현) \\n⚫ 새로운 모달리티와 계산 효율적인 대조 학습 연구 (GIST-MIT공동연구, 후원: GIST \\n자체재원, 실무담당자: 김예찬, 김성헌) \\n \\n박종현 연구원이 참여하였던 연구 과제는 다음과 같음: \\n⚫ 위성영상에서의 트랜스포머 구조 기반 표적탐지/인식 연구 (후원: 국방과학연구\\n소, 실무담당자: 김예찬) \\n⚫ 인공지능 기반 어린이 독서활동 지원 로봇 및 서비스 콘텐츠 개발 (후원: 한국콘\\n텐츠진흥원, 실무담당자: 박종현, 고영민) \\n \\n박종현 연구원에 대하여 더 자세한 정보가 알고 싶으시다면, \\n⚫ 주소: GIST 전기전자컴퓨터공학부 C동 306호'), 0.5601739492599577)\n",
      "(Document(metadata={'creator': 'Microsoft® Word Microsoft 365용', 'creationdate': '2025-05-22T16:01:03+09:00', 'total_pages': 3, 'moddate': '2025-05-22T16:01:03+09:00', 'producer': 'Microsoft® Word Microsoft 365용', 'source': './RAG-Practice-PDF-JongHyun.pdf', 'author': 'YechanKim', 'page_label': '3', 'page': 2}, page_content='현재 박종현 연구원이 참여 중인 연구 과제는 다음과 같음: \\n⚫ 다중 시점의 실세계 환경에서 강건한 밀도추정 및 군중 분석 기술 연구 (후원: \\n한국연구재단, 실무담당자: 김예찬) \\n⚫ 초거대 AI 모델 기반 상황인식 및 의사결심지원 알고리즘 기술 개발 (후원: LIG넥\\n스원, 실무담당자: 박종현) \\n⚫ 새로운 모달리티와 계산 효율적인 대조 학습 연구 (GIST-MIT공동연구, 후원: GIST \\n자체재원, 실무담당자: 김예찬, 김성헌) \\n \\n박종현 연구원이 참여하였던 연구 과제는 다음과 같음: \\n⚫ 위성영상에서의 트랜스포머 구조 기반 표적탐지/인식 연구 (후원: 국방과학연구\\n소, 실무담당자: 김예찬) \\n⚫ 인공지능 기반 어린이 독서활동 지원 로봇 및 서비스 콘텐츠 개발 (후원: 한국콘\\n텐츠진흥원, 실무담당자: 박종현, 고영민) \\n \\n박종현 연구원에 대하여 더 자세한 정보가 알고 싶으시다면, \\n⚫ 주소: GIST 전기전자컴퓨터공학부 C동 306호 \\n⚫ 전자우편: citizen135@gm.gist.ac.kr \\n⚫ 연구실 전화: 062-715-3254'), 0.5517729022399782)\n"
     ]
    }
   ],
   "execution_count": 79
  },
  {
   "metadata": {},
   "cell_type": "code",
   "outputs": [],
   "execution_count": null,
   "source": [
    "from langchain_openai import ChatOpenAI\n",
    "from langchain import PromptTemplate\n",
    "from langchain.chains import RetrievalQA\n",
    "import os"
   ],
   "id": "91742cb3669076e9"
  },
  {
   "metadata": {
    "ExecuteTime": {
     "end_time": "2025-05-22T14:57:41.480249Z",
     "start_time": "2025-05-22T14:57:41.473250Z"
    }
   },
   "cell_type": "code",
   "source": "os.environ['OPENAI_API_KEY'] = '비밀@'",
   "id": "8082f4fb1d2d9d7c",
   "outputs": [],
   "execution_count": 83
  },
  {
   "metadata": {
    "ExecuteTime": {
     "end_time": "2025-05-22T15:06:29.402850Z",
     "start_time": "2025-05-22T15:06:29.389850Z"
    }
   },
   "cell_type": "code",
   "source": [
    "template = '''당신은 박종현 연구원의 이력서를 설명해주는 챗봇입니다. 주어진 검색 결과를 바탕으로 답변하세요.\n",
    "검색 결과에 없는 내용이라면, 답변할 수 없다고 하세요. 존댓말로 답하세요.\n",
    "{context}\n",
    "\n",
    "question: {question}\n",
    "answer:\n",
    "'''\n",
    "\n",
    "# template = '''당신은 박종현 연구원의 이력서를 설명해주는 챗봇입니다. 주어진 검색 결과를 바탕으로 답변하세요.\n",
    "# 검색 결과에 없는 내용이라면, 답변할 수 없다고 하세요. 이모지를 이용해서 친근하게 반말로 답해보세요!\n",
    "# {context}\n",
    "#\n",
    "# question: {question}\n",
    "# answer:\n",
    "# '''\n",
    "\n",
    "prompt = PromptTemplate.from_template(template)"
   ],
   "id": "41978c34aa846c5b",
   "outputs": [],
   "execution_count": 93
  },
  {
   "metadata": {
    "ExecuteTime": {
     "end_time": "2025-05-22T15:00:51.987925Z",
     "start_time": "2025-05-22T15:00:51.099715Z"
    }
   },
   "cell_type": "code",
   "source": "llm = ChatOpenAI(model_name='gpt-4o')",
   "id": "32cbfba25f7d3228",
   "outputs": [],
   "execution_count": 85
  },
  {
   "metadata": {
    "ExecuteTime": {
     "end_time": "2025-05-22T15:01:23.314095Z",
     "start_time": "2025-05-22T15:01:21.792902Z"
    }
   },
   "cell_type": "code",
   "source": [
    "result = llm.invoke('안녕! 너는 누구야?')\n",
    "print(result.content)"
   ],
   "id": "288b3d044bd80e91",
   "outputs": [
    {
     "name": "stdout",
     "output_type": "stream",
     "text": [
      "안녕하세요! 저는 OpenAI에서 개발한 AI 언어 모델입니다. 어떻게 도와드릴까요?\n"
     ]
    }
   ],
   "execution_count": 86
  },
  {
   "metadata": {
    "ExecuteTime": {
     "end_time": "2025-05-22T15:02:45.376649Z",
     "start_time": "2025-05-22T15:02:45.363649Z"
    }
   },
   "cell_type": "code",
   "source": "retriever = chroma_db.as_retriever(search_kwargs={'k': 2})",
   "id": "11a8cbcc24968423",
   "outputs": [],
   "execution_count": 88
  },
  {
   "metadata": {
    "ExecuteTime": {
     "end_time": "2025-05-22T15:04:18.199211Z",
     "start_time": "2025-05-22T15:04:18.186211Z"
    }
   },
   "cell_type": "code",
   "source": [
    "qa_chain = RetrievalQA.from_chain_type(\n",
    "    llm=llm,\n",
    "    retriever=retriever,\n",
    "    chain_type_kwargs={'prompt': prompt},\n",
    "    return_source_documents=True,\n",
    ")"
   ],
   "id": "ed8e8bd796133fb1",
   "outputs": [],
   "execution_count": 90
  },
  {
   "metadata": {
    "ExecuteTime": {
     "end_time": "2025-05-22T15:07:55.451141Z",
     "start_time": "2025-05-22T15:07:53.232878Z"
    }
   },
   "cell_type": "code",
   "source": [
    "question = \"박종현 연구원이 실무 담당자로 참여했거나, 참여 중인 과제 목록은?\"\n",
    "chatbot_response = qa_chain.invoke(question)"
   ],
   "id": "f2942127cf4fb55c",
   "outputs": [],
   "execution_count": 97
  },
  {
   "metadata": {
    "ExecuteTime": {
     "end_time": "2025-05-22T15:07:56.890333Z",
     "start_time": "2025-05-22T15:07:56.877318Z"
    }
   },
   "cell_type": "code",
   "source": "chatbot_response",
   "id": "73a54cd9b9208070",
   "outputs": [
    {
     "data": {
      "text/plain": [
       "{'query': '박종현 연구원이 실무 담당자로 참여했거나, 참여 중인 과제 목록은?',\n",
       " 'result': '박종현 연구원이 실무 담당자로 참여했거나, 참여 중인 과제는 다음과 같습니다:\\n\\n1. 초거대 AI 모델 기반 상황인식 및 의사결심지원 알고리즘 기술 개발 (후원: LIG넥스원)\\n2. 인공지능 기반 어린이 독서활동 지원 로봇 및 서비스 콘텐츠 개발 (후원: 한국콘텐츠진흥원)',\n",
       " 'source_documents': [Document(metadata={'page_label': '3', 'total_pages': 3, 'moddate': '2025-05-22T16:01:03+09:00', 'producer': 'Microsoft® Word Microsoft 365용', 'creationdate': '2025-05-22T16:01:03+09:00', 'author': 'YechanKim', 'page': 2, 'creator': 'Microsoft® Word Microsoft 365용', 'source': './RAG-Practice-PDF-JongHyun.pdf'}, page_content='현재 박종현 연구원이 참여 중인 연구 과제는 다음과 같음: \\n⚫ 다중 시점의 실세계 환경에서 강건한 밀도추정 및 군중 분석 기술 연구 (후원: \\n한국연구재단, 실무담당자: 김예찬) \\n⚫ 초거대 AI 모델 기반 상황인식 및 의사결심지원 알고리즘 기술 개발 (후원: LIG넥\\n스원, 실무담당자: 박종현) \\n⚫ 새로운 모달리티와 계산 효율적인 대조 학습 연구 (GIST-MIT공동연구, 후원: GIST \\n자체재원, 실무담당자: 김예찬, 김성헌) \\n \\n박종현 연구원이 참여하였던 연구 과제는 다음과 같음: \\n⚫ 위성영상에서의 트랜스포머 구조 기반 표적탐지/인식 연구 (후원: 국방과학연구\\n소, 실무담당자: 김예찬) \\n⚫ 인공지능 기반 어린이 독서활동 지원 로봇 및 서비스 콘텐츠 개발 (후원: 한국콘\\n텐츠진흥원, 실무담당자: 박종현, 고영민) \\n \\n박종현 연구원에 대하여 더 자세한 정보가 알고 싶으시다면, \\n⚫ 주소: GIST 전기전자컴퓨터공학부 C동 306호'),\n",
       "  Document(metadata={'producer': 'Microsoft® Word Microsoft 365용', 'page': 2, 'source': './RAG-Practice-PDF-JongHyun.pdf', 'page_label': '3', 'moddate': '2025-05-22T16:01:03+09:00', 'total_pages': 3, 'creationdate': '2025-05-22T16:01:03+09:00', 'author': 'YechanKim', 'creator': 'Microsoft® Word Microsoft 365용'}, page_content='현재 박종현 연구원이 참여 중인 연구 과제는 다음과 같음: \\n⚫ 다중 시점의 실세계 환경에서 강건한 밀도추정 및 군중 분석 기술 연구 (후원: \\n한국연구재단, 실무담당자: 김예찬) \\n⚫ 초거대 AI 모델 기반 상황인식 및 의사결심지원 알고리즘 기술 개발 (후원: LIG넥\\n스원, 실무담당자: 박종현) \\n⚫ 새로운 모달리티와 계산 효율적인 대조 학습 연구 (GIST-MIT공동연구, 후원: GIST \\n자체재원, 실무담당자: 김예찬, 김성헌) \\n \\n박종현 연구원이 참여하였던 연구 과제는 다음과 같음: \\n⚫ 위성영상에서의 트랜스포머 구조 기반 표적탐지/인식 연구 (후원: 국방과학연구\\n소, 실무담당자: 김예찬) \\n⚫ 인공지능 기반 어린이 독서활동 지원 로봇 및 서비스 콘텐츠 개발 (후원: 한국콘\\n텐츠진흥원, 실무담당자: 박종현, 고영민) \\n \\n박종현 연구원에 대하여 더 자세한 정보가 알고 싶으시다면, \\n⚫ 주소: GIST 전기전자컴퓨터공학부 C동 306호 \\n⚫ 전자우편: citizen135@gm.gist.ac.kr \\n⚫ 연구실 전화: 062-715-3254')]}"
      ]
     },
     "execution_count": 98,
     "metadata": {},
     "output_type": "execute_result"
    }
   ],
   "execution_count": 98
  },
  {
   "metadata": {
    "ExecuteTime": {
     "end_time": "2025-05-22T15:08:30.655130Z",
     "start_time": "2025-05-22T15:08:30.643131Z"
    }
   },
   "cell_type": "code",
   "source": "print(chatbot_response['result'])",
   "id": "e94855104ea17fa2",
   "outputs": [
    {
     "name": "stdout",
     "output_type": "stream",
     "text": [
      "박종현 연구원이 실무 담당자로 참여했거나, 참여 중인 과제는 다음과 같습니다:\n",
      "\n",
      "1. 초거대 AI 모델 기반 상황인식 및 의사결심지원 알고리즘 기술 개발 (후원: LIG넥스원)\n",
      "2. 인공지능 기반 어린이 독서활동 지원 로봇 및 서비스 콘텐츠 개발 (후원: 한국콘텐츠진흥원)\n"
     ]
    }
   ],
   "execution_count": 100
  },
  {
   "metadata": {
    "ExecuteTime": {
     "end_time": "2025-05-22T15:10:12.787072Z",
     "start_time": "2025-05-22T15:10:11.237216Z"
    }
   },
   "cell_type": "code",
   "source": [
    "question = '박종현 연구원이 고소한 직원 이름은?'\n",
    "chatbot_response = qa_chain.invoke(question)\n",
    "print(chatbot_response['result'])"
   ],
   "id": "ffcff8b412cd76f9",
   "outputs": [
    {
     "name": "stdout",
     "output_type": "stream",
     "text": [
      "죄송합니다. 해당 내용에 대한 정보는 제공되지 않았습니다. 다른 질문이 있으시면 도와드리겠습니다.\n"
     ]
    }
   ],
   "execution_count": 102
  },
  {
   "metadata": {
    "ExecuteTime": {
     "end_time": "2025-05-22T15:10:29.907149Z",
     "start_time": "2025-05-22T15:10:27.202777Z"
    }
   },
   "cell_type": "code",
   "source": [
    "question = '박종현 연구원의 이메일 주소는?'\n",
    "chatbot_response = qa_chain.invoke(question)\n",
    "print(chatbot_response['result'])"
   ],
   "id": "9f23375e704eb220",
   "outputs": [
    {
     "name": "stdout",
     "output_type": "stream",
     "text": [
      "죄송하지만, 제공된 검색 결과에는 박종현 연구원의 이메일 주소에 대한 정보가 없습니다. 다른 질문이 있으면 말씀해 주세요.\n"
     ]
    }
   ],
   "execution_count": 103
  },
  {
   "metadata": {},
   "cell_type": "code",
   "outputs": [],
   "execution_count": null,
   "source": "",
   "id": "130f6c4a78b314e5"
  }
 ],
 "metadata": {
  "kernelspec": {
   "display_name": "Python 3",
   "language": "python",
   "name": "python3"
  },
  "language_info": {
   "codemirror_mode": {
    "name": "ipython",
    "version": 2
   },
   "file_extension": ".py",
   "mimetype": "text/x-python",
   "name": "python",
   "nbconvert_exporter": "python",
   "pygments_lexer": "ipython2",
   "version": "2.7.6"
  }
 },
 "nbformat": 4,
 "nbformat_minor": 5
}
