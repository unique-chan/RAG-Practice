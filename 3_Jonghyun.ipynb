{
 "cells": [
  {
   "cell_type": "code",
   "id": "initial_id",
   "metadata": {
    "collapsed": true,
    "ExecuteTime": {
     "end_time": "2025-05-22T07:38:00.980103Z",
     "start_time": "2025-05-22T07:38:00.967966Z"
    }
   },
   "source": [
    "import tiktoken\n",
    "import openai\n",
    "from langchain.embeddings.sentence_transformer import SentenceTransformerEmbeddings\n",
    "from langchain.text_splitter import RecursiveCharacterTextSplitter, CharacterTextSplitter\n",
    "from langchain.vectorstores import Chroma\n",
    "from langchain.document_loaders import TextLoader\n",
    "from langchain.document_loaders import PyPDFLoader\n",
    "from langchain.document_loaders import WebBaseLoader\n",
    "from langchain.embeddings import HuggingFaceEmbeddings\n",
    "from langchain.retrievers  import BM25Retriever\n",
    "from langchain.retrievers import EnsembleRetriever\n",
    "from langchain_community.vectorstores import FAISS"
   ],
   "outputs": [],
   "execution_count": 16
  },
  {
   "metadata": {
    "ExecuteTime": {
     "end_time": "2025-05-22T07:29:14.012198Z",
     "start_time": "2025-05-22T07:29:13.539925Z"
    }
   },
   "cell_type": "code",
   "source": [
    "loader = PyPDFLoader('./RAG-Practice-PDF-JongHyun.pdf')\n",
    "pages = loader.load_and_split() # pdf 페이지 단위로 쪼깨서 읽어 들임\n",
    "print(len(pages))"
   ],
   "id": "90bc4f4973ff266",
   "outputs": [
    {
     "name": "stdout",
     "output_type": "stream",
     "text": [
      "3\n"
     ]
    }
   ],
   "execution_count": 2
  },
  {
   "metadata": {
    "ExecuteTime": {
     "end_time": "2025-05-22T07:30:07.967921Z",
     "start_time": "2025-05-22T07:30:07.955817Z"
    }
   },
   "cell_type": "code",
   "source": "pages[1]",
   "id": "6a77e55b8b2ffc10",
   "outputs": [
    {
     "data": {
      "text/plain": [
       "Document(metadata={'producer': 'Microsoft® Word Microsoft 365용', 'creator': 'Microsoft® Word Microsoft 365용', 'creationdate': '2025-05-22T16:01:03+09:00', 'author': 'YechanKim', 'moddate': '2025-05-22T16:01:03+09:00', 'source': './RAG-Practice-PDF-JongHyun.pdf', 'total_pages': 3, 'page': 1, 'page_label': '2'}, page_content='박종현 연구원의 업적은 다음과 같음: \\n▪ Selected Papers \\n▪ International Conference \\n▪ Jonghyun Park, Yongmin Ju, Wonil Choi, Hong Kook Kim, and Moongu Jeon, Seamless \\nIntegration of 3D LiDAR into ROS-based 2D Navigation Systems, Automation, Robotics & \\nCommunications for Industry 4.0/5.0 (ARCI\\' 2025), 2025. (Ack: MIT)  \\n▪ Y. Kim, J. Park, S. Kim, S. Kim, S. Kim, Y. Ko, J. Oh and M. Jeon, Towards large-scale \\nbenchmark dataset for remote sensing object detection on battlefield, ICCE-Asia (IEEE \\nInternational Conference on Consumer Electronics-Asia), 2024. (Ack: ADD) \\n▪ Domestic Journal \\n▪ 김예찬, 박종현, 김수연, 김시현, 김성헌, 고영민, 오중균, 윤동호, 전문구. \"위성영상에서의 군 \\n표적탐지를 위한 ARMA3 기반의 가상 데이터 생성 연구\", Journal of KIISE (2024) \\n▪ 한대영, 김예찬, 박종현, 윤동호, 전문구. \"A Diffusion-based Data Augmentation Method for \\nSAR Object Detection\", Journal of KIIT (2024) \\n▪ Domestic Conference \\n▪ 김수연*, 김예찬*, 박종현, 김성헌, 김기웅, 전문구. \"Arma 3로 생성한 군사용 가상 데이터를 \\n활용한 실세계 일반 객체탐지 성능 향상에 관한 연구\" 한국소프트웨어공학학술대회 (KCSE), \\n한국정보과학회x한국정보처리학회 공동주최, 강원 평창 한화리조트, 2025.01.20. - 01.22. (NRF) \\n▪ 임재서*, 김예찬*, 박종현*, 김시현, 전문구, 조규태, 진정훈, 김지아. \"ABS: 전장 상황인식을 위\\n한 Arma3 기반 가상 데이터 생성 프레임워크\" Korea Computer Congress 2024, Jeju, \\n2024.06.26.-06.28. \\n▪ 김예찬, 박종현, 오중균, 고영민, 전문구. \"위성영상에서의 군 표적탐지 고도화를 위한 가상 데\\n이터 생성 연구\", Korea Computer Congress 2023. (Best Paper Award) \\n▪ 박종현, 김예찬, 전문구. \"국방 AI 감시체계 구축을 위한 ARMA3 기반 위성 데이터셋 합성 방\\n안\", Korea Software Congress 2022. \\n▪ 박종현\\uf02c 안성은\\uf02c 조우현\\uf02c ROS 기반 군집로봇의 지능형 추적 알고리즘 설계, 한\\n국정보처리학회 학술대회논문집, 2020. \\n▪ Patents \\n▪ 김지아, 권철희, 조규태, 진정훈, 박종현, 김성헌, 김예찬, 전문구, \"시각 질의 응답 모델의 학습을 위한 \\n학습 데이터 생성 방법 및 장치\", 국내 출원번호: 10-2025-0039703, 출원일자: 2025.03.27. (Ack: LIG \\nNex1) \\n▪ 김예찬, 박종현, 전문구, \"표적 탐지를 위한 가상 영상 데이터 생성 장치, 방법 및 컴퓨터 프로그램\", 국\\n내 출원번호: 10-2023-0156525, 출원일자: 2023.11.13. (Ack: ADD)')"
      ]
     },
     "execution_count": 6,
     "metadata": {},
     "output_type": "execute_result"
    }
   ],
   "execution_count": 6
  },
  {
   "metadata": {
    "ExecuteTime": {
     "end_time": "2025-05-22T07:38:17.057028Z",
     "start_time": "2025-05-22T07:38:14.666731Z"
    }
   },
   "cell_type": "code",
   "source": [
    "# text_splitter = RecursiveCharacterTextSplitter(chunk_size=500, chunk_overlap=0)\n",
    "\n",
    "text_splitter = CharacterTextSplitter.from_tiktoken_encoder(\n",
    "    chunk_size=1000,\n",
    "    chunk_overlap=200,\n",
    "    encoding_name=\"cl100k_base\",\n",
    ")\n",
    "texts = text_splitter.split_documents(pages)"
   ],
   "id": "3cee96c9e7126fd7",
   "outputs": [],
   "execution_count": 18
  },
  {
   "metadata": {
    "ExecuteTime": {
     "end_time": "2025-05-22T07:38:22.015365Z",
     "start_time": "2025-05-22T07:38:22.008367Z"
    }
   },
   "cell_type": "code",
   "source": "texts",
   "id": "92fa37452b18bfa1",
   "outputs": [
    {
     "data": {
      "text/plain": [
       "[Document(metadata={'producer': 'Microsoft® Word Microsoft 365용', 'creator': 'Microsoft® Word Microsoft 365용', 'creationdate': '2025-05-22T16:01:03+09:00', 'author': 'YechanKim', 'moddate': '2025-05-22T16:01:03+09:00', 'source': './RAG-Practice-PDF-JongHyun.pdf', 'total_pages': 3, 'page': 0, 'page_label': '1'}, page_content='영문명 \\n- JongHyun Park \\n어디 출신? \\n- 경기 수원 \\n- 1997년 1월 12일에 태어났으며, 부모님은 LG전자 사내연애를 통해 눈이 맞으심. \\n- 가족 관계로는 부모님과 여동생 1명이 있음. \\n병역? \\n- 2016년 1월 18일 입대하여, 2017년 10월 17일 병장으로 해병대를 전역함. 군번\\n은 16-72000349. 병과는 21/1. 해병대 제1사단 전차대대 소속이었음. \\n- 해병대 상병 계급일 때, 해병대교육훈련단장으로부터 공수휘장패용증을 수여 받\\n은 바 있음. \\n자격? \\n- 인명구조요원, 응급처치법전문과정 자격증 보유 \\n어학 연수 경험? \\n- 해외 어학 연수 경험 없음 \\n- 다만, 유아 시절, ‘영어 유치원’을 다니며 영어 회화 실력을 키워옴 \\n학력? \\n- 학사 학위는 2021년 2월 경기에 있는 수원대학교에서 취득하였음. 정보통신학부\\n를 최우등으로 졸업하였음. \\n- 석사 학위는 2023년 8월 광주과학기술원 전기전자컴퓨터공학부에서 취득하였음. \\n지도교수는 전문구. \\n- 2023년 9월부터 광주과학기술원 전기전자컴퓨터공학부 박사과정에 재학 중. \\n \\n박종현 연구원의 여자친구 성명은 ‘김수연’ 입니다. \\n안녕하십니까? \\n박종현 연구원입니다. \\n제 소개를 드리도록 하지요.'),\n",
       " Document(metadata={'producer': 'Microsoft® Word Microsoft 365용', 'creator': 'Microsoft® Word Microsoft 365용', 'creationdate': '2025-05-22T16:01:03+09:00', 'author': 'YechanKim', 'moddate': '2025-05-22T16:01:03+09:00', 'source': './RAG-Practice-PDF-JongHyun.pdf', 'total_pages': 3, 'page': 1, 'page_label': '2'}, page_content='박종현 연구원의 업적은 다음과 같음: \\n▪ Selected Papers \\n▪ International Conference \\n▪ Jonghyun Park, Yongmin Ju, Wonil Choi, Hong Kook Kim, and Moongu Jeon, Seamless \\nIntegration of 3D LiDAR into ROS-based 2D Navigation Systems, Automation, Robotics & \\nCommunications for Industry 4.0/5.0 (ARCI\\' 2025), 2025. (Ack: MIT)  \\n▪ Y. Kim, J. Park, S. Kim, S. Kim, S. Kim, Y. Ko, J. Oh and M. Jeon, Towards large-scale \\nbenchmark dataset for remote sensing object detection on battlefield, ICCE-Asia (IEEE \\nInternational Conference on Consumer Electronics-Asia), 2024. (Ack: ADD) \\n▪ Domestic Journal \\n▪ 김예찬, 박종현, 김수연, 김시현, 김성헌, 고영민, 오중균, 윤동호, 전문구. \"위성영상에서의 군 \\n표적탐지를 위한 ARMA3 기반의 가상 데이터 생성 연구\", Journal of KIISE (2024) \\n▪ 한대영, 김예찬, 박종현, 윤동호, 전문구. \"A Diffusion-based Data Augmentation Method for \\nSAR Object Detection\", Journal of KIIT (2024) \\n▪ Domestic Conference \\n▪ 김수연*, 김예찬*, 박종현, 김성헌, 김기웅, 전문구. \"Arma 3로 생성한 군사용 가상 데이터를 \\n활용한 실세계 일반 객체탐지 성능 향상에 관한 연구\" 한국소프트웨어공학학술대회 (KCSE), \\n한국정보과학회x한국정보처리학회 공동주최, 강원 평창 한화리조트, 2025.01.20. - 01.22. (NRF) \\n▪ 임재서*, 김예찬*, 박종현*, 김시현, 전문구, 조규태, 진정훈, 김지아. \"ABS: 전장 상황인식을 위\\n한 Arma3 기반 가상 데이터 생성 프레임워크\" Korea Computer Congress 2024, Jeju, \\n2024.06.26.-06.28. \\n▪ 김예찬, 박종현, 오중균, 고영민, 전문구. \"위성영상에서의 군 표적탐지 고도화를 위한 가상 데\\n이터 생성 연구\", Korea Computer Congress 2023. (Best Paper Award) \\n▪ 박종현, 김예찬, 전문구. \"국방 AI 감시체계 구축을 위한 ARMA3 기반 위성 데이터셋 합성 방\\n안\", Korea Software Congress 2022. \\n▪ 박종현\\uf02c 안성은\\uf02c 조우현\\uf02c ROS 기반 군집로봇의 지능형 추적 알고리즘 설계, 한\\n국정보처리학회 학술대회논문집, 2020. \\n▪ Patents \\n▪ 김지아, 권철희, 조규태, 진정훈, 박종현, 김성헌, 김예찬, 전문구, \"시각 질의 응답 모델의 학습을 위한 \\n학습 데이터 생성 방법 및 장치\", 국내 출원번호: 10-2025-0039703, 출원일자: 2025.03.27. (Ack: LIG \\nNex1) \\n▪ 김예찬, 박종현, 전문구, \"표적 탐지를 위한 가상 영상 데이터 생성 장치, 방법 및 컴퓨터 프로그램\", 국\\n내 출원번호: 10-2023-0156525, 출원일자: 2023.11.13. (Ack: ADD)'),\n",
       " Document(metadata={'producer': 'Microsoft® Word Microsoft 365용', 'creator': 'Microsoft® Word Microsoft 365용', 'creationdate': '2025-05-22T16:01:03+09:00', 'author': 'YechanKim', 'moddate': '2025-05-22T16:01:03+09:00', 'source': './RAG-Practice-PDF-JongHyun.pdf', 'total_pages': 3, 'page': 2, 'page_label': '3'}, page_content='현재 박종현 연구원이 참여 중인 연구 과제는 다음과 같음: \\n⚫ 다중 시점의 실세계 환경에서 강건한 밀도추정 및 군중 분석 기술 연구 (후원: \\n한국연구재단, 실무담당자: 김예찬) \\n⚫ 초거대 AI 모델 기반 상황인식 및 의사결심지원 알고리즘 기술 개발 (후원: LIG넥\\n스원, 실무담당자: 박종현) \\n⚫ 새로운 모달리티와 계산 효율적인 대조 학습 연구 (GIST-MIT공동연구, 후원: GIST \\n자체재원, 실무담당자: 김예찬, 김성헌) \\n \\n박종현 연구원이 참여하였던 연구 과제는 다음과 같음: \\n⚫ 위성영상에서의 트랜스포머 구조 기반 표적탐지/인식 연구 (후원: 국방과학연구\\n소, 실무담당자: 김예찬) \\n⚫ 인공지능 기반 어린이 독서활동 지원 로봇 및 서비스 콘텐츠 개발 (후원: 한국콘\\n텐츠진흥원, 실무담당자: 박종현, 고영민) \\n \\n박종현 연구원에 대하여 더 자세한 정보가 알고 싶으시다면, \\n⚫ 주소: GIST 전기전자컴퓨터공학부 C동 306호 \\n⚫ 전자우편: citizen135@gm.gist.ac.kr \\n⚫ 연구실 전화: 062-715-3254')]"
      ]
     },
     "execution_count": 19,
     "metadata": {},
     "output_type": "execute_result"
    }
   ],
   "execution_count": 19
  },
  {
   "metadata": {
    "ExecuteTime": {
     "end_time": "2025-05-22T07:38:28.140344Z",
     "start_time": "2025-05-22T07:38:28.129218Z"
    }
   },
   "cell_type": "code",
   "source": "len(texts)",
   "id": "cc60ab715f42e4da",
   "outputs": [
    {
     "data": {
      "text/plain": [
       "3"
      ]
     },
     "execution_count": 20,
     "metadata": {},
     "output_type": "execute_result"
    }
   ],
   "execution_count": 20
  },
  {
   "metadata": {
    "ExecuteTime": {
     "end_time": "2025-05-22T07:38:35.387061Z",
     "start_time": "2025-05-22T07:38:35.376449Z"
    }
   },
   "cell_type": "code",
   "source": "texts[1].page_content",
   "id": "983193a1b52782e8",
   "outputs": [
    {
     "data": {
      "text/plain": [
       "'박종현 연구원의 업적은 다음과 같음: \\n▪ Selected Papers \\n▪ International Conference \\n▪ Jonghyun Park, Yongmin Ju, Wonil Choi, Hong Kook Kim, and Moongu Jeon, Seamless \\nIntegration of 3D LiDAR into ROS-based 2D Navigation Systems, Automation, Robotics & \\nCommunications for Industry 4.0/5.0 (ARCI\\' 2025), 2025. (Ack: MIT)  \\n▪ Y. Kim, J. Park, S. Kim, S. Kim, S. Kim, Y. Ko, J. Oh and M. Jeon, Towards large-scale \\nbenchmark dataset for remote sensing object detection on battlefield, ICCE-Asia (IEEE \\nInternational Conference on Consumer Electronics-Asia), 2024. (Ack: ADD) \\n▪ Domestic Journal \\n▪ 김예찬, 박종현, 김수연, 김시현, 김성헌, 고영민, 오중균, 윤동호, 전문구. \"위성영상에서의 군 \\n표적탐지를 위한 ARMA3 기반의 가상 데이터 생성 연구\", Journal of KIISE (2024) \\n▪ 한대영, 김예찬, 박종현, 윤동호, 전문구. \"A Diffusion-based Data Augmentation Method for \\nSAR Object Detection\", Journal of KIIT (2024) \\n▪ Domestic Conference \\n▪ 김수연*, 김예찬*, 박종현, 김성헌, 김기웅, 전문구. \"Arma 3로 생성한 군사용 가상 데이터를 \\n활용한 실세계 일반 객체탐지 성능 향상에 관한 연구\" 한국소프트웨어공학학술대회 (KCSE), \\n한국정보과학회x한국정보처리학회 공동주최, 강원 평창 한화리조트, 2025.01.20. - 01.22. (NRF) \\n▪ 임재서*, 김예찬*, 박종현*, 김시현, 전문구, 조규태, 진정훈, 김지아. \"ABS: 전장 상황인식을 위\\n한 Arma3 기반 가상 데이터 생성 프레임워크\" Korea Computer Congress 2024, Jeju, \\n2024.06.26.-06.28. \\n▪ 김예찬, 박종현, 오중균, 고영민, 전문구. \"위성영상에서의 군 표적탐지 고도화를 위한 가상 데\\n이터 생성 연구\", Korea Computer Congress 2023. (Best Paper Award) \\n▪ 박종현, 김예찬, 전문구. \"국방 AI 감시체계 구축을 위한 ARMA3 기반 위성 데이터셋 합성 방\\n안\", Korea Software Congress 2022. \\n▪ 박종현\\uf02c 안성은\\uf02c 조우현\\uf02c ROS 기반 군집로봇의 지능형 추적 알고리즘 설계, 한\\n국정보처리학회 학술대회논문집, 2020. \\n▪ Patents \\n▪ 김지아, 권철희, 조규태, 진정훈, 박종현, 김성헌, 김예찬, 전문구, \"시각 질의 응답 모델의 학습을 위한 \\n학습 데이터 생성 방법 및 장치\", 국내 출원번호: 10-2025-0039703, 출원일자: 2025.03.27. (Ack: LIG \\nNex1) \\n▪ 김예찬, 박종현, 전문구, \"표적 탐지를 위한 가상 영상 데이터 생성 장치, 방법 및 컴퓨터 프로그램\", 국\\n내 출원번호: 10-2023-0156525, 출원일자: 2023.11.13. (Ack: ADD)'"
      ]
     },
     "execution_count": 22,
     "metadata": {},
     "output_type": "execute_result"
    }
   ],
   "execution_count": 22
  },
  {
   "metadata": {
    "ExecuteTime": {
     "end_time": "2025-05-22T07:33:03.622931Z",
     "start_time": "2025-05-22T07:32:51.691649Z"
    }
   },
   "cell_type": "code",
   "source": "model_huggingface = HuggingFaceEmbeddings(model_name='BAAI/bge-m3')",
   "id": "8e06a2c16568ca90",
   "outputs": [
    {
     "name": "stderr",
     "output_type": "stream",
     "text": [
      "C:\\Users\\yechan_amd\\AppData\\Local\\Temp\\ipykernel_11820\\1537676741.py:1: LangChainDeprecationWarning: The class `HuggingFaceEmbeddings` was deprecated in LangChain 0.2.2 and will be removed in 1.0. An updated version of the class exists in the :class:`~langchain-huggingface package and should be used instead. To use it run `pip install -U :class:`~langchain-huggingface` and import as `from :class:`~langchain_huggingface import HuggingFaceEmbeddings``.\n",
      "  model_huggingface = HuggingFaceEmbeddings(model_name='BAAI/bge-m3')\n"
     ]
    }
   ],
   "execution_count": 12
  },
  {
   "metadata": {
    "ExecuteTime": {
     "end_time": "2025-05-22T07:38:52.895323Z",
     "start_time": "2025-05-22T07:38:48.783504Z"
    }
   },
   "cell_type": "code",
   "source": [
    "chroma_vector = Chroma.from_documents(texts, model_huggingface)\n",
    "chroma_retriever = chroma_vector.as_retriever(search_kwargs={'k':2})"
   ],
   "id": "c58fdd953692cec3",
   "outputs": [],
   "execution_count": 23
  },
  {
   "metadata": {},
   "cell_type": "markdown",
   "source": "질의",
   "id": "3943f4a5b9229a01"
  },
  {
   "metadata": {
    "ExecuteTime": {
     "end_time": "2025-05-22T07:43:34.843995Z",
     "start_time": "2025-05-22T07:43:34.688965Z"
    }
   },
   "cell_type": "code",
   "source": [
    "docs = chroma_retriever.invoke(\"박종현 연구원이 실무 담당자로 참여했거나, 참여 중인 과제 목록은?\")\n",
    "for i in docs:\n",
    "    print(i.metadata)\n",
    "    print(\":\")\n",
    "    print(i.page_content.replace('\\n',' '))\n",
    "    print(len(i.page_content.replace('\\n',' ')))\n",
    "    print(\"=\"*50)"
   ],
   "id": "9e1ec197113e6dc3",
   "outputs": [
    {
     "name": "stdout",
     "output_type": "stream",
     "text": [
      "{'creator': 'Microsoft® Word Microsoft 365용', 'author': 'YechanKim', 'page': 2, 'source': './RAG-Practice-PDF-JongHyun.pdf', 'creationdate': '2025-05-22T16:01:03+09:00', 'moddate': '2025-05-22T16:01:03+09:00', 'page_label': '3', 'total_pages': 3, 'producer': 'Microsoft® Word Microsoft 365용'}\n",
      ":\n",
      "현재 박종현 연구원이 참여 중인 연구 과제는 다음과 같음:  ⚫ 다중 시점의 실세계 환경에서 강건한 밀도추정 및 군중 분석 기술 연구 (후원:  한국연구재단, 실무담당자: 김예찬)  ⚫ 초거대 AI 모델 기반 상황인식 및 의사결심지원 알고리즘 기술 개발 (후원: LIG넥 스원, 실무담당자: 박종현)  ⚫ 새로운 모달리티와 계산 효율적인 대조 학습 연구 (GIST-MIT공동연구, 후원: GIST  자체재원, 실무담당자: 김예찬, 김성헌)    박종현 연구원이 참여하였던 연구 과제는 다음과 같음:  ⚫ 위성영상에서의 트랜스포머 구조 기반 표적탐지/인식 연구 (후원: 국방과학연구 소, 실무담당자: 김예찬)  ⚫ 인공지능 기반 어린이 독서활동 지원 로봇 및 서비스 콘텐츠 개발 (후원: 한국콘 텐츠진흥원, 실무담당자: 박종현, 고영민)    박종현 연구원에 대하여 더 자세한 정보가 알고 싶으시다면,  ⚫ 주소: GIST 전기전자컴퓨터공학부 C동 306호\n",
      "478\n",
      "==================================================\n",
      "{'source': './RAG-Practice-PDF-JongHyun.pdf', 'creationdate': '2025-05-22T16:01:03+09:00', 'page': 2, 'page_label': '3', 'author': 'YechanKim', 'moddate': '2025-05-22T16:01:03+09:00', 'total_pages': 3, 'creator': 'Microsoft® Word Microsoft 365용', 'producer': 'Microsoft® Word Microsoft 365용'}\n",
      ":\n",
      "현재 박종현 연구원이 참여 중인 연구 과제는 다음과 같음:  ⚫ 다중 시점의 실세계 환경에서 강건한 밀도추정 및 군중 분석 기술 연구 (후원:  한국연구재단, 실무담당자: 김예찬)  ⚫ 초거대 AI 모델 기반 상황인식 및 의사결심지원 알고리즘 기술 개발 (후원: LIG넥 스원, 실무담당자: 박종현)  ⚫ 새로운 모달리티와 계산 효율적인 대조 학습 연구 (GIST-MIT공동연구, 후원: GIST  자체재원, 실무담당자: 김예찬, 김성헌)    박종현 연구원이 참여하였던 연구 과제는 다음과 같음:  ⚫ 위성영상에서의 트랜스포머 구조 기반 표적탐지/인식 연구 (후원: 국방과학연구 소, 실무담당자: 김예찬)  ⚫ 인공지능 기반 어린이 독서활동 지원 로봇 및 서비스 콘텐츠 개발 (후원: 한국콘 텐츠진흥원, 실무담당자: 박종현, 고영민)    박종현 연구원에 대하여 더 자세한 정보가 알고 싶으시다면,  ⚫ 주소: GIST 전기전자컴퓨터공학부 C동 306호  ⚫ 전자우편: citizen135@gm.gist.ac.kr  ⚫ 연구실 전화: 062-715-3254\n",
      "536\n",
      "==================================================\n"
     ]
    }
   ],
   "execution_count": 34
  },
  {
   "metadata": {
    "ExecuteTime": {
     "end_time": "2025-05-22T07:43:11.196011Z",
     "start_time": "2025-05-22T07:43:11.071882Z"
    }
   },
   "cell_type": "code",
   "source": [
    "docs = chroma_retriever.invoke(\"박종현 연구원의 생년월일?\")\n",
    "for i in docs:\n",
    "    print(i.metadata)\n",
    "    print(\":\")\n",
    "    print(i.page_content.replace('\\n',' '))\n",
    "    print(len(i.page_content.replace('\\n',' ')))\n",
    "    print(\"=\"*50)"
   ],
   "id": "81e30bb7e6cf10c0",
   "outputs": [
    {
     "name": "stdout",
     "output_type": "stream",
     "text": [
      "{'author': 'YechanKim', 'creationdate': '2025-05-22T16:01:03+09:00', 'producer': 'Microsoft® Word Microsoft 365용', 'creator': 'Microsoft® Word Microsoft 365용', 'page': 0, 'page_label': '1', 'total_pages': 3, 'source': './RAG-Practice-PDF-JongHyun.pdf', 'moddate': '2025-05-22T16:01:03+09:00'}\n",
      ":\n",
      "영문명  - JongHyun Park  어디 출신?  - 경기 수원  - 1997년 1월 12일에 태어났으며, 부모님은 LG전자 사내연애를 통해 눈이 맞으심.  - 가족 관계로는 부모님과 여동생 1명이 있음.  병역?  - 2016년 1월 18일 입대하여, 2017년 10월 17일 병장으로 해병대를 전역함. 군번 은 16-72000349. 병과는 21/1. 해병대 제1사단 전차대대 소속이었음.  - 해병대 상병 계급일 때, 해병대교육훈련단장으로부터 공수휘장패용증을 수여 받 은 바 있음.  자격?  - 인명구조요원, 응급처치법전문과정 자격증 보유  어학 연수 경험?  - 해외 어학 연수 경험 없음  - 다만, 유아 시절, ‘영어 유치원’을 다니며 영어 회화 실력을 키워옴  학력?  - 학사 학위는 2021년 2월 경기에 있는 수원대학교에서 취득하였음. 정보통신학부 를 최우등으로 졸업하였음.  - 석사 학위는 2023년 8월 광주과학기술원 전기전자컴퓨터공학부에서 취득하였음.  지도교수는 전문구.  - 2023년 9월부터 광주과학기술원 전기전자컴퓨터공학부 박사과정에 재학 중.    박종현 연구원의 여자친구 성명은 ‘김수연’ 입니다.  안녕하십니까?  박종현 연구원입니다.  제 소개를 드리도록 하지요.\n",
      "621\n",
      "==================================================\n",
      "{'moddate': '2025-05-22T16:01:03+09:00', 'page': 0, 'total_pages': 3, 'creationdate': '2025-05-22T16:01:03+09:00', 'author': 'YechanKim', 'source': './RAG-Practice-PDF-JongHyun.pdf', 'producer': 'Microsoft® Word Microsoft 365용', 'creator': 'Microsoft® Word Microsoft 365용', 'page_label': '1'}\n",
      ":\n",
      "지도교수는 전문구.  - 2023년 9월부터 광주과학기술원 전기전자컴퓨터공학부 박사과정에 재학 중.    박종현 연구원의 여자친구 성명은 ‘김수연’ 입니다.  안녕하십니까?  박종현 연구원입니다.  제 소개를 드리도록 하지요.\n",
      "126\n",
      "==================================================\n"
     ]
    }
   ],
   "execution_count": 33
  },
  {
   "metadata": {
    "ExecuteTime": {
     "end_time": "2025-05-22T07:42:44.342874Z",
     "start_time": "2025-05-22T07:42:44.205878Z"
    }
   },
   "cell_type": "code",
   "source": [
    "docs = chroma_retriever.invoke(\"박종현 연구원의 군번?\")\n",
    "for i in docs:\n",
    "    print(i.metadata)\n",
    "    print(\":\")\n",
    "    print(i.page_content.replace('\\n',' '))\n",
    "    print(len(i.page_content.replace('\\n',' ')))\n",
    "    print(\"=\"*50)"
   ],
   "id": "d3d18300a68733f4",
   "outputs": [
    {
     "name": "stdout",
     "output_type": "stream",
     "text": [
      "{'total_pages': 3, 'source': './RAG-Practice-PDF-JongHyun.pdf', 'creator': 'Microsoft® Word Microsoft 365용', 'author': 'YechanKim', 'page_label': '1', 'moddate': '2025-05-22T16:01:03+09:00', 'creationdate': '2025-05-22T16:01:03+09:00', 'page': 0, 'producer': 'Microsoft® Word Microsoft 365용'}\n",
      ":\n",
      "영문명  - JongHyun Park  어디 출신?  - 경기 수원  - 1997년 1월 12일에 태어났으며, 부모님은 LG전자 사내연애를 통해 눈이 맞으심.  - 가족 관계로는 부모님과 여동생 1명이 있음.  병역?  - 2016년 1월 18일 입대하여, 2017년 10월 17일 병장으로 해병대를 전역함. 군번 은 16-72000349. 병과는 21/1. 해병대 제1사단 전차대대 소속이었음.  - 해병대 상병 계급일 때, 해병대교육훈련단장으로부터 공수휘장패용증을 수여 받 은 바 있음.  자격?  - 인명구조요원, 응급처치법전문과정 자격증 보유  어학 연수 경험?  - 해외 어학 연수 경험 없음  - 다만, 유아 시절, ‘영어 유치원’을 다니며 영어 회화 실력을 키워옴  학력?  - 학사 학위는 2021년 2월 경기에 있는 수원대학교에서 취득하였음. 정보통신학부 를 최우등으로 졸업하였음.  - 석사 학위는 2023년 8월 광주과학기술원 전기전자컴퓨터공학부에서 취득하였음.  지도교수는 전문구.  - 2023년 9월부터 광주과학기술원 전기전자컴퓨터공학부 박사과정에 재학 중.    박종현 연구원의 여자친구 성명은 ‘김수연’ 입니다.  안녕하십니까?  박종현 연구원입니다.  제 소개를 드리도록 하지요.\n",
      "621\n",
      "==================================================\n",
      "{'page': 0, 'producer': 'Microsoft® Word Microsoft 365용', 'creator': 'Microsoft® Word Microsoft 365용', 'creationdate': '2025-05-22T16:01:03+09:00', 'author': 'YechanKim', 'page_label': '1', 'moddate': '2025-05-22T16:01:03+09:00', 'source': './RAG-Practice-PDF-JongHyun.pdf', 'total_pages': 3}\n",
      ":\n",
      "지도교수는 전문구.  - 2023년 9월부터 광주과학기술원 전기전자컴퓨터공학부 박사과정에 재학 중.    박종현 연구원의 여자친구 성명은 ‘김수연’ 입니다.  안녕하십니까?  박종현 연구원입니다.  제 소개를 드리도록 하지요.\n",
      "126\n",
      "==================================================\n"
     ]
    }
   ],
   "execution_count": 32
  },
  {
   "metadata": {
    "ExecuteTime": {
     "end_time": "2025-05-22T07:42:24.479311Z",
     "start_time": "2025-05-22T07:42:24.340778Z"
    }
   },
   "cell_type": "code",
   "source": [
    "docs = chroma_retriever.invoke(\"박종현 연구원이 석사학위를 취득한 시기는?\")\n",
    "for i in docs:\n",
    "    print(i.metadata)\n",
    "    print(\":\")\n",
    "    print(i.page_content.replace('\\n',' '))\n",
    "    print(len(i.page_content.replace('\\n',' ')))\n",
    "    print(\"=\"*50)"
   ],
   "id": "21f06deb29b26b1a",
   "outputs": [
    {
     "name": "stdout",
     "output_type": "stream",
     "text": [
      "{'producer': 'Microsoft® Word Microsoft 365용', 'creator': 'Microsoft® Word Microsoft 365용', 'creationdate': '2025-05-22T16:01:03+09:00', 'author': 'YechanKim', 'page': 0, 'total_pages': 3, 'source': './RAG-Practice-PDF-JongHyun.pdf', 'page_label': '1', 'moddate': '2025-05-22T16:01:03+09:00'}\n",
      ":\n",
      "지도교수는 전문구.  - 2023년 9월부터 광주과학기술원 전기전자컴퓨터공학부 박사과정에 재학 중.    박종현 연구원의 여자친구 성명은 ‘김수연’ 입니다.  안녕하십니까?  박종현 연구원입니다.  제 소개를 드리도록 하지요.\n",
      "126\n",
      "==================================================\n",
      "{'total_pages': 3, 'moddate': '2025-05-22T16:01:03+09:00', 'author': 'YechanKim', 'creationdate': '2025-05-22T16:01:03+09:00', 'page': 0, 'producer': 'Microsoft® Word Microsoft 365용', 'source': './RAG-Practice-PDF-JongHyun.pdf', 'page_label': '1', 'creator': 'Microsoft® Word Microsoft 365용'}\n",
      ":\n",
      "영문명  - JongHyun Park  어디 출신?  - 경기 수원  - 1997년 1월 12일에 태어났으며, 부모님은 LG전자 사내연애를 통해 눈이 맞으심.  - 가족 관계로는 부모님과 여동생 1명이 있음.  병역?  - 2016년 1월 18일 입대하여, 2017년 10월 17일 병장으로 해병대를 전역함. 군번 은 16-72000349. 병과는 21/1. 해병대 제1사단 전차대대 소속이었음.  - 해병대 상병 계급일 때, 해병대교육훈련단장으로부터 공수휘장패용증을 수여 받 은 바 있음.  자격?  - 인명구조요원, 응급처치법전문과정 자격증 보유  어학 연수 경험?  - 해외 어학 연수 경험 없음  - 다만, 유아 시절, ‘영어 유치원’을 다니며 영어 회화 실력을 키워옴  학력?  - 학사 학위는 2021년 2월 경기에 있는 수원대학교에서 취득하였음. 정보통신학부 를 최우등으로 졸업하였음.  - 석사 학위는 2023년 8월 광주과학기술원 전기전자컴퓨터공학부에서 취득하였음.  지도교수는 전문구.  - 2023년 9월부터 광주과학기술원 전기전자컴퓨터공학부 박사과정에 재학 중.    박종현 연구원의 여자친구 성명은 ‘김수연’ 입니다.  안녕하십니까?  박종현 연구원입니다.  제 소개를 드리도록 하지요.\n",
      "621\n",
      "==================================================\n"
     ]
    }
   ],
   "execution_count": 31
  },
  {
   "metadata": {
    "ExecuteTime": {
     "end_time": "2025-05-22T07:42:10.671878Z",
     "start_time": "2025-05-22T07:42:10.534483Z"
    }
   },
   "cell_type": "code",
   "source": [
    "docs = chroma_retriever.invoke(\"박종현 연구원이 고소한 직원 이름은?\")\n",
    "for i in docs:\n",
    "    print(i.metadata)\n",
    "    print(\":\")\n",
    "    print(i.page_content.replace('\\n',' '))\n",
    "    print(len(i.page_content.replace('\\n',' ')))\n",
    "    print(\"=\"*50)"
   ],
   "id": "e0e7d386926c634",
   "outputs": [
    {
     "name": "stdout",
     "output_type": "stream",
     "text": [
      "{'producer': 'Microsoft® Word Microsoft 365용', 'moddate': '2025-05-22T16:01:03+09:00', 'page_label': '1', 'page': 0, 'total_pages': 3, 'creationdate': '2025-05-22T16:01:03+09:00', 'source': './RAG-Practice-PDF-JongHyun.pdf', 'creator': 'Microsoft® Word Microsoft 365용', 'author': 'YechanKim'}\n",
      ":\n",
      "지도교수는 전문구.  - 2023년 9월부터 광주과학기술원 전기전자컴퓨터공학부 박사과정에 재학 중.    박종현 연구원의 여자친구 성명은 ‘김수연’ 입니다.  안녕하십니까?  박종현 연구원입니다.  제 소개를 드리도록 하지요.\n",
      "126\n",
      "==================================================\n",
      "{'creationdate': '2025-05-22T16:01:03+09:00', 'source': './RAG-Practice-PDF-JongHyun.pdf', 'total_pages': 3, 'page_label': '1', 'author': 'YechanKim', 'creator': 'Microsoft® Word Microsoft 365용', 'producer': 'Microsoft® Word Microsoft 365용', 'page': 0, 'moddate': '2025-05-22T16:01:03+09:00'}\n",
      ":\n",
      "영문명  - JongHyun Park  어디 출신?  - 경기 수원  - 1997년 1월 12일에 태어났으며, 부모님은 LG전자 사내연애를 통해 눈이 맞으심.  - 가족 관계로는 부모님과 여동생 1명이 있음.  병역?  - 2016년 1월 18일 입대하여, 2017년 10월 17일 병장으로 해병대를 전역함. 군번 은 16-72000349. 병과는 21/1. 해병대 제1사단 전차대대 소속이었음.  - 해병대 상병 계급일 때, 해병대교육훈련단장으로부터 공수휘장패용증을 수여 받 은 바 있음.  자격?  - 인명구조요원, 응급처치법전문과정 자격증 보유  어학 연수 경험?  - 해외 어학 연수 경험 없음  - 다만, 유아 시절, ‘영어 유치원’을 다니며 영어 회화 실력을 키워옴  학력?  - 학사 학위는 2021년 2월 경기에 있는 수원대학교에서 취득하였음. 정보통신학부 를 최우등으로 졸업하였음.  - 석사 학위는 2023년 8월 광주과학기술원 전기전자컴퓨터공학부에서 취득하였음.  지도교수는 전문구.  - 2023년 9월부터 광주과학기술원 전기전자컴퓨터공학부 박사과정에 재학 중.    박종현 연구원의 여자친구 성명은 ‘김수연’ 입니다.  안녕하십니까?  박종현 연구원입니다.  제 소개를 드리도록 하지요.\n",
      "621\n",
      "==================================================\n"
     ]
    }
   ],
   "execution_count": 30
  },
  {
   "metadata": {
    "ExecuteTime": {
     "end_time": "2025-05-22T07:41:32.249172Z",
     "start_time": "2025-05-22T07:41:32.097124Z"
    }
   },
   "cell_type": "code",
   "source": [
    "docs = chroma_retriever.invoke(\"박종현 연구원의 이메일 주소는?\")\n",
    "for i in docs:\n",
    "    print(i.metadata)\n",
    "    print(\":\")\n",
    "    print(i.page_content.replace('\\n',' '))\n",
    "    print(len(i.page_content.replace('\\n',' ')))\n",
    "    print(\"=\"*50)"
   ],
   "id": "3d03d1c9b18e0117",
   "outputs": [
    {
     "name": "stdout",
     "output_type": "stream",
     "text": [
      "{'moddate': '2025-05-22T16:01:03+09:00', 'page': 0, 'total_pages': 3, 'creator': 'Microsoft® Word Microsoft 365용', 'source': './RAG-Practice-PDF-JongHyun.pdf', 'creationdate': '2025-05-22T16:01:03+09:00', 'author': 'YechanKim', 'producer': 'Microsoft® Word Microsoft 365용', 'page_label': '1'}\n",
      ":\n",
      "지도교수는 전문구.  - 2023년 9월부터 광주과학기술원 전기전자컴퓨터공학부 박사과정에 재학 중.    박종현 연구원의 여자친구 성명은 ‘김수연’ 입니다.  안녕하십니까?  박종현 연구원입니다.  제 소개를 드리도록 하지요.\n",
      "126\n",
      "==================================================\n",
      "{'page': 0, 'source': './RAG-Practice-PDF-JongHyun.pdf', 'author': 'YechanKim', 'page_label': '1', 'total_pages': 3, 'creator': 'Microsoft® Word Microsoft 365용', 'moddate': '2025-05-22T16:01:03+09:00', 'producer': 'Microsoft® Word Microsoft 365용', 'creationdate': '2025-05-22T16:01:03+09:00'}\n",
      ":\n",
      "영문명  - JongHyun Park  어디 출신?  - 경기 수원  - 1997년 1월 12일에 태어났으며, 부모님은 LG전자 사내연애를 통해 눈이 맞으심.  - 가족 관계로는 부모님과 여동생 1명이 있음.  병역?  - 2016년 1월 18일 입대하여, 2017년 10월 17일 병장으로 해병대를 전역함. 군번 은 16-72000349. 병과는 21/1. 해병대 제1사단 전차대대 소속이었음.  - 해병대 상병 계급일 때, 해병대교육훈련단장으로부터 공수휘장패용증을 수여 받 은 바 있음.  자격?  - 인명구조요원, 응급처치법전문과정 자격증 보유  어학 연수 경험?  - 해외 어학 연수 경험 없음  - 다만, 유아 시절, ‘영어 유치원’을 다니며 영어 회화 실력을 키워옴  학력?  - 학사 학위는 2021년 2월 경기에 있는 수원대학교에서 취득하였음. 정보통신학부 를 최우등으로 졸업하였음.  - 석사 학위는 2023년 8월 광주과학기술원 전기전자컴퓨터공학부에서 취득하였음.  지도교수는 전문구.  - 2023년 9월부터 광주과학기술원 전기전자컴퓨터공학부 박사과정에 재학 중.    박종현 연구원의 여자친구 성명은 ‘김수연’ 입니다.  안녕하십니까?  박종현 연구원입니다.  제 소개를 드리도록 하지요.\n",
      "621\n",
      "==================================================\n"
     ]
    }
   ],
   "execution_count": 29
  },
  {
   "metadata": {
    "ExecuteTime": {
     "end_time": "2025-05-22T07:38:56.931175Z",
     "start_time": "2025-05-22T07:38:56.779790Z"
    }
   },
   "cell_type": "code",
   "source": [
    "docs = chroma_retriever.invoke(\"박종현 연구원이 주저자로 발표하는 논문들의 각 제목은?\")\n",
    "for i in docs:\n",
    "    print(i.metadata)\n",
    "    print(\":\")\n",
    "    print(i.page_content.replace('\\n',' '))\n",
    "    print(len(i.page_content.replace('\\n',' ')))\n",
    "    print(\"=\"*50)"
   ],
   "id": "a3faddf50ba07e9d",
   "outputs": [
    {
     "name": "stdout",
     "output_type": "stream",
     "text": [
      "{'source': './RAG-Practice-PDF-JongHyun.pdf', 'moddate': '2025-05-22T16:01:03+09:00', 'page': 1, 'page_label': '2', 'creator': 'Microsoft® Word Microsoft 365용', 'creationdate': '2025-05-22T16:01:03+09:00', 'author': 'YechanKim', 'total_pages': 3, 'producer': 'Microsoft® Word Microsoft 365용'}\n",
      ":\n",
      "박종현 연구원의 업적은 다음과 같음:  ▪ Selected Papers  ▪ International Conference  ▪ Jonghyun Park, Yongmin Ju, Wonil Choi, Hong Kook Kim, and Moongu Jeon, Seamless  Integration of 3D LiDAR into ROS-based 2D Navigation Systems, Automation, Robotics &  Communications for Industry 4.0/5.0 (ARCI' 2025), 2025. (Ack: MIT)   ▪ Y. Kim, J. Park, S. Kim, S. Kim, S. Kim, Y. Ko, J. Oh and M. Jeon, Towards large-scale  benchmark dataset for remote sensing object detection on battlefield, ICCE-Asia (IEEE\n",
      "482\n",
      "==================================================\n",
      "{'creator': 'Microsoft® Word Microsoft 365용', 'author': 'YechanKim', 'page_label': '2', 'page': 1, 'total_pages': 3, 'moddate': '2025-05-22T16:01:03+09:00', 'producer': 'Microsoft® Word Microsoft 365용', 'source': './RAG-Practice-PDF-JongHyun.pdf', 'creationdate': '2025-05-22T16:01:03+09:00'}\n",
      ":\n",
      "박종현 연구원의 업적은 다음과 같음:  ▪ Selected Papers  ▪ International Conference  ▪ Jonghyun Park, Yongmin Ju, Wonil Choi, Hong Kook Kim, and Moongu Jeon, Seamless  Integration of 3D LiDAR into ROS-based 2D Navigation Systems, Automation, Robotics &  Communications for Industry 4.0/5.0 (ARCI' 2025), 2025. (Ack: MIT)   ▪ Y. Kim, J. Park, S. Kim, S. Kim, S. Kim, Y. Ko, J. Oh and M. Jeon, Towards large-scale  benchmark dataset for remote sensing object detection on battlefield, ICCE-Asia (IEEE  International Conference on Consumer Electronics-Asia), 2024. (Ack: ADD)  ▪ Domestic Journal  ▪ 김예찬, 박종현, 김수연, 김시현, 김성헌, 고영민, 오중균, 윤동호, 전문구. \"위성영상에서의 군  표적탐지를 위한 ARMA3 기반의 가상 데이터 생성 연구\", Journal of KIISE (2024)  ▪ 한대영, 김예찬, 박종현, 윤동호, 전문구. \"A Diffusion-based Data Augmentation Method for  SAR Object Detection\", Journal of KIIT (2024)  ▪ Domestic Conference  ▪ 김수연*, 김예찬*, 박종현, 김성헌, 김기웅, 전문구. \"Arma 3로 생성한 군사용 가상 데이터를  활용한 실세계 일반 객체탐지 성능 향상에 관한 연구\" 한국소프트웨어공학학술대회 (KCSE),  한국정보과학회x한국정보처리학회 공동주최, 강원 평창 한화리조트, 2025.01.20. - 01.22. (NRF)  ▪ 임재서*, 김예찬*, 박종현*, 김시현, 전문구, 조규태, 진정훈, 김지아. \"ABS: 전장 상황인식을 위 한 Arma3 기반 가상 데이터 생성 프레임워크\" Korea Computer Congress 2024, Jeju,  2024.06.26.-06.28.  ▪ 김예찬, 박종현, 오중균, 고영민, 전문구. \"위성영상에서의 군 표적탐지 고도화를 위한 가상 데 이터 생성 연구\", Korea Computer Congress 2023. (Best Paper Award)  ▪ 박종현, 김예찬, 전문구. \"국방 AI 감시체계 구축을 위한 ARMA3 기반 위성 데이터셋 합성 방 안\", Korea Software Congress 2022.  ▪ 박종현 안성은 조우현 ROS 기반 군집로봇의 지능형 추적 알고리즘 설계, 한 국정보처리학회 학술대회논문집, 2020.  ▪ Patents  ▪ 김지아, 권철희, 조규태, 진정훈, 박종현, 김성헌, 김예찬, 전문구, \"시각 질의 응답 모델의 학습을 위한  학습 데이터 생성 방법 및 장치\", 국내 출원번호: 10-2025-0039703, 출원일자: 2025.03.27. (Ack: LIG  Nex1)  ▪ 김예찬, 박종현, 전문구, \"표적 탐지를 위한 가상 영상 데이터 생성 장치, 방법 및 컴퓨터 프로그램\", 국 내 출원번호: 10-2023-0156525, 출원일자: 2023.11.13. (Ack: ADD)\n",
      "1721\n",
      "==================================================\n"
     ]
    }
   ],
   "execution_count": 24
  },
  {
   "metadata": {
    "ExecuteTime": {
     "end_time": "2025-05-22T07:40:14.211948Z",
     "start_time": "2025-05-22T07:40:14.077905Z"
    }
   },
   "cell_type": "code",
   "source": [
    "docs = chroma_retriever.invoke(\"박종현 연구원은 영어 유치원 출신인가?\")\n",
    "for i in docs:\n",
    "    print(i.metadata)\n",
    "    print(\":\")\n",
    "    print(i.page_content.replace('\\n',' '))\n",
    "    print(len(i.page_content.replace('\\n',' ')))\n",
    "    print(\"=\"*50)"
   ],
   "id": "db498c72a431d5b8",
   "outputs": [
    {
     "name": "stdout",
     "output_type": "stream",
     "text": [
      "{'total_pages': 3, 'author': 'YechanKim', 'producer': 'Microsoft® Word Microsoft 365용', 'creationdate': '2025-05-22T16:01:03+09:00', 'page_label': '1', 'source': './RAG-Practice-PDF-JongHyun.pdf', 'moddate': '2025-05-22T16:01:03+09:00', 'creator': 'Microsoft® Word Microsoft 365용', 'page': 0}\n",
      ":\n",
      "영문명  - JongHyun Park  어디 출신?  - 경기 수원  - 1997년 1월 12일에 태어났으며, 부모님은 LG전자 사내연애를 통해 눈이 맞으심.  - 가족 관계로는 부모님과 여동생 1명이 있음.  병역?  - 2016년 1월 18일 입대하여, 2017년 10월 17일 병장으로 해병대를 전역함. 군번 은 16-72000349. 병과는 21/1. 해병대 제1사단 전차대대 소속이었음.  - 해병대 상병 계급일 때, 해병대교육훈련단장으로부터 공수휘장패용증을 수여 받 은 바 있음.  자격?  - 인명구조요원, 응급처치법전문과정 자격증 보유  어학 연수 경험?  - 해외 어학 연수 경험 없음  - 다만, 유아 시절, ‘영어 유치원’을 다니며 영어 회화 실력을 키워옴  학력?  - 학사 학위는 2021년 2월 경기에 있는 수원대학교에서 취득하였음. 정보통신학부 를 최우등으로 졸업하였음.  - 석사 학위는 2023년 8월 광주과학기술원 전기전자컴퓨터공학부에서 취득하였음.  지도교수는 전문구.  - 2023년 9월부터 광주과학기술원 전기전자컴퓨터공학부 박사과정에 재학 중.    박종현 연구원의 여자친구 성명은 ‘김수연’ 입니다.  안녕하십니까?  박종현 연구원입니다.  제 소개를 드리도록 하지요.\n",
      "621\n",
      "==================================================\n",
      "{'creationdate': '2025-05-22T16:01:03+09:00', 'source': './RAG-Practice-PDF-JongHyun.pdf', 'producer': 'Microsoft® Word Microsoft 365용', 'page': 2, 'creator': 'Microsoft® Word Microsoft 365용', 'total_pages': 3, 'page_label': '3', 'moddate': '2025-05-22T16:01:03+09:00', 'author': 'YechanKim'}\n",
      ":\n",
      "현재 박종현 연구원이 참여 중인 연구 과제는 다음과 같음:  ⚫ 다중 시점의 실세계 환경에서 강건한 밀도추정 및 군중 분석 기술 연구 (후원:  한국연구재단, 실무담당자: 김예찬)  ⚫ 초거대 AI 모델 기반 상황인식 및 의사결심지원 알고리즘 기술 개발 (후원: LIG넥 스원, 실무담당자: 박종현)  ⚫ 새로운 모달리티와 계산 효율적인 대조 학습 연구 (GIST-MIT공동연구, 후원: GIST  자체재원, 실무담당자: 김예찬, 김성헌)    박종현 연구원이 참여하였던 연구 과제는 다음과 같음:  ⚫ 위성영상에서의 트랜스포머 구조 기반 표적탐지/인식 연구 (후원: 국방과학연구 소, 실무담당자: 김예찬)  ⚫ 인공지능 기반 어린이 독서활동 지원 로봇 및 서비스 콘텐츠 개발 (후원: 한국콘 텐츠진흥원, 실무담당자: 박종현, 고영민)    박종현 연구원에 대하여 더 자세한 정보가 알고 싶으시다면,  ⚫ 주소: GIST 전기전자컴퓨터공학부 C동 306호  ⚫ 전자우편: citizen135@gm.gist.ac.kr  ⚫ 연구실 전화: 062-715-3254\n",
      "536\n",
      "==================================================\n"
     ]
    }
   ],
   "execution_count": 25
  },
  {
   "metadata": {
    "ExecuteTime": {
     "end_time": "2025-05-22T07:40:31.123940Z",
     "start_time": "2025-05-22T07:40:30.968891Z"
    }
   },
   "cell_type": "code",
   "source": [
    "docs = chroma_retriever.invoke(\"박종현 연구원의 여자친구 성명은?\")\n",
    "for i in docs:\n",
    "    print(i.metadata)\n",
    "    print(\":\")\n",
    "    print(i.page_content.replace('\\n',' '))\n",
    "    print(len(i.page_content.replace('\\n',' ')))\n",
    "    print(\"=\"*50)"
   ],
   "id": "fa2020b807338f7d",
   "outputs": [
    {
     "name": "stdout",
     "output_type": "stream",
     "text": [
      "{'total_pages': 3, 'page': 0, 'creator': 'Microsoft® Word Microsoft 365용', 'producer': 'Microsoft® Word Microsoft 365용', 'page_label': '1', 'author': 'YechanKim', 'creationdate': '2025-05-22T16:01:03+09:00', 'source': './RAG-Practice-PDF-JongHyun.pdf', 'moddate': '2025-05-22T16:01:03+09:00'}\n",
      ":\n",
      "지도교수는 전문구.  - 2023년 9월부터 광주과학기술원 전기전자컴퓨터공학부 박사과정에 재학 중.    박종현 연구원의 여자친구 성명은 ‘김수연’ 입니다.  안녕하십니까?  박종현 연구원입니다.  제 소개를 드리도록 하지요.\n",
      "126\n",
      "==================================================\n",
      "{'creationdate': '2025-05-22T16:01:03+09:00', 'producer': 'Microsoft® Word Microsoft 365용', 'source': './RAG-Practice-PDF-JongHyun.pdf', 'page': 0, 'total_pages': 3, 'author': 'YechanKim', 'creator': 'Microsoft® Word Microsoft 365용', 'page_label': '1', 'moddate': '2025-05-22T16:01:03+09:00'}\n",
      ":\n",
      "영문명  - JongHyun Park  어디 출신?  - 경기 수원  - 1997년 1월 12일에 태어났으며, 부모님은 LG전자 사내연애를 통해 눈이 맞으심.  - 가족 관계로는 부모님과 여동생 1명이 있음.  병역?  - 2016년 1월 18일 입대하여, 2017년 10월 17일 병장으로 해병대를 전역함. 군번 은 16-72000349. 병과는 21/1. 해병대 제1사단 전차대대 소속이었음.  - 해병대 상병 계급일 때, 해병대교육훈련단장으로부터 공수휘장패용증을 수여 받 은 바 있음.  자격?  - 인명구조요원, 응급처치법전문과정 자격증 보유  어학 연수 경험?  - 해외 어학 연수 경험 없음  - 다만, 유아 시절, ‘영어 유치원’을 다니며 영어 회화 실력을 키워옴  학력?  - 학사 학위는 2021년 2월 경기에 있는 수원대학교에서 취득하였음. 정보통신학부 를 최우등으로 졸업하였음.  - 석사 학위는 2023년 8월 광주과학기술원 전기전자컴퓨터공학부에서 취득하였음.  지도교수는 전문구.  - 2023년 9월부터 광주과학기술원 전기전자컴퓨터공학부 박사과정에 재학 중.    박종현 연구원의 여자친구 성명은 ‘김수연’ 입니다.  안녕하십니까?  박종현 연구원입니다.  제 소개를 드리도록 하지요.\n",
      "621\n",
      "==================================================\n"
     ]
    }
   ],
   "execution_count": 26
  },
  {
   "metadata": {},
   "cell_type": "code",
   "outputs": [],
   "execution_count": null,
   "source": "",
   "id": "8082f4fb1d2d9d7c"
  }
 ],
 "metadata": {
  "kernelspec": {
   "display_name": "Python 3",
   "language": "python",
   "name": "python3"
  },
  "language_info": {
   "codemirror_mode": {
    "name": "ipython",
    "version": 2
   },
   "file_extension": ".py",
   "mimetype": "text/x-python",
   "name": "python",
   "nbconvert_exporter": "python",
   "pygments_lexer": "ipython2",
   "version": "2.7.6"
  }
 },
 "nbformat": 4,
 "nbformat_minor": 5
}
