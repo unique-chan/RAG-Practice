{
 "cells": [
  {
   "cell_type": "code",
   "id": "initial_id",
   "metadata": {
    "collapsed": true,
    "ExecuteTime": {
     "end_time": "2025-05-21T07:40:04.755452Z",
     "start_time": "2025-05-21T07:40:03.108262Z"
    }
   },
   "source": [
    "import tiktoken\n",
    "import openai\n",
    "from langchain.embeddings.sentence_transformer import SentenceTransformerEmbeddings\n",
    "from langchain.text_splitter import RecursiveCharacterTextSplitter\n",
    "from langchain.vectorstores import Chroma\n",
    "from langchain.document_loaders import TextLoader\n",
    "from langchain.document_loaders import PyPDFLoader\n",
    "from langchain.document_loaders import WebBaseLoader\n",
    "from langchain.embeddings import HuggingFaceEmbeddings\n",
    "from langchain.retrievers  import BM25Retriever\n",
    "from langchain.retrievers import EnsembleRetriever\n",
    "from langchain_community.vectorstores import FAISS"
   ],
   "outputs": [
    {
     "name": "stderr",
     "output_type": "stream",
     "text": [
      "USER_AGENT environment variable not set, consider setting it to identify your requests.\n"
     ]
    }
   ],
   "execution_count": 2
  },
  {
   "metadata": {},
   "cell_type": "markdown",
   "source": [
    "### 1. BM25 기반 검색기 만들기\n",
    "- BM25는 사용자가 검색한 단어가 특정 문서 내에서 많이 등장할수록 (TF가 높을수록), 전체 문서 중 매우 적은 수의 문서에만 나타나는 단어일수록 (IDF가 클수록), 그리고 문서의 길이가 짧을수록, 더 높은 점수를 주어 해당 문서를 사용자가 원하는 검색 결과의 상위에 배치함"
   ],
   "id": "b25b972c2ae2a4c7"
  },
  {
   "metadata": {
    "ExecuteTime": {
     "end_time": "2025-05-21T07:49:36.463812Z",
     "start_time": "2025-05-21T07:49:36.446808Z"
    }
   },
   "cell_type": "code",
   "source": [
    "loader = PyPDFLoader('./gsat_170823.pdf')\n",
    "pages = loader.load_and_split() # pdf 페이지 단위로 쪼깨서 읽어 들임\n",
    "print(len(pages))"
   ],
   "id": "90bc4f4973ff266",
   "outputs": [],
   "execution_count": null
  },
  {
   "metadata": {
    "ExecuteTime": {
     "end_time": "2025-05-21T07:49:38.223143Z",
     "start_time": "2025-05-21T07:49:38.211440Z"
    }
   },
   "cell_type": "code",
   "source": "model_huggingface = HuggingFaceEmbeddings(model_name='BAAI/bge-m3')",
   "id": "a818ec238441638a",
   "outputs": [],
   "execution_count": null
  },
  {
   "metadata": {
    "ExecuteTime": {
     "end_time": "2025-05-21T07:49:40.846969Z",
     "start_time": "2025-05-21T07:49:40.834969Z"
    }
   },
   "cell_type": "code",
   "source": "pages[0]",
   "id": "c1006204fe1fa274",
   "outputs": [],
   "execution_count": null
  },
  {
   "metadata": {
    "ExecuteTime": {
     "end_time": "2025-05-21T07:49:43.151765Z",
     "start_time": "2025-05-21T07:49:43.138767Z"
    }
   },
   "cell_type": "code",
   "source": "pages[0].page_content",
   "id": "ab199545db511049",
   "outputs": [],
   "execution_count": null
  },
  {
   "metadata": {
    "ExecuteTime": {
     "end_time": "2025-05-21T07:49:47.134243Z",
     "start_time": "2025-05-21T07:49:47.121243Z"
    }
   },
   "cell_type": "code",
   "source": "pages[1].page_content",
   "id": "8e2706a93c4a9456",
   "outputs": [],
   "execution_count": null
  },
  {
   "metadata": {},
   "cell_type": "markdown",
   "source": "### Chunking하자!",
   "id": "e88b219617fddb5e"
  },
  {
   "metadata": {
    "ExecuteTime": {
     "end_time": "2025-05-21T07:40:23.186684Z",
     "start_time": "2025-05-21T07:40:23.171686Z"
    }
   },
   "cell_type": "code",
   "source": [
    "text_splitter = RecursiveCharacterTextSplitter(chunk_size=500, chunk_overlap=0)\n",
    "texts = text_splitter.split_documents(pages)"
   ],
   "id": "3cee96c9e7126fd7",
   "outputs": [],
   "execution_count": 7
  },
  {
   "metadata": {
    "ExecuteTime": {
     "end_time": "2025-05-21T07:49:51.160043Z",
     "start_time": "2025-05-21T07:49:51.147037Z"
    }
   },
   "cell_type": "code",
   "source": "texts",
   "id": "92fa37452b18bfa1",
   "outputs": [],
   "execution_count": null
  },
  {
   "metadata": {
    "ExecuteTime": {
     "end_time": "2025-05-21T07:49:54.630977Z",
     "start_time": "2025-05-21T07:49:54.618976Z"
    }
   },
   "cell_type": "code",
   "source": "len(texts)",
   "id": "cc60ab715f42e4da",
   "outputs": [],
   "execution_count": null
  },
  {
   "metadata": {
    "ExecuteTime": {
     "end_time": "2025-05-21T07:49:57.147666Z",
     "start_time": "2025-05-21T07:49:57.134669Z"
    }
   },
   "cell_type": "code",
   "source": "len(texts[0].page_content)",
   "id": "983193a1b52782e8",
   "outputs": [],
   "execution_count": null
  },
  {
   "metadata": {},
   "cell_type": "markdown",
   "source": "### BM-25 검색기",
   "id": "6b205c844c764a9d"
  },
  {
   "metadata": {
    "ExecuteTime": {
     "end_time": "2025-05-21T07:41:55.242266Z",
     "start_time": "2025-05-21T07:41:55.229267Z"
    }
   },
   "cell_type": "code",
   "source": [
    "bm25_retriever = BM25Retriever.from_documents(texts)\n",
    "bm25_retriever.k = 2"
   ],
   "id": "63b0a4bcb3c01792",
   "outputs": [],
   "execution_count": 11
  },
  {
   "metadata": {
    "ExecuteTime": {
     "end_time": "2025-05-21T07:50:00.270589Z",
     "start_time": "2025-05-21T07:50:00.258078Z"
    }
   },
   "cell_type": "code",
   "source": "docs = bm25_retriever.get_relevant_documents(\"삼성전자의 사업 영역은?\")",
   "id": "2c4469a45918aa7a",
   "outputs": [],
   "execution_count": null
  },
  {
   "metadata": {
    "ExecuteTime": {
     "end_time": "2025-05-21T07:50:02.752260Z",
     "start_time": "2025-05-21T07:50:02.740262Z"
    }
   },
   "cell_type": "code",
   "source": [
    "for i in docs:\n",
    "    print(i.metadata)\n",
    "    print(\":\")\n",
    "    print(i.page_content.replace('\\n',' '))\n",
    "    print(len(i.page_content.replace('\\n',' ')))\n",
    "    print(\"*\"*30)"
   ],
   "id": "c44981e5fd1c26b7",
   "outputs": [],
   "execution_count": null
  },
  {
   "metadata": {},
   "cell_type": "markdown",
   "source": "### 임베딩 기반 검색기",
   "id": "67c56b973b7f9d1d"
  },
  {
   "metadata": {
    "ExecuteTime": {
     "end_time": "2025-05-21T07:45:24.162089Z",
     "start_time": "2025-05-21T07:44:53.595554Z"
    }
   },
   "cell_type": "code",
   "source": [
    "chroma_vector = Chroma.from_documents(texts, model_huggingface)\n",
    "chroma_retriever = chroma_vector.as_retriever(search_kwargs={'k':2})"
   ],
   "id": "c58fdd953692cec3",
   "outputs": [],
   "execution_count": 15
  },
  {
   "metadata": {
    "ExecuteTime": {
     "end_time": "2025-05-21T07:50:06.783144Z",
     "start_time": "2025-05-21T07:50:06.771018Z"
    }
   },
   "cell_type": "code",
   "source": [
    "docs = chroma_retriever.invoke(\"삼성전자의 사업 영역은?\")\n",
    "for i in docs:\n",
    "    print(i.metadata)\n",
    "    print(\":\")\n",
    "    print(i.page_content.replace('\\n',' '))\n",
    "    print(len(i.page_content.replace('\\n',' ')))\n",
    "    print(\"*\"*30)"
   ],
   "id": "a3faddf50ba07e9d",
   "outputs": [],
   "execution_count": null
  },
  {
   "metadata": {},
   "cell_type": "markdown",
   "source": "### BM-25 + 임베딩 앙상블 기반 검색기",
   "id": "656580893e0d3f13"
  },
  {
   "metadata": {
    "ExecuteTime": {
     "end_time": "2025-05-21T07:46:33.548830Z",
     "start_time": "2025-05-21T07:46:33.410771Z"
    }
   },
   "cell_type": "code",
   "source": [
    "ensemble_retriever = EnsembleRetriever(\n",
    "                    retrievers = [bm25_retriever, chroma_retriever], weight = {0.5,0.5})\n",
    "\n",
    "docs = ensemble_retriever.invoke(\"삼성전자의 사업 영역은?\")"
   ],
   "id": "dfed5a280cac50a6",
   "outputs": [],
   "execution_count": 17
  },
  {
   "metadata": {
    "ExecuteTime": {
     "end_time": "2025-05-21T07:50:15.086586Z",
     "start_time": "2025-05-21T07:50:15.074078Z"
    }
   },
   "cell_type": "code",
   "source": [
    "for i in docs:\n",
    "    print(i.metadata)\n",
    "    print(\":\")\n",
    "    print(i.page_content.replace('\\n',' '))\n",
    "    print(len(i.page_content.replace('\\n',' ')))\n",
    "    print(\"*\"*30)"
   ],
   "id": "d8712ec3515523c7",
   "outputs": [],
   "execution_count": null
  }
 ],
 "metadata": {
  "kernelspec": {
   "display_name": "Python 3",
   "language": "python",
   "name": "python3"
  },
  "language_info": {
   "codemirror_mode": {
    "name": "ipython",
    "version": 2
   },
   "file_extension": ".py",
   "mimetype": "text/x-python",
   "name": "python",
   "nbconvert_exporter": "python",
   "pygments_lexer": "ipython2",
   "version": "2.7.6"
  }
 },
 "nbformat": 4,
 "nbformat_minor": 5
}
