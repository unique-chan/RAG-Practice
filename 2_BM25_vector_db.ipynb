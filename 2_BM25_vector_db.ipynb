{
 "cells": [
  {
   "cell_type": "code",
   "id": "initial_id",
   "metadata": {
    "collapsed": true,
    "ExecuteTime": {
     "end_time": "2025-05-21T07:40:04.755452Z",
     "start_time": "2025-05-21T07:40:03.108262Z"
    }
   },
   "source": [
    "import tiktoken\n",
    "import openai\n",
    "from langchain.embeddings.sentence_transformer import SentenceTransformerEmbeddings\n",
    "from langchain.text_splitter import RecursiveCharacterTextSplitter\n",
    "from langchain.vectorstores import Chroma\n",
    "from langchain.document_loaders import TextLoader\n",
    "from langchain.document_loaders import PyPDFLoader\n",
    "from langchain.document_loaders import WebBaseLoader\n",
    "from langchain.embeddings import HuggingFaceEmbeddings\n",
    "from langchain.retrievers  import BM25Retriever\n",
    "from langchain.retrievers import EnsembleRetriever\n",
    "from langchain_community.vectorstores import FAISS"
   ],
   "outputs": [
    {
     "name": "stderr",
     "output_type": "stream",
     "text": [
      "USER_AGENT environment variable not set, consider setting it to identify your requests.\n"
     ]
    }
   ],
   "execution_count": 2
  },
  {
   "metadata": {},
   "cell_type": "markdown",
   "source": [
    "### 1. BM25 기반 검색기 만들기\n",
    "- BM25는 사용자가 검색한 단어가 특정 문서 내에서 많이 등장할수록 (TF가 높을수록), 전체 문서 중 매우 적은 수의 문서에만 나타나는 단어일수록 (IDF가 클수록), 그리고 문서의 길이가 짧을수록, 더 높은 점수를 주어 해당 문서를 사용자가 원하는 검색 결과의 상위에 배치함"
   ],
   "id": "b25b972c2ae2a4c7"
  },
  {
   "metadata": {
    "ExecuteTime": {
     "end_time": "2025-05-21T07:40:08.077832Z",
     "start_time": "2025-05-21T07:40:06.966198Z"
    }
   },
   "cell_type": "code",
   "source": [
    "loader = PyPDFLoader('./gsat_170823.pdf')\n",
    "pages = loader.load_and_split() # pdf 페이지 단위로 쪼깨서 읽어 들임\n",
    "print(len(pages))"
   ],
   "id": "90bc4f4973ff266",
   "outputs": [
    {
     "name": "stderr",
     "output_type": "stream",
     "text": [
      "Ignoring wrong pointing object 2 65536 (offset 0)\n",
      "Ignoring wrong pointing object 75 65536 (offset 0)\n",
      "Ignoring wrong pointing object 85 65536 (offset 0)\n",
      "Ignoring wrong pointing object 94 65536 (offset 0)\n",
      "Ignoring wrong pointing object 98 65536 (offset 0)\n",
      "Ignoring wrong pointing object 102 65536 (offset 0)\n",
      "Ignoring wrong pointing object 109 65536 (offset 0)\n",
      "Ignoring wrong pointing object 119 65536 (offset 0)\n",
      "Ignoring wrong pointing object 132 65536 (offset 0)\n",
      "Ignoring wrong pointing object 148 65536 (offset 0)\n",
      "Ignoring wrong pointing object 176 65536 (offset 0)\n",
      "Ignoring wrong pointing object 188 65536 (offset 0)\n",
      "Ignoring wrong pointing object 192 65536 (offset 0)\n",
      "Ignoring wrong pointing object 199 65536 (offset 0)\n",
      "Ignoring wrong pointing object 203 65536 (offset 0)\n",
      "Ignoring wrong pointing object 207 65536 (offset 0)\n",
      "Ignoring wrong pointing object 211 65536 (offset 0)\n",
      "Ignoring wrong pointing object 215 65536 (offset 0)\n",
      "Ignoring wrong pointing object 219 65536 (offset 0)\n",
      "Ignoring wrong pointing object 223 65536 (offset 0)\n",
      "Ignoring wrong pointing object 227 65536 (offset 0)\n",
      "Ignoring wrong pointing object 234 65536 (offset 0)\n",
      "Ignoring wrong pointing object 238 65536 (offset 0)\n",
      "Ignoring wrong pointing object 242 65536 (offset 0)\n",
      "Ignoring wrong pointing object 246 65536 (offset 0)\n",
      "Ignoring wrong pointing object 250 65536 (offset 0)\n",
      "Ignoring wrong pointing object 257 65536 (offset 0)\n"
     ]
    },
    {
     "name": "stdout",
     "output_type": "stream",
     "text": [
      "27\n"
     ]
    }
   ],
   "execution_count": 3
  },
  {
   "metadata": {
    "ExecuteTime": {
     "end_time": "2025-05-21T07:40:23.109173Z",
     "start_time": "2025-05-21T07:40:10.277123Z"
    }
   },
   "cell_type": "code",
   "source": "model_huggingface = HuggingFaceEmbeddings(model_name='BAAI/bge-m3')",
   "id": "a818ec238441638a",
   "outputs": [
    {
     "name": "stderr",
     "output_type": "stream",
     "text": [
      "C:\\Users\\yechan_amd\\AppData\\Local\\Temp\\ipykernel_21516\\1537676741.py:1: LangChainDeprecationWarning: The class `HuggingFaceEmbeddings` was deprecated in LangChain 0.2.2 and will be removed in 1.0. An updated version of the class exists in the :class:`~langchain-huggingface package and should be used instead. To use it run `pip install -U :class:`~langchain-huggingface` and import as `from :class:`~langchain_huggingface import HuggingFaceEmbeddings``.\n",
      "  model_huggingface = HuggingFaceEmbeddings(model_name='BAAI/bge-m3')\n"
     ]
    }
   ],
   "execution_count": 4
  },
  {
   "metadata": {
    "ExecuteTime": {
     "end_time": "2025-05-21T06:48:02.487703Z",
     "start_time": "2025-05-21T06:48:02.474555Z"
    }
   },
   "cell_type": "code",
   "source": "pages[0]",
   "id": "c1006204fe1fa274",
   "outputs": [
    {
     "data": {
      "text/plain": [
       "Document(metadata={'producer': 'itext-paulo-155 (itextpdf.sf.net-lowagie.com)', 'creator': 'nPDF (pdftk 1.41)', 'creationdate': '2017-08-16T00:21:02-08:00', 'moddate': '2017-08-16T00:21:02-08:00', 'source': './gsat_170823.pdf', 'total_pages': 27, 'page': 0, 'page_label': '1'}, page_content='2\\n01 삼성전자 기업분석\\n(Samsung Electronics Co., Ltd)\\nⅠ 기업 일반 \\n1  기업개요\\n1) 기업소개 \\n본사주소 경기도 수원시 영통구 삼성로 129(매탄동 416)\\n사업분야 삼성그룹의 대표 기업으로 휴대폰, 정보통신기기, 반도체, TV 등을 생산 판매하는 제조업체\\n홈페이지 www.samsung.com/sec 구분 전기전자 대기업  \\n설립일 1961년 07월 01일 대표이사 권오현 \\n총자산1) 244조 매출액2) 200조\\n임직원수 95,374명 \\n∙ 1975년 1월 주식시장 상장\\n∙ 1984년 2월 삼성전자공업주식회사->삼성전자주식회사로 사명 변경 \\n∙ CE(Consumer Electronics), IM(Information technology & Mobile communications), DS(Device Solutions) \\n3개의 부문으로 나누어 독립 경영.\\n부문 제품\\nCE TV, 모니터, 냉장고, 세탁기, 에어컨, 프린터, 의료기기 등\\nIM HHP, 네트워크시스템, 컴퓨터, 디지털카메라 등\\nDS DRAM, NAND Flash, 모바일AP, LCD패널, OLED패널, LED 등 \\n∙ 주요 사업은 전자전지기계 등 제조, 전자통신기 등 제도, 컴퓨터 등 제조, 반도체 제조·조립 등. 주요 \\n제품과 구성비율은 HHP, 네트워크시스템, 컴퓨터, 디지털카메라 등 54%, TV, 모니터, 냉장고, 세탁기, \\n에어컨 등 2 4 % ,  D R A M ,  N A N D  F l a s h ,  모바일 AP 등 19% 등으로 구분 \\n∙ 지역별로는 본사를 거점으로 한국 및 CE, IM 부문 산하 해외 9개 지역총괄과 DS 부문 산하 해외 5개 \\n지역총괄의 생산ㆍ판매법인 등 165개의 동종업종을 영위하는 종속기업으로 구성\\n∙ 국내사업장 : 수원, 구미, 기흥, 화성, 온양, 광주\\n∙ 해외사업장 : 86개국 220개지점 (15년 말 기준)\\n1) 연결재무재표 기준\\n2) 연결재무재표 기준')"
      ]
     },
     "execution_count": 4,
     "metadata": {},
     "output_type": "execute_result"
    }
   ],
   "execution_count": 4
  },
  {
   "metadata": {
    "ExecuteTime": {
     "end_time": "2025-05-21T06:48:11.195519Z",
     "start_time": "2025-05-21T06:48:11.181518Z"
    }
   },
   "cell_type": "code",
   "source": "pages[0].page_content",
   "id": "ab199545db511049",
   "outputs": [
    {
     "data": {
      "text/plain": [
       "'2\\n01 삼성전자 기업분석\\n(Samsung Electronics Co., Ltd)\\nⅠ 기업 일반 \\n1  기업개요\\n1) 기업소개 \\n본사주소 경기도 수원시 영통구 삼성로 129(매탄동 416)\\n사업분야 삼성그룹의 대표 기업으로 휴대폰, 정보통신기기, 반도체, TV 등을 생산 판매하는 제조업체\\n홈페이지 www.samsung.com/sec 구분 전기전자 대기업  \\n설립일 1961년 07월 01일 대표이사 권오현 \\n총자산1) 244조 매출액2) 200조\\n임직원수 95,374명 \\n∙ 1975년 1월 주식시장 상장\\n∙ 1984년 2월 삼성전자공업주식회사->삼성전자주식회사로 사명 변경 \\n∙ CE(Consumer Electronics), IM(Information technology & Mobile communications), DS(Device Solutions) \\n3개의 부문으로 나누어 독립 경영.\\n부문 제품\\nCE TV, 모니터, 냉장고, 세탁기, 에어컨, 프린터, 의료기기 등\\nIM HHP, 네트워크시스템, 컴퓨터, 디지털카메라 등\\nDS DRAM, NAND Flash, 모바일AP, LCD패널, OLED패널, LED 등 \\n∙ 주요 사업은 전자전지기계 등 제조, 전자통신기 등 제도, 컴퓨터 등 제조, 반도체 제조·조립 등. 주요 \\n제품과 구성비율은 HHP, 네트워크시스템, 컴퓨터, 디지털카메라 등 54%, TV, 모니터, 냉장고, 세탁기, \\n에어컨 등 2 4 % ,  D R A M ,  N A N D  F l a s h ,  모바일 AP 등 19% 등으로 구분 \\n∙ 지역별로는 본사를 거점으로 한국 및 CE, IM 부문 산하 해외 9개 지역총괄과 DS 부문 산하 해외 5개 \\n지역총괄의 생산ㆍ판매법인 등 165개의 동종업종을 영위하는 종속기업으로 구성\\n∙ 국내사업장 : 수원, 구미, 기흥, 화성, 온양, 광주\\n∙ 해외사업장 : 86개국 220개지점 (15년 말 기준)\\n1) 연결재무재표 기준\\n2) 연결재무재표 기준'"
      ]
     },
     "execution_count": 5,
     "metadata": {},
     "output_type": "execute_result"
    }
   ],
   "execution_count": 5
  },
  {
   "metadata": {
    "ExecuteTime": {
     "end_time": "2025-05-21T06:48:29.133618Z",
     "start_time": "2025-05-21T06:48:29.118500Z"
    }
   },
   "cell_type": "code",
   "source": "pages[1].page_content",
   "id": "8e2706a93c4a9456",
   "outputs": [
    {
     "data": {
      "text/plain": [
       "'3\\n2) 주요 사업 분야 \\n⑴ CE(Consumer Electronics)부문 \\n① 산업의 특성 \\n∙TV산업은 1926년 흑백 TV 개발, 1954년 RCA사가 Color TV(21\") 양산/판매를 시작한 이래로 트리니트\\n론 브라운관(1967년), 완전평면 브라운관(1996년) 개발 등 기술적인 발전을 거듭\\n∙ 주요 국가 보급률이 90% 넘어서면서 브라운관 TV사업의 성장은 정체 \\n∙ 그러나 하드웨어 측면에서의 Flat Panel TV(LCD, PDP) 출시, 소프트웨어 측면에서의 디지털 방송 \\n확산(영/미 1998년~ )을 통해 TV 시장은 또 다시 강력한 성장 모멘텀을 되찾음 \\n∙FPTV는 화질, 디자인 등 제품 성능의 향상과 지속적인 Set가격 하락으로 인해 성장을 지속하며 기존 \\nCRT 시장을 빠르게 대체\\n∙ 2010년 3D TV출시\\n∙ 2011년~2012년 스마트TV 태동 \\n∙ 2013년 UHD TV 출시 \\n∙ 2014년 Curved TV 출시 \\n∙2016년도 전체 TV 수요는 전년비 1.6% 하락한 2억 2,252만대로 제품별로는 LCD-TV(LED-TV포함)가 \\n전년비 1.3% 하락한 2억 2,131만대 전망되나, 고해상도 Needs확대에 따라 UHD TV는 56백만대로 \\n전년比 75% 성장할 것으로 예상(출처 : 2016.9월 IHS Report)\\n② 국내외 시장연건 \\n∙ TV시장의 Mega Trend인 대형화/고화질화가 Device간, 업체간 경쟁 격화에 따라 더욱 빠른 속도로 \\n진행되고 있으며, 이에 따라 제품력과 브랜드파워를 앞세운 Major 업체의 강세가 지속\\n∙ 고화질 및 슬림 제품에 대한 소비자 Needs가 높아짐에 따라 친환경 소재인 LED BLU(Back Light \\nUnit)를 적용하여 TV의 밝기와 명암비를 높이고 소비전력을 낮춘 LED TV가 시장의 Main Stream으로 \\n자리 잡음\\n∙ 2010년에는 다양한 App을 이용할 수있는 스마트 TV를 출시하고 시장을 주도\\n∙2012년에는 소비자의 사용편의 혁신을 위해 음성/제스처 기반의 신개념 입력방식(Smart Interaction)\\n을 도입하여 향후 TV 시장 트렌드 리드\\n∙ 2013년에는 사용자의 사용이력을 기반으로 하여 방송 프로그램을 추천해주는 시스템을 도입\\n∙2014년에는 비디오 시청 경험 극대화를 스마트 TV 지향점으로 지정하고 사용성 혁신, 다양한 비디오 \\n컨텐츠 확보, 플랫폼 성능 강화 등을 추진\\n∙ 방송, OTT VOD 서비스, 클라우드 게임 등을 가장 쉽게 사용할 수 있도록 스마트 UX 혁신\\n∙2016년 스마트 TV는 연결된 기기를 자동으로 인식할 뿐만 아니라 하나의 리모컨으로 방송 셋탑박스, \\n블루레이 플레이어 및 주변기기를 컨트롤하고 보다 다양해진 엔터테인먼트 소스를 가장 편리하게 \\n이용할 수 있도록 함 \\nCE 부문 주요제품 시장점유율 추이\\n제 품 2016년 3분기 2015년 2014년\\nTV 21.6% 21.0% 22.6%'"
      ]
     },
     "execution_count": 6,
     "metadata": {},
     "output_type": "execute_result"
    }
   ],
   "execution_count": 6
  },
  {
   "metadata": {},
   "cell_type": "markdown",
   "source": "### Chunking하자!",
   "id": "e88b219617fddb5e"
  },
  {
   "metadata": {
    "ExecuteTime": {
     "end_time": "2025-05-21T07:40:23.186684Z",
     "start_time": "2025-05-21T07:40:23.171686Z"
    }
   },
   "cell_type": "code",
   "source": [
    "text_splitter = RecursiveCharacterTextSplitter(chunk_size=500, chunk_overlap=0)\n",
    "texts = text_splitter.split_documents(pages)"
   ],
   "id": "3cee96c9e7126fd7",
   "outputs": [],
   "execution_count": 7
  },
  {
   "metadata": {
    "ExecuteTime": {
     "end_time": "2025-05-21T07:40:28.051801Z",
     "start_time": "2025-05-21T07:40:28.008802Z"
    }
   },
   "cell_type": "code",
   "source": "texts",
   "id": "92fa37452b18bfa1",
   "outputs": [
    {
     "data": {
      "text/plain": [
       "[Document(metadata={'producer': 'itext-paulo-155 (itextpdf.sf.net-lowagie.com)', 'creator': 'nPDF (pdftk 1.41)', 'creationdate': '2017-08-16T00:21:02-08:00', 'moddate': '2017-08-16T00:21:02-08:00', 'source': './gsat_170823.pdf', 'total_pages': 27, 'page': 0, 'page_label': '1'}, page_content='2\\n01 삼성전자 기업분석\\n(Samsung Electronics Co., Ltd)\\nⅠ 기업 일반 \\n1  기업개요\\n1) 기업소개 \\n본사주소 경기도 수원시 영통구 삼성로 129(매탄동 416)\\n사업분야 삼성그룹의 대표 기업으로 휴대폰, 정보통신기기, 반도체, TV 등을 생산 판매하는 제조업체\\n홈페이지 www.samsung.com/sec 구분 전기전자 대기업  \\n설립일 1961년 07월 01일 대표이사 권오현 \\n총자산1) 244조 매출액2) 200조\\n임직원수 95,374명 \\n∙ 1975년 1월 주식시장 상장\\n∙ 1984년 2월 삼성전자공업주식회사->삼성전자주식회사로 사명 변경 \\n∙ CE(Consumer Electronics), IM(Information technology & Mobile communications), DS(Device Solutions) \\n3개의 부문으로 나누어 독립 경영.\\n부문 제품\\nCE TV, 모니터, 냉장고, 세탁기, 에어컨, 프린터, 의료기기 등'),\n",
       " Document(metadata={'producer': 'itext-paulo-155 (itextpdf.sf.net-lowagie.com)', 'creator': 'nPDF (pdftk 1.41)', 'creationdate': '2017-08-16T00:21:02-08:00', 'moddate': '2017-08-16T00:21:02-08:00', 'source': './gsat_170823.pdf', 'total_pages': 27, 'page': 0, 'page_label': '1'}, page_content='IM HHP, 네트워크시스템, 컴퓨터, 디지털카메라 등\\nDS DRAM, NAND Flash, 모바일AP, LCD패널, OLED패널, LED 등 \\n∙ 주요 사업은 전자전지기계 등 제조, 전자통신기 등 제도, 컴퓨터 등 제조, 반도체 제조·조립 등. 주요 \\n제품과 구성비율은 HHP, 네트워크시스템, 컴퓨터, 디지털카메라 등 54%, TV, 모니터, 냉장고, 세탁기, \\n에어컨 등 2 4 % ,  D R A M ,  N A N D  F l a s h ,  모바일 AP 등 19% 등으로 구분 \\n∙ 지역별로는 본사를 거점으로 한국 및 CE, IM 부문 산하 해외 9개 지역총괄과 DS 부문 산하 해외 5개 \\n지역총괄의 생산ㆍ판매법인 등 165개의 동종업종을 영위하는 종속기업으로 구성\\n∙ 국내사업장 : 수원, 구미, 기흥, 화성, 온양, 광주\\n∙ 해외사업장 : 86개국 220개지점 (15년 말 기준)\\n1) 연결재무재표 기준\\n2) 연결재무재표 기준'),\n",
       " Document(metadata={'producer': 'itext-paulo-155 (itextpdf.sf.net-lowagie.com)', 'creator': 'nPDF (pdftk 1.41)', 'creationdate': '2017-08-16T00:21:02-08:00', 'moddate': '2017-08-16T00:21:02-08:00', 'source': './gsat_170823.pdf', 'total_pages': 27, 'page': 1, 'page_label': '2'}, page_content='3\\n2) 주요 사업 분야 \\n⑴ CE(Consumer Electronics)부문 \\n① 산업의 특성 \\n∙TV산업은 1926년 흑백 TV 개발, 1954년 RCA사가 Color TV(21\") 양산/판매를 시작한 이래로 트리니트\\n론 브라운관(1967년), 완전평면 브라운관(1996년) 개발 등 기술적인 발전을 거듭\\n∙ 주요 국가 보급률이 90% 넘어서면서 브라운관 TV사업의 성장은 정체 \\n∙ 그러나 하드웨어 측면에서의 Flat Panel TV(LCD, PDP) 출시, 소프트웨어 측면에서의 디지털 방송 \\n확산(영/미 1998년~ )을 통해 TV 시장은 또 다시 강력한 성장 모멘텀을 되찾음 \\n∙FPTV는 화질, 디자인 등 제품 성능의 향상과 지속적인 Set가격 하락으로 인해 성장을 지속하며 기존 \\nCRT 시장을 빠르게 대체\\n∙ 2010년 3D TV출시\\n∙ 2011년~2012년 스마트TV 태동 \\n∙ 2013년 UHD TV 출시 \\n∙ 2014년 Curved TV 출시'),\n",
       " Document(metadata={'producer': 'itext-paulo-155 (itextpdf.sf.net-lowagie.com)', 'creator': 'nPDF (pdftk 1.41)', 'creationdate': '2017-08-16T00:21:02-08:00', 'moddate': '2017-08-16T00:21:02-08:00', 'source': './gsat_170823.pdf', 'total_pages': 27, 'page': 1, 'page_label': '2'}, page_content='∙2016년도 전체 TV 수요는 전년비 1.6% 하락한 2억 2,252만대로 제품별로는 LCD-TV(LED-TV포함)가 \\n전년비 1.3% 하락한 2억 2,131만대 전망되나, 고해상도 Needs확대에 따라 UHD TV는 56백만대로 \\n전년比 75% 성장할 것으로 예상(출처 : 2016.9월 IHS Report)\\n② 국내외 시장연건 \\n∙ TV시장의 Mega Trend인 대형화/고화질화가 Device간, 업체간 경쟁 격화에 따라 더욱 빠른 속도로 \\n진행되고 있으며, 이에 따라 제품력과 브랜드파워를 앞세운 Major 업체의 강세가 지속\\n∙ 고화질 및 슬림 제품에 대한 소비자 Needs가 높아짐에 따라 친환경 소재인 LED BLU(Back Light \\nUnit)를 적용하여 TV의 밝기와 명암비를 높이고 소비전력을 낮춘 LED TV가 시장의 Main Stream으로 \\n자리 잡음\\n∙ 2010년에는 다양한 App을 이용할 수있는 스마트 TV를 출시하고 시장을 주도'),\n",
       " Document(metadata={'producer': 'itext-paulo-155 (itextpdf.sf.net-lowagie.com)', 'creator': 'nPDF (pdftk 1.41)', 'creationdate': '2017-08-16T00:21:02-08:00', 'moddate': '2017-08-16T00:21:02-08:00', 'source': './gsat_170823.pdf', 'total_pages': 27, 'page': 1, 'page_label': '2'}, page_content='∙2012년에는 소비자의 사용편의 혁신을 위해 음성/제스처 기반의 신개념 입력방식(Smart Interaction)\\n을 도입하여 향후 TV 시장 트렌드 리드\\n∙ 2013년에는 사용자의 사용이력을 기반으로 하여 방송 프로그램을 추천해주는 시스템을 도입\\n∙2014년에는 비디오 시청 경험 극대화를 스마트 TV 지향점으로 지정하고 사용성 혁신, 다양한 비디오 \\n컨텐츠 확보, 플랫폼 성능 강화 등을 추진\\n∙ 방송, OTT VOD 서비스, 클라우드 게임 등을 가장 쉽게 사용할 수 있도록 스마트 UX 혁신\\n∙2016년 스마트 TV는 연결된 기기를 자동으로 인식할 뿐만 아니라 하나의 리모컨으로 방송 셋탑박스, \\n블루레이 플레이어 및 주변기기를 컨트롤하고 보다 다양해진 엔터테인먼트 소스를 가장 편리하게 \\n이용할 수 있도록 함 \\nCE 부문 주요제품 시장점유율 추이\\n제 품 2016년 3분기 2015년 2014년\\nTV 21.6% 21.0% 22.6%'),\n",
       " Document(metadata={'producer': 'itext-paulo-155 (itextpdf.sf.net-lowagie.com)', 'creator': 'nPDF (pdftk 1.41)', 'creationdate': '2017-08-16T00:21:02-08:00', 'moddate': '2017-08-16T00:21:02-08:00', 'source': './gsat_170823.pdf', 'total_pages': 27, 'page': 2, 'page_label': '3'}, page_content='4\\n③ 영업개황 \\n∙ 2006년이후 2015년까지 10년 연속으로 TV 전체, FPTV, LCD-TV 세계 1위등 Triple Crown을 지속 \\n달성\\n∙ 특히 2009년에는 세계 최초로 LED TV(LED BLU, 초슬림/초경량화, 친환경)라는 신규 카테고리를 \\n창출\\n∙2010년 1분기에 세계 최초로 3D TV/BDP/안경/BD Title을 동시에 제공하는 3D Total Solution을 출시\\n하여 압도적인 경쟁력 우위로 3D TV 시장을 선점\\n∙2010년에 세계 최초 TV용 App Store ‘Samsung Apps’를 런칭한 이후 2011년에는 “Your Video”, “Social \\nT V ”, “S e arch  A ll”, “W e b  B ro w se r” 등 다양한 서비스를 지속 추가하여 “스마트 TV = SAMSUNG”이라는 \\n이미지를 확립\\n⑵ IM(Information technology & Mobile communications)부문 \\n① 산업의 특성'),\n",
       " Document(metadata={'producer': 'itext-paulo-155 (itextpdf.sf.net-lowagie.com)', 'creator': 'nPDF (pdftk 1.41)', 'creationdate': '2017-08-16T00:21:02-08:00', 'moddate': '2017-08-16T00:21:02-08:00', 'source': './gsat_170823.pdf', 'total_pages': 27, 'page': 2, 'page_label': '3'}, page_content='∙휴대폰은 2015년 전세계 보급율이 75% 수준이었으며, 2016년에는 보급율 76%에 이를 것으로 전망(출\\n처: 2016.10월 Strategy Analytics)\\n∙휴대폰 산업은 1980년대 초 1세대 아날로그 방식으로 시작하여 2세대 디지털 방식을거쳐, WCDMA와 \\n같은 3세대 이동통신이 보편화되었으며, 대용량 데이터의 초고속 전송이 가능한 4세대 LTE 서비스로 \\n이동 중 \\n∙ 스마트폰 중심으로의 시장 변화에 따라, 고성능 AP, AMOLED Display, 고화질 카메라, 센서와 같은 \\nHardware 뿐만 아니라 컨텐츠/서비스, Application, UX 등 Software 경쟁력의 중요성이 더욱 부각 됨\\n② 국내외 시장연건\\n∙ 스마트폰 시장규모는 2015년 14.4억대에서 2016년에는 약 2% 성장하여 14.7억대 수준\\n∙태블릿 시장규모는 2015년 2.2억대에서 2016년 2.1억대 수준으로 전년比 약 7%의 역성장이 전망(출'),\n",
       " Document(metadata={'producer': 'itext-paulo-155 (itextpdf.sf.net-lowagie.com)', 'creator': 'nPDF (pdftk 1.41)', 'creationdate': '2017-08-16T00:21:02-08:00', 'moddate': '2017-08-16T00:21:02-08:00', 'source': './gsat_170823.pdf', 'total_pages': 27, 'page': 2, 'page_label': '3'}, page_content='처: Strategy Analytics - 스마트폰 16.9월, 태블릿 16.8월) \\nIM 부문 주요제품 시장점유율 추이\\n제 품 2016년 3분기 2015년 2014년\\nHHP(handheld player) 19.5% 20.7% 22.4%\\n③ 영업개황 \\n∙ 스마트폰은 Premium에서 보급형까지 다양하고 경쟁력 있는 라인업을 바탕으로 글로벌 1위 위상 \\n지속 \\n∙Flexible Display와 같은 새로운 폼팩터 및 차별화된 디자인/UX로 Premium 시장 리더십을 더욱 확고\\n히 하고, 보급형 시장도 적극적으로 대응하여 시장 지배력을 높여 나갈 계획 \\n∙ Gear S2,Gear VR과 같은 웨어러블 및 단말 사용성과 편의성을 더욱 높여주는 Accessory 제품으로 \\n고객의 다양한 요구에 적극적으로 대응\\n∙ Samsung Pay와 같은 Mobile Payment 분야와 Cloud, Mobile B2B 시장 등 미래 성장에 대비한 투자 \\n지속 예정'),\n",
       " Document(metadata={'producer': 'itext-paulo-155 (itextpdf.sf.net-lowagie.com)', 'creator': 'nPDF (pdftk 1.41)', 'creationdate': '2017-08-16T00:21:02-08:00', 'moddate': '2017-08-16T00:21:02-08:00', 'source': './gsat_170823.pdf', 'total_pages': 27, 'page': 3, 'page_label': '4'}, page_content='5\\n⑶ DS(Device Solutions)부문 \\n① 산업의 특성 \\n∙반도체는 일반적으로 정보를 저장하고 기억하는 메모리 반도체와 연산과 추론 등 논리적인 정보처리 \\n기능을 하는 System LSI(비메모리 반도체)로 구분\\n∙메모리반도체는 크게 읽고(Read) 쓸 수(Write)있는 램(RAM)제품과 읽기만 할 수 있는 롬(ROM)제품으\\n로 구분\\n∙램(RAM)은 전원이 꺼지면 기억된 내용은 지워져 휘발성메모리(Volatile Memory)라고 하며, 컴퓨터의 \\n주기억장치, 응용프로그램의 일시적 로딩(Loading), 데이터의 일시적 저장 등에 사용\\n∙ System LSI 제품은 응용처 등에 따라 종류가 다양하며 가장 규모가 큰 것이 PC 및 모바일 기기, \\nServer 등의 중앙처리장치인 CPU(Central Processing Unit)이고, 가전, 네트웍, 게임 등 다양한 분야에 \\n적용 \\n∙ 반도체 시장은 서버 등 정보 저장 기기의 고용량화로 메모리 시장의 지속적인 성장 예상'),\n",
       " Document(metadata={'producer': 'itext-paulo-155 (itextpdf.sf.net-lowagie.com)', 'creator': 'nPDF (pdftk 1.41)', 'creationdate': '2017-08-16T00:21:02-08:00', 'moddate': '2017-08-16T00:21:02-08:00', 'source': './gsat_170823.pdf', 'total_pages': 27, 'page': 3, 'page_label': '4'}, page_content='∙사물인터넷(IoT), Automotive 등 신규 시장이 창출되어 향후 수요가 급속히 증가할 것으로 예상되며, \\n수요 기반 또한 다변화되어 수급의 변동은 과거 대비 감소할 것으로 전망 \\n② 국내외 시장연건\\n∙ DRAM은 공급초과 상황에서 모바일 분야의 신제품 수요 증가 및 공급 업체의 선단공정 확대 지연 \\n등으로 인해 차츰 공급부족 상황으로 전환될 것으로 예상\\n∙ NAND는 SSD 채용 확대, 신규 모바일 기기의 NAND 탑재량 증가 등으로 수요가 지속 증가하고 \\n있으나, 공급 업계의 Planar NAND 추가 공정 개발의 한계 및 경쟁사의 Vertical NAND 확산이 지연되\\n고 있어 Chip 공급 부족이 지속될 전망\\n반도체 사업부문 주요제품 시장점유율 추이\\n제 품 2016년 3분기 2015년 2014년\\nDRAM 45.6% 45.3% 39.6%\\n         ※ 출처 : DRAMeXchange\\n③ 영업개황'),\n",
       " Document(metadata={'producer': 'itext-paulo-155 (itextpdf.sf.net-lowagie.com)', 'creator': 'nPDF (pdftk 1.41)', 'creationdate': '2017-08-16T00:21:02-08:00', 'moddate': '2017-08-16T00:21:02-08:00', 'source': './gsat_170823.pdf', 'total_pages': 27, 'page': 3, 'page_label': '4'}, page_content='∙ 2016년 초 10나노급 DRAM을 세계 최초로 개발했으며, 경쟁사 대비 1년 이상앞선 경쟁력을 확보\\n∙10나노급 차별화 제품의 추가 개발 및 차세대 DRAM 개발에 박차를 가하는 등 DRAM 시장의 절대적 \\n위상 확립 \\n∙ NAND의 경우 Planar 타입과 Vertical 타입을 동시에 양산하는 등 고객이 원하는 모든 제품을 적기 \\n대응\\n∙2016년은 모바일 기기의 성장이 지속될 것으로 예상됨에 따라, 선단공정을 기반으로 한 차별화 제품 \\n확대 및 다양한 제품 라인업을 이용한 응용처별 최적 대응을 통해 메모리 1위 업체로서 시장선도'),\n",
       " Document(metadata={'producer': 'itext-paulo-155 (itextpdf.sf.net-lowagie.com)', 'creator': 'nPDF (pdftk 1.41)', 'creationdate': '2017-08-16T00:21:02-08:00', 'moddate': '2017-08-16T00:21:02-08:00', 'source': './gsat_170823.pdf', 'total_pages': 27, 'page': 4, 'page_label': '5'}, page_content='6\\n[참고] 부문별 매출현황\\n(단위 : 백만원, %)\\n부문 구 \\xa0분\\n2016 3분기 2015 2014\\n금액 비중 금액 비중 금액 비중\\nCE\\n부문\\n총매출액 79,582,378 22.3% 120,688,835 24.5% 124,916,892 25.3%\\n내부매출액 46,172,641 22.2% 73,793,424 25.2% 74,733,757 25.9%\\n순매출액 33,409,737 22.5% 46,895,411 23.4% 50,183,135 24.3%\\n영업이익 2,316,599 11.6% 1,254,187 4.7% 1,184,325 4.7%\\n총자산 46,967,346 12.8% 45,998,007 12.8% 43,116,374 12.8%\\nIM\\n부문\\n총매출액 162,385,229 45.5% 222,023,600 45.0% 236,438,979 47.9%\\n내부매출액 85,691,134 41.1% 118,469,345 40.5% 124,674,435 43.3%'),\n",
       " Document(metadata={'producer': 'itext-paulo-155 (itextpdf.sf.net-lowagie.com)', 'creator': 'nPDF (pdftk 1.41)', 'creationdate': '2017-08-16T00:21:02-08:00', 'moddate': '2017-08-16T00:21:02-08:00', 'source': './gsat_170823.pdf', 'total_pages': 27, 'page': 4, 'page_label': '5'}, page_content='순매출액 76,694,095 51.6% 103,554,255 51.6% 111,764,544 54.2%\\n영업이익 8,311,641 41.5% 10,142,022 38.4% 14,562,885 58.2%\\n총자산 105,503,018 28.8% 98,463,323 27.4% 94,227,108 27.9%\\nDS\\n부문\\n반도체\\n총매출액 70,917,983 19.9% 90,600,806 18.4% 75,058,071 15.2%\\n내부매출액 34,618,802 16.6% 43,014,054 14.7% 35,328,169 12.3%\\n순매출액 36,299,181 24.4% 47,586,752 23.7% 39,729,902 19.3%\\n영업이익 8,645,298 43.2% 12,787,297 48.4% 8,776,442 35.1%\\n총자산 92,434,386 25.3% 98,989,253 27.6% 87,567,196 25.9%\\nDP'),\n",
       " Document(metadata={'producer': 'itext-paulo-155 (itextpdf.sf.net-lowagie.com)', 'creator': 'nPDF (pdftk 1.41)', 'creationdate': '2017-08-16T00:21:02-08:00', 'moddate': '2017-08-16T00:21:02-08:00', 'source': './gsat_170823.pdf', 'total_pages': 27, 'page': 4, 'page_label': '5'}, page_content='총매출액 40,083,165 11.2% 55,120,243 11.2% 52,227,615 10.6%\\n내부매출액 20,574,124 9.9% 27,633,382 9.4% 26,500,446 9.2%\\n순매출액 19,509,041 13.1% 27,486,861 13.7% 25,727,169 12.5%\\n영업이익 890,864 4.4% 2,295,367 8.7% 660,181 2.6%\\n총자산 52,561,516 14.4% 50,147,263 14.0% 46,826,533 13.8%\\n계\\n총매출액 113,897,218 31.9% 149,974,731 30.4% 131,459,756 26.6%\\n내부매출액 58,006,466 27.8% 74,948,617 25.6% 65,669,950 22.8%\\n순매출액 55,890,752 37.6% 75,026,114 37.4% 65,789,806 31.9%\\n영업이익 9,510,950 47.5% 14,887,262 56.4% 9,430,915 37.7%'),\n",
       " Document(metadata={'producer': 'itext-paulo-155 (itextpdf.sf.net-lowagie.com)', 'creator': 'nPDF (pdftk 1.41)', 'creationdate': '2017-08-16T00:21:02-08:00', 'moddate': '2017-08-16T00:21:02-08:00', 'source': './gsat_170823.pdf', 'total_pages': 27, 'page': 4, 'page_label': '5'}, page_content='총자산 168,857,515 46.2% 174,264,841 48.5% 160,138,321 47.4%\\n3) 회사 특징 \\n∙ 지연 학연보다 본인의 성과로 평가와 보상\\n∙ 성과주의 부담 큰 편 \\n∙ 기술 관련 부서는 군대식 문화가 존재 \\n∙ 업무량 및 야근 많음 \\n∙ 높은 연봉 및 복지\\n∙ 자율출퇴근제도'),\n",
       " Document(metadata={'producer': 'itext-paulo-155 (itextpdf.sf.net-lowagie.com)', 'creator': 'nPDF (pdftk 1.41)', 'creationdate': '2017-08-16T00:21:02-08:00', 'moddate': '2017-08-16T00:21:02-08:00', 'source': './gsat_170823.pdf', 'total_pages': 27, 'page': 5, 'page_label': '6'}, page_content='7\\n2  기업 경영철학, 미션. 비전, 이념 등\\n1) 이사장 경영철학\\n2) 미션 \\n인간의 삶을 풍요롭게 하고 사회적 책임을 다하는 지속 가능한 미래에 공헌하는 혁신적 기술, 제품 그리고 \\n디자인을 통해 미래 사회에 대한 영감 고취 \\n① 정량적 목표\\n매출 4,000억 달러, IT업계 압도적 1위, 글로벌 Top 5\\n② 정성적 목표 \\n혁신적인 기업, 존경 받는 기업 세계 Top 10, 신규 시장을 만드는 창조적인 리더, 세계 최고의 인재가 \\n일하고 싶어하는 기업'),\n",
       " Document(metadata={'producer': 'itext-paulo-155 (itextpdf.sf.net-lowagie.com)', 'creator': 'nPDF (pdftk 1.41)', 'creationdate': '2017-08-16T00:21:02-08:00', 'moddate': '2017-08-16T00:21:02-08:00', 'source': './gsat_170823.pdf', 'total_pages': 27, 'page': 6, 'page_label': '7'}, page_content='8\\n3) 비전 \\nVision 2020 “미래사회에 대한 영감, 새로운 미래 창조”\\n전 세계 커뮤니티에게 영감을 주어 보다 풍부한 디지털 경험으로 가득한 더 나은 세상을 만들고자 하는 \\n삼성의 열망에 수반되는 기술, 제품 그리고 솔루션 혁신을 선도하고자 하는 결연한 의지를 핵심적으로 \\n보여줍니다. 글로벌 사회에서 창의적인 리더로서의 책임을 인식할 때 직원과 협력사 간의 공유된 가치를 \\n만들 수 있으며, 동시에 산업과 고객에게 새로운 가치를 제공할 수 있는 노력과 자원을 투입할 수 있습니다. \\n삼성은 모든 사람이 흥미를 느끼고 기대하는 미래를 만들고자 합니다. \\n4) 전략방향 및 사업방향'),\n",
       " Document(metadata={'producer': 'itext-paulo-155 (itextpdf.sf.net-lowagie.com)', 'creator': 'nPDF (pdftk 1.41)', 'creationdate': '2017-08-16T00:21:02-08:00', 'moddate': '2017-08-16T00:21:02-08:00', 'source': './gsat_170823.pdf', 'total_pages': 27, 'page': 7, 'page_label': '8'}, page_content='9\\n∙ 뛰어난 운영 능력과 혁신을 만들어 내는 놀라운 능력으로 세계 최고의 제품을 제공\\n∙ 의료 건강 및 바이오 기술과 같은 새로운 비즈니스 영역 개척 \\n∙경쟁력을 강화하고 혁신의 역사를 이어나가기 위해 지금까지 이룬 성과의 토대 위에 창조   경영, 파트너\\n십 경영, 인재 경영을 통한 발전을 추구 \\n5) 인재상 \\n∙ Passion 열정 – 끊임없는 열정으로 미래에 도전하는 인\\n∙ Creativity 창의혁신 - 창의와 혁신으로 세상을 변화시키는 인재\\n∙ Integrity 인간미·도덕성 - 정직과 바른 행동으로 역할과 책임을 다하는 인재\\n6) 핵심가치 \\n∙ 인재제일 : 인재를 중시하고 키우는 기업문화, ‘기업이 곧 사람’ 이라는 신념을 바탕으로 모든 사람이 \\n각자 고유한 역량과 잠재력을 가진 우수한 인재이며 세상을 움직이는 원동력\\n∙ 최고지향 : 항상 최고에 도전하고 세계최고를 향한 경쟁에서 당당히 승리하기 위해 노력'),\n",
       " Document(metadata={'producer': 'itext-paulo-155 (itextpdf.sf.net-lowagie.com)', 'creator': 'nPDF (pdftk 1.41)', 'creationdate': '2017-08-16T00:21:02-08:00', 'moddate': '2017-08-16T00:21:02-08:00', 'source': './gsat_170823.pdf', 'total_pages': 27, 'page': 7, 'page_label': '8'}, page_content='∙ 변화선도 : 시대의 흐름을 파악하고 앞선 변화를 통한 창조적인 혁신을 추구\\n∙ 정도경영 : 고객과 사회로의 신뢰와 기본과 원칙에 따른 마음가짐을 중시\\n∙ 상생추구 : 고객, 임직원, 주주, 협력업체를 먼저 생각하는 상생정신\\n7) 삼성전자 CI\\n∙ 워드마크의 디자인은 유연성과 단순함을 강조\\n∙ 우주와 세계 무대를 상징하는 타원을 비스듬하게 처리하여, 동적이고 혁신적인 이미지를 나타내고자 함\\n∙ S자와 G자의 터진 부분을 통해 내부와 외부의 기운이 통하게 함으로써 세계와 호흡하고 인류사회에 \\n이바지하려는 의지를 담음\\n∙ 영문 로고 디자인은 기술주의를 통한 고객지향 의지, 첨단 기업의 이미지를 현대적인 감각으로 표현한 것'),\n",
       " Document(metadata={'producer': 'itext-paulo-155 (itextpdf.sf.net-lowagie.com)', 'creator': 'nPDF (pdftk 1.41)', 'creationdate': '2017-08-16T00:21:02-08:00', 'moddate': '2017-08-16T00:21:02-08:00', 'source': './gsat_170823.pdf', 'total_pages': 27, 'page': 8, 'page_label': '9'}, page_content='10\\n8) 조직도\\n9) 직무소개\\n∙E직군 (연구개발직) : 기초연구와 응용연구, 이러한 연구성과를 기초로 제품화까지 진행하는 개발업무 \\n수행 \\n∙ S직군 (소프트웨어직) : 컴퓨터 프로그래밍을 통해 사용자가 쉽고 편하게 제품을 활용할 수 있도록 \\n도와주는 창의적인 업무를 수행 \\n∙ M직군 (영업마케팅직) : 새로운 상품을 기획, 개발하여 매출 신장과 수익률 제고에 기여하고 시장의 \\n접점에서 고객만족과 판매를 촉진시켜 수익창출의 직접적인 역할수행 \\n∙G직군 (경영지원직) : CEO나 사업부장을 도와 전체 사업이 원활히 진행될 수 있도록 지원과 컨트롤을 \\n담당\\n∙D직군 (디자인직) : 사용자가 만지고 볼 수 있는 삼성전자 제품의 모든 요소들을 보다 심미적으로 아름답\\n고 편리하게 구상하는 역할\\n∙F직군 (설비엔지니어직) : 첨단 설비 관리 및 개선 활동과 Facility 활동을 통해 생산성 향상을 극대화시키\\n는 업무'),\n",
       " Document(metadata={'producer': 'itext-paulo-155 (itextpdf.sf.net-lowagie.com)', 'creator': 'nPDF (pdftk 1.41)', 'creationdate': '2017-08-16T00:21:02-08:00', 'moddate': '2017-08-16T00:21:02-08:00', 'source': './gsat_170823.pdf', 'total_pages': 27, 'page': 8, 'page_label': '9'}, page_content='∙IT직군 (기술직) : 신제품 개발부터 양산까지 전 단계에 걸쳐 제품의 품질과 생산성 향상을 위한 업무를 \\n수행\\n10) 인사제도 및 복지제도\\n∙ 주택 대부 및 경조금 지원\\n∙ 선택적 복리후생\\n∙ 여가생활\\n∙ 교육비 지원/사내 어린이집 운영\\n∙ 상담 센터 운영\\n∙ 매년 건강진단, 본인 및 배우자 의료비 지원'),\n",
       " Document(metadata={'producer': 'itext-paulo-155 (itextpdf.sf.net-lowagie.com)', 'creator': 'nPDF (pdftk 1.41)', 'creationdate': '2017-08-16T00:21:02-08:00', 'moddate': '2017-08-16T00:21:02-08:00', 'source': './gsat_170823.pdf', 'total_pages': 27, 'page': 9, 'page_label': '10'}, page_content='11\\nⅡ 기업 상세 분석\\n1  사업분야(내용)\\nQ1 삼성전자의 대표적 사업분야에 대해 설명할 수 있습니까 ?\\nA\\n 삼성전자는 크게 CE(Consumer Electronics) 사업부문, IM(Information technology & Mobile communica-\\ntion) 사업부문, DS(Device Solutions) 사업부문 등 3개 사업부문으로 나누어 독립 경영을 합니다.\\n⑴ Consumer Electronics (CE) 부문 \\n① 영상디스플레이 : 진화하는 스마트TV, 초대형 프리미엄 TV 전략으로 8년 연속 세계 1위에 \\n도전\\n② 생활가전 : 새로운 기술과 가치 창출로 생활과 문화를 바꾸는 혁신을 준비\\n③ 의료기기 : 정확하고 빠른 진단을 도와주는 새롭고 혁신적인 의료기기를 개발\\n⑵ Information technology & Mobile communication (IM) 부문\\n① 무선 : 인간 중심의 혁신으로 소비자들이 열망하는 새로운 가치와 편의를 지속적으로 제공'),\n",
       " Document(metadata={'producer': 'itext-paulo-155 (itextpdf.sf.net-lowagie.com)', 'creator': 'nPDF (pdftk 1.41)', 'creationdate': '2017-08-16T00:21:02-08:00', 'moddate': '2017-08-16T00:21:02-08:00', 'source': './gsat_170823.pdf', 'total_pages': 27, 'page': 9, 'page_label': '10'}, page_content='② 네트워크 : 뛰어난 기술력과 성공적인 경험을 바탕으로 차세대 네트워크 인프라와 솔루션을 \\n공급\\n⑶ Device Solutions (DS) 부문\\n① 메모리 : 세계 최고 성능의 최첨단 그린메모리로 더욱 편리한 세상을 향해 나아감\\n② 시스템 L S I  :  R & D  경쟁력과 최첨단 공정을 통해 전자기기의 혁신을 이끌어감\\n③ 차세대 친환경 LED 광원 부문에서 세계 최고 수준의 기술 경쟁력과 리더십을 유지\\nConsumer Electronics (CE) 부문 Information technology & Mobile \\ncommunication (IM) 부문\\nDevice Solutions (DS) 부문'),\n",
       " Document(metadata={'producer': 'itext-paulo-155 (itextpdf.sf.net-lowagie.com)', 'creator': 'nPDF (pdftk 1.41)', 'creationdate': '2017-08-16T00:21:02-08:00', 'moddate': '2017-08-16T00:21:02-08:00', 'source': './gsat_170823.pdf', 'total_pages': 27, 'page': 10, 'page_label': '11'}, page_content='12\\nQ2 삼성전자의 Harman사 인수에 대해 어떻게 생각하십니까 ?\\nA\\n 삼성전자가 최근 80억달러(약 9조)에 미국의 전장업체(자동차 전자기기에 대한 사업)인 Harman 사를 \\n인수하기로 결정했습니다. 하만사는 세계적으로 자동차용 인포테인먼트와 텔레매틱스 시장에서 점유\\n율 1~2위를 달리고 있으며 매출도 상당합니다. 이번 삼성전자의 하만 인수는 모바일 및 가전 시장에서 \\n나아가 Connected Car 시장 진입에 진출했다는 것에 큰 의의가 있습니다. 향후 10년 시장 내 Connected \\nCar의 비중은 90%에 육박할 전망입니다. LG전자 역시 자동차부품(VC) 사업 부문에 있어 상당한 경쟁 \\n위협 요인가 될 것으로 내다봤습니다.\\n<관련기사>\\n전장사업 강자 하만과 손잡은 삼성…스마트카 ‘티어1’ 노린다\\n(한국경제. 2016-11-21)\\n삼성전자는 자동차 전장(電裝)사업에서 후발 주자다. 2005년 전장사업을 시작한 LG전자는'),\n",
       " Document(metadata={'producer': 'itext-paulo-155 (itextpdf.sf.net-lowagie.com)', 'creator': 'nPDF (pdftk 1.41)', 'creationdate': '2017-08-16T00:21:02-08:00', 'moddate': '2017-08-16T00:21:02-08:00', 'source': './gsat_170823.pdf', 'total_pages': 27, 'page': 10, 'page_label': '11'}, page_content='물론 글로벌 경쟁사인 구글 및 애플에 비해서도 5~10년 뒤처졌다. 글로벌 전장업체인 하만 \\n인수는 이런 간격을 단번에 좁히고 뒤집겠다는 ‘한 수’다. 커넥티드카(무선인터넷으로 외부와 \\n연결되는 자동차) 솔루션 및 인포테인먼트(정보+오락) 분야의 대표 기업인 하만과 반도체 디\\n스플레이 정보기술(IT) 스마트폰 등의 분야에서 앞선 기술을 가진 삼성이 손을 잡으면 단숨\\n에 스마트카 전장 부문에서 대표적인 1차 협력사(티어1) 지위를 차지할 수 있을 것이라는 게 \\n두 회사가 내놓은 청사진이다.\\n삼성 + 하만, 스마트카 시대 주도 \\n디네시 팔리월 하만 최고경영자(CEO)와 손영권 삼성전자 전략혁신센터장(사장), 박종환 삼\\n성전자 전장사업팀장(부사장)은 21일 서울 서초동 삼성사옥에서 기자간담회를 하고 두 회사\\n의 합병을 통해 기대할 수 있는 효과와 미래 전략을 공개했다 . 지난 14일 합병 결정을 발표\\n한 지 1주일 만이다.'),\n",
       " Document(metadata={'producer': 'itext-paulo-155 (itextpdf.sf.net-lowagie.com)', 'creator': 'nPDF (pdftk 1.41)', 'creationdate': '2017-08-16T00:21:02-08:00', 'moddate': '2017-08-16T00:21:02-08:00', 'source': './gsat_170823.pdf', 'total_pages': 27, 'page': 11, 'page_label': '12'}, page_content='13\\n팔리월 CEO와 손 사장이 가장 많이 사용한 단어 중 하나는 ‘시너지’다. 서로 다른 영역에\\n서 입지를 다져 온 두 회사가 하나의 목표를 놓고 협력한다면 기대 이상의 결과물을 내놓을 \\n수 있을 것이라는 기대 때문이다. 합병이 완료되면 당장 전자장비 시장에서 글로벌 티어1 공\\n급사를 노릴 수 있다. 팔리월 CEO는 “가장 기대되는 부분은 합병을 통해 큰 시너지가 날 수 \\n있다는 점”이라고 말했다.\\n그는 “하만은 전장사업 시스템에 대한 지식과 개발 경험, 오랜 관계로 구축된 고객 네트워\\n크가 있고 자동차산업 생태계를 잘 이해하고 있다”며 “여기에 하만이 가지고 있지 않지만 삼\\n성전자가 가지고 있는 센서 , IT, 디스플레이, 모바일 기술이 더해지면 스마트자동차와 자율 \\n및 반(半)자율 자동차에 대한 완벽한 솔루션을 제공할 수 있을 것 ”이라고 강조했다. \\n손 사장도 “전장산업 분야에서 주요 고객과 관계를 꾸준하게 맺어 왔고 , 이 시장에 대한'),\n",
       " Document(metadata={'producer': 'itext-paulo-155 (itextpdf.sf.net-lowagie.com)', 'creator': 'nPDF (pdftk 1.41)', 'creationdate': '2017-08-16T00:21:02-08:00', 'moddate': '2017-08-16T00:21:02-08:00', 'source': './gsat_170823.pdf', 'total_pages': 27, 'page': 11, 'page_label': '12'}, page_content='이해도가 좋은 하만과 기술력을 보유한 삼성전자가 만났다”며 “삼성전자는 전장 같은 새로운 \\n시장에 진출하기 위해 많은 경험 및 고객과의 관계가 필요한데 하만이 큰 기여를 할 수 있\\n을 것”이라고 설명했다. 박 부사장은 “과거 10년이 PC 시대, 지금이 스마트폰 시대라면 앞으\\n로 10년은 스마트카 시대”라며 “배터리는 물론 메모리 반도체 등에서도 스마트폰보다 자동차\\n가 더 중요해질 것 ”이라고 말했다.\\n팔리월 CEO는 현대자동차를 비롯한 완성차업계가 두 회사 합병에 긍정적인 반응을 보였\\n다는 사실도 소개했다. 그는 “지난주 합병 발표 뒤 손 사장과 현대차를 비롯한 수많은 고객\\n사를 만났는데, 모두 합병으로 인한 시너지를 기대하고 있었다 ”며 “삼성전자는 스마트자동차 \\n시대에 1차 협력 업체가 되는 게 목표라는 점을 고객사에 분명히 전했다\\n”고 밝혔다.'),\n",
       " Document(metadata={'producer': 'itext-paulo-155 (itextpdf.sf.net-lowagie.com)', 'creator': 'nPDF (pdftk 1.41)', 'creationdate': '2017-08-16T00:21:02-08:00', 'moddate': '2017-08-16T00:21:02-08:00', 'source': './gsat_170823.pdf', 'total_pages': 27, 'page': 12, 'page_label': '13'}, page_content='14\\nQ3 삼성전자가 상생협력을 위해 진행하고 있는 자금지원 프로그램에 대해 설명할 수 있습니까 ?\\nA\\n✜ 자금지원 프로그램 \\n삼성전자는 자금 조달에 어려움을 겪고 있는 중소기업의 자금 유동성 확보를 지원하기 위\\n해 다양한 자금 지원 프로그램을 운영하고 있습니다 . 2005 년부터 국내 최초로 거래대금을 \\n전액 현금으로 지급하고, 2011년부터는 대금지급 횟수를 월 2회에서 4회로 변경하는 등 대\\n금지급 조건을 개선하였으며, 설・추석 등 명절 시 구매대금을 조기에 지급하여 중소기업의 \\n원활한 자금운용에 도움을 주고 있습니다.\\n✜ 상생펀드\\n2010년부터 기업은행, 산업은행, 우리은행과 함께 1조 원 규모의 상\\n생펀드를 조성하여 자금이 필요한 협력사에게 기술개발, 설비투자, 운전\\n자금 등을 업체별 최대 90억 원까지 저리로 대출해 주는 프로그램을 운\\n영하고 있습니다. 2011년부터는 1차 협력사뿐만 아니라 2차 협력사까지 \\n지원대상을 확대하여 운영하고 있습니다.'),\n",
       " Document(metadata={'producer': 'itext-paulo-155 (itextpdf.sf.net-lowagie.com)', 'creator': 'nPDF (pdftk 1.41)', 'creationdate': '2017-08-16T00:21:02-08:00', 'moddate': '2017-08-16T00:21:02-08:00', 'source': './gsat_170823.pdf', 'total_pages': 27, 'page': 12, 'page_label': '13'}, page_content='✜ 상생보증 프로그램, 수출입은행 연계 자금지원 프로그램\\n신용보증기금 또는 기술보증기금이 보증서를 발급하면 은행의 별도 \\n심사나 담보 없이 금리 우대를 받아 대출을 받을 수 있는 상생보증 프\\n로그램을 운영하여 2015년에 19개사에 총 126억 원을 지원하였으며, 해\\n외진출 또는 수출용 자재 납품 중소기업이 수출용 자금을 지원받을 수 \\n있는 수출입은행 연계 자금지원 프로그램도 운영하여 2015년 58개사가 \\n2,512억 원을 활용하였습니다. \\n✜ 민관 공동투자 기술개발\\n삼성전자는 아이디어와 기술력은 있지만 자금여력이 부족한 국내 중소기업의 기술개발 활\\n성화를 위해 중소기업청에서 추진하고 있는 민관공동투자 기술개발사업에 2013년 11월부터 \\n참여하고 있습니다. 삼성전자와 중소기업청은 각 100억 원씩 총 200억 원의 개발기금을 공\\n동으로 조성하여 중소기업 R&D 과제의 개발비를 지원하고 있으며, 중소기업은 총 개발비의'),\n",
       " Document(metadata={'producer': 'itext-paulo-155 (itextpdf.sf.net-lowagie.com)', 'creator': 'nPDF (pdftk 1.41)', 'creationdate': '2017-08-16T00:21:02-08:00', 'moddate': '2017-08-16T00:21:02-08:00', 'source': './gsat_170823.pdf', 'total_pages': 27, 'page': 12, 'page_label': '13'}, page_content='75% 이내에서 최대 10억 원까지 지원받을 수 있습니다 . 2015년에는 5개사에 약 24억 원의 \\n개발자금을 지원하였습니다.\\n✜ 상생결제시스템\\n특히, 2015년에는 1차 협력사뿐만 아니라 2차 협력사까지 대금이 원활히 지급될 수 있도록 \\n산업통상자원부가 추진 중인 ‘상생결제시스템’을 적극 도입하였습니다. ‘ 상생결제시스템’은 삼\\n성전자가 1차 협력사에, 그리고 1차 협력사는 2차 협력사에게 ‘상생결제 연계 시스템’을 활용\\n하여 대금을 지급하면, 2 차 협력사는 삼성전자의 신용도를 적용받아 저리로 조기에 납품대금\\n을 현금화 할 수 있는 프로그램입니다 . 2016년에는 1차 협력사 평가에 상생결제시스템 도입 \\n실적을 반영하여 더 많은 2차 협력사에 혜택이 미칠 수 있도록 적극 지원할 계획입니다.'),\n",
       " Document(metadata={'producer': 'itext-paulo-155 (itextpdf.sf.net-lowagie.com)', 'creator': 'nPDF (pdftk 1.41)', 'creationdate': '2017-08-16T00:21:02-08:00', 'moddate': '2017-08-16T00:21:02-08:00', 'source': './gsat_170823.pdf', 'total_pages': 27, 'page': 13, 'page_label': '14'}, page_content='15\\n✜ 신성장동력 → 사물인터넷(Internet of Things, IoT)\\n삼성전자는 다가올 사물인터넷(IoT, Internet of Things) 시대를 맞이해 만반의 준비를 다하고 있습\\n니다. 2014년 8월에 미국의 ‘스마트싱스(SmartThings)’를 인수해 사물인터넷 개방형 플랫폼 개발에 \\n박차를 가하고 있고, 사물 인터넷 시대의 실현을 앞당겨줄 다양한 제품과 서비스도 잇달아 출시하\\n고 있습니다. 2017년까지 삼성전자의 모든 TV, 2020년까지 삼성전자의 모든 제품이 IoT로 연결될 \\n수 있게 한다는 비전을 실현하고자 주도적으로 서비스 기반 구축에 최선을 다하고 있습니다.\\n✜ 개방형 IoT 플랫폼 ‘아틱(ARTIK)’ \\n2015년 5월에는 미국에서 개최된 ‘제2회 IoT World’에서 개방형 IoT 플랫폼 ‘아틱(ARTIK)’을 처음으\\n로 공개했고, 2016년 2월 상용제품을 출시하고 공식 파트너 프로그램을 개시하는 등 본격적인'),\n",
       " Document(metadata={'producer': 'itext-paulo-155 (itextpdf.sf.net-lowagie.com)', 'creator': 'nPDF (pdftk 1.41)', 'creationdate': '2017-08-16T00:21:02-08:00', 'moddate': '2017-08-16T00:21:02-08:00', 'source': './gsat_170823.pdf', 'total_pages': 27, 'page': 13, 'page_label': '14'}, page_content='‘아틱 생태계’ 형성에 나섰습니다. 아틱 플랫폼은 미국 실리콘밸리에 위치한 삼성전략혁신센터\\n(Samsung Strategy & Innovation Center)가 주도하여 개발한 개방형 플랫폼으로, 프로세서와 스토리\\n지 등 하드웨어 개발자 키트를 포함하여 보안과 운영체제 등 소프트웨어까지 제공하는 ‘종합 IoT \\n개발 플랫폼’ 입니다. 아틱 플랫폼을 활용하여 IoT 서비스와 기기를 개발할 경우, 개발자는 시간과 \\n비용을 크게 줄임으로써 아이디어를 빠르게 현실화시킬 수 있습니다. ‘아틱1’ 은 초소형 모듈로 \\n블루투스 연결기능을 제공하며 저전력 소비를 요구하는 소형기기에 적합하고, ‘아틱5’는 홈 허브, \\n드론 및 웨어러블 기기에, ‘아틱10’ 은 와이파이와 블루투스 연결기능을 제공해 홈 서버와 미디어 \\n장치 등에 적합합니다. 삼성전략혁신센터 커티스 사사키(Curtis Sasaki) 전무는 “삼성전자는 반도체'),\n",
       " Document(metadata={'producer': 'itext-paulo-155 (itextpdf.sf.net-lowagie.com)', 'creator': 'nPDF (pdftk 1.41)', 'creationdate': '2017-08-16T00:21:02-08:00', 'moddate': '2017-08-16T00:21:02-08:00', 'source': './gsat_170823.pdf', 'total_pages': 27, 'page': 13, 'page_label': '14'}, page_content='같은 부품뿐만 아니라 TV, 모바일, 가전기기 등 다양한 제품군을 생산하기 때문에 개방형 에코시스\\n템만 잘 구축한다면 IoT 시장에서 충분히 새로운 변화를 주도할 수 있을 것”이라고 강조했습니다. \\nQ4 삼성전자의 시장선도제품과 신성장동력에 대해 설명할 수 있습니까 ?\\nA\\n ① TV\\n∙ 글로벌 TV 시장점유율 10년 연속 1위  (매출기준, 출처: IHS)\\n∙ 2015년 글로벌 UHD TV 시장점유율 1위 (매출기준, 출처: IHS)\\n② Mobile Phone\\n∙ 2015년 휴대폰 시장점유율 1위  (출처 : Strategy Analytics) \\n∙ 2015년 스마트폰 시장점유율 1위  (출처 : Strategy Analytics) \\n∙ 2015년 태블릿 시장점유율 2위  (출처 : Strategy Analytics)\\n③ Memory\\n∙ 글로벌 메모리 시장점유율 연속 1위 (1993년 이래, 출처: IHS)'),\n",
       " Document(metadata={'producer': 'itext-paulo-155 (itextpdf.sf.net-lowagie.com)', 'creator': 'nPDF (pdftk 1.41)', 'creationdate': '2017-08-16T00:21:02-08:00', 'moddate': '2017-08-16T00:21:02-08:00', 'source': './gsat_170823.pdf', 'total_pages': 27, 'page': 13, 'page_label': '14'}, page_content='∙ 글로벌 DRAM 시장점유율 연속 1위 (1992년 이래,  출처: IHS) \\n∙ 글로벌 NAND 시장점유율 연속 1위 (2002년 이래,  출처: IHS) \\n∙ 글로벌 SSD 시장점유율 연속 1위 (2006년 이래,  출처: IHS)\\n④ Signage\\n글로벌 사이니지(상업용 디스플레이)  시장점유율 7년 연속 1위  (수량기준, 2009년 이래, 출처: \\nIHS)'),\n",
       " Document(metadata={'producer': 'itext-paulo-155 (itextpdf.sf.net-lowagie.com)', 'creator': 'nPDF (pdftk 1.41)', 'creationdate': '2017-08-16T00:21:02-08:00', 'moddate': '2017-08-16T00:21:02-08:00', 'source': './gsat_170823.pdf', 'total_pages': 27, 'page': 14, 'page_label': '15'}, page_content='16\\n✜ I o T를 통한 사회적 문제 해결  \\n삼성전자는 IoT를 통해 기술혁신뿐만 아니라 물 부족, 교통체증, 환경오염 등 인류가 직면한 다양한 \\n사회적 문제를 해결하는 일과 관련해서도 노력하고 있습니다. 예를 들어 캘리포니아는 날씨가 \\n따뜻하고 가뭄이 심한 편이라 물 부족 문제를 해결하기 위해 엄청난 예산을 지출하고 있는 상황입\\n니다. 삼성전자는 이러한 사회적 이슈를 발견한 후 IoT 측면에서 아틱을 활용하여 어떻게 하면 \\n낭비되고 있는 물을 실제로 필요로 하는 곳에 보낼 수 있을까 고민하게 되었습니다. 보다 다양한 \\n아이디어를 얻고자 2015년 ‘ARTIK Challenge’를 실시해 총 577개의 아이디어가 접수되었고, 2016년 \\n4월 27-28일(현지시간) 개최된 ‘삼성 개발자 콘퍼런스 2016 (Samsung Developer Conference 2016)’\\n에서 파이널리스트가 공개됐습니다. 최종 우승 아이디어는 2016년 7월 경 공개될 예정입니다.'),\n",
       " Document(metadata={'producer': 'itext-paulo-155 (itextpdf.sf.net-lowagie.com)', 'creator': 'nPDF (pdftk 1.41)', 'creationdate': '2017-08-16T00:21:02-08:00', 'moddate': '2017-08-16T00:21:02-08:00', 'source': './gsat_170823.pdf', 'total_pages': 27, 'page': 14, 'page_label': '15'}, page_content='또한 삼성전자는 IoT 관련 다양한 업체와의 협력을 통해서도 사회적 이슈를 해결하고자 노력하고 \\n있습니다. 부기오(Boogio)라는 신생 업체와 협력하여 균형이나 움직임에 어려움이 있는 환자들의 \\n재활치료를 위한 센서패드를 개발한 것이 대표적인 사례입니다. 이 패드가 부착된 신발을 신을 \\n경우 움직임과 압력을 감지하여 실시간 데이터를 의사에게 전송하는 방식으로 미국 플로리다 \\n병원과 협약을 맺고 테스트 중에 있습니다. 또한 프랑스 농업관련 솔루션 업체인 위낫(Weenat)과는 \\n흙과 공기에 대한 데이터를 실시간으로 측정하여 농부의 스마트폰으로 전송하고 적절한 물 사용량\\n을 알려줌으로써 수자원 낭비를 해결하기 위한 방법을 모색하고 있습니다. 앞으로 삼성전자는 \\n자동차, 의료, 공공서비스 등 다양한 산업분야 업체들과의 협업을 통해 전방위적으로 IoT 사업을 \\n확대해 나갈 계획이며, 이러한 노력이 기술혁신을 넘어 사회적 문제해결에도 기여할 것입니다.\\n2  재무현황 및 분석'),\n",
       " Document(metadata={'producer': 'itext-paulo-155 (itextpdf.sf.net-lowagie.com)', 'creator': 'nPDF (pdftk 1.41)', 'creationdate': '2017-08-16T00:21:02-08:00', 'moddate': '2017-08-16T00:21:02-08:00', 'source': './gsat_170823.pdf', 'total_pages': 27, 'page': 14, 'page_label': '15'}, page_content='❙요약 재무상태표❙\\n(단위: 10억원)\\n구분 2012년 결산 2013년 결산 2014년 결산 2015년 결산\\n자산\\n\\u3000유동자산 43,952 60,604 62,055 67,002\\n\\u3000\\u3000매출채권 17,297 17,749 18,941 20,251\\n\\u3000\\u3000재고자산 5,326 5,880 5,554 6,578\\n\\u3000비유동자산 89,312 94,222 102,006 101,968\\n\\u3000자산총계 133,264 154,826 164,061 168,970\\n부채\\n\\u3000유동부채 24,770 27,598 28,209 29,630\\n\\u3000비유동부채 2,606 4,857 3,175 2,911\\n\\u3000부채총계 27,376 32,455 31,384 32,541\\n자본\\n\\u3000자본금 898 898 898 898\\n\\u3000자본잉여금 4,404 4,404 4,404 4,404\\n\\u3000이익잉여금 105,307 122,029 134,464 143,629\\n\\u3000자본총계 105,888 122,371 132,677 136,428'),\n",
       " Document(metadata={'producer': 'itext-paulo-155 (itextpdf.sf.net-lowagie.com)', 'creator': 'nPDF (pdftk 1.41)', 'creationdate': '2017-08-16T00:21:02-08:00', 'moddate': '2017-08-16T00:21:02-08:00', 'source': './gsat_170823.pdf', 'total_pages': 27, 'page': 14, 'page_label': '15'}, page_content='2015년말 기준 삼성전자의 총자산 금액은 약 169조에 달하며, 부채는 32.5조, 자본총계는 136조에 이르고 \\n있다.'),\n",
       " Document(metadata={'producer': 'itext-paulo-155 (itextpdf.sf.net-lowagie.com)', 'creator': 'nPDF (pdftk 1.41)', 'creationdate': '2017-08-16T00:21:02-08:00', 'moddate': '2017-08-16T00:21:02-08:00', 'source': './gsat_170823.pdf', 'total_pages': 27, 'page': 15, 'page_label': '16'}, page_content='17\\n❙요약 손익계산서❙\\n(단위: 10억원)\\n구분 2012년 결산 2013년 결산 2014년 결산 2015년 결산\\n매출액 141,206 158,372 137,826 135,205\\n매출원가 99,432 110,732 99,189 99,659\\n매출총이익 41,774 47,641 38,637 35,546\\n판매비와관리비 23,264 25,834 24,712 22,147\\n영업이익 18,510 21,807 13,925 13,398\\n금융비용 3,206 3,847 3,734 4,714\\n당기순이익 17,399 17,930 14,592 12,238\\n2015년말 기준 삼성전자의 매출액은 135조에 달하며, 13조원의 영업이익, 12조원의 당기순이익을 올리고 \\n있다.'),\n",
       " Document(metadata={'producer': 'itext-paulo-155 (itextpdf.sf.net-lowagie.com)', 'creator': 'nPDF (pdftk 1.41)', 'creationdate': '2017-08-16T00:21:02-08:00', 'moddate': '2017-08-16T00:21:02-08:00', 'source': './gsat_170823.pdf', 'total_pages': 27, 'page': 16, 'page_label': '17'}, page_content='18\\n삼성전자, “퀀텀닷 기술이 차세대 TV 화질 리드할 것”\\n(한국경제. 2016.05.26)\\n“퀀텀닷 기술이 차세대 TV 화질을 이끌 것이다.” 퀀텀닷(양자점, Quantum Dots) 분야의 세계\\n적인 석학들이 참여하는 ‘제9회국제퀀텀닷컨퍼런스’에서 장혁 삼성전자 종합기술원 부사장(삼성펠\\n로우)이 26일 기조 연설자로 나섰다.\\n장혁 부사장은 차세대 소재인 퀀텀닷과 함께 진화하고 있는 디스플레이 기술을 소개하면서 \\n“지금까지 새로운 소재의 개발이 TV 화질의 혁신을 이끌어 왔다 ”며 “TV디스플레이 부문에서는 \\n자연 그대로의 색 표현이 가능한 퀀텀닷을 적용한 삼성 SUHD TV가 화질의 새로운 역사를 쓰고 \\n있다”고 말했다.\\n장 부사장은 “최근 디지털 기반의 전자 디바이스의 기술 발전 속도에 비해 소재 기술 발전이 \\n상대적으로 더디게 진행되고 있고, 디바이스의 혁신 또한 한계에 도달하고 있는 상황 ”이라며 “지'),\n",
       " Document(metadata={'producer': 'itext-paulo-155 (itextpdf.sf.net-lowagie.com)', 'creator': 'nPDF (pdftk 1.41)', 'creationdate': '2017-08-16T00:21:02-08:00', 'moddate': '2017-08-16T00:21:02-08:00', 'source': './gsat_170823.pdf', 'total_pages': 27, 'page': 16, 'page_label': '17'}, page_content='속적인 혁신을 위해서는 연구 개발 단계에서부터 세트(제품), 부품과 소재의 기술 개발을 통합해\\n서 진행하는 것이 중요하다”고 설명했다.\\n또 퀀텀닷 소재가 새로운 기능이 부가된 차세대 디바이스의 혁신을 이끌어 낼 수 있는 기술임\\n을 강조했다. 정 부사장은 “1980년대에 퀀텀닷의 효과가 발견된 이래 연구개발을 거쳐 2013년 \\n처음으로 디바이스에 적용됐으며, 2015년에 세계 최초로 ‘카드뮴 프리 (Cadmium Free)’ 퀀텀닷 \\n기술을 적용한 SUHD TV가 출시됐다”고 소개했다. 그는 퀀텀닷 기술이 계속 개발되면서 이전에 \\n없던 새로운 기술로 진화 발전해 TV 디스플레이 시장의 성장을 이끌어 갈 것이라고 전망하면서, \\n이를 신소재인 퀀텀닷의 결정 구조와 합성 공정을 이해하고 효율을 추가로 높이는 동시에 새로\\n운 기능을 추가하는 연구 개발이 중요하다고 분석했다.\\n삼성전자는 미래 TV 디스플레이 기술로 ‘퀀텀닷’을 선택하면서 종합기술원과 함께 퀀텀닷 원천'),\n",
       " Document(metadata={'producer': 'itext-paulo-155 (itextpdf.sf.net-lowagie.com)', 'creator': 'nPDF (pdftk 1.41)', 'creationdate': '2017-08-16T00:21:02-08:00', 'moddate': '2017-08-16T00:21:02-08:00', 'source': './gsat_170823.pdf', 'total_pages': 27, 'page': 16, 'page_label': '17'}, page_content='기술과 상용화 기술을 함께 연구 중이다.\\nⅢ 기업 이슈\\n1  최신이슈\\n1) 카드뮴 프리 퀀텀닷 기술\\n삼성전자는 미국 환경보호청이 주관하는 ‘2016 SMM 어워드’의 ‘챔피언 어워드’ 부문에서 ‘카드뮴 프리 \\n퀀텀닷 기술’로 최첨단 기술상을 수상한 바 있습니다. 삼성전자는 세계 최고 수준 카드뮴 프리 친환경 \\n퀀텀닷 기술 개발 선도, 업계 최초 카드뮴 프리 퀀텀닷 TV 출시 등 친환경 기술력을 높게 평가받으며 \\n이번 상을 받았습니다. 삼성전자의 퀀텀닷 TV는 인체와 환경에 유해한 물질인 카드뮴을 사용하지 않은 \\n유일한 TV입니다. 퀀텀닷 컬러 기술을 적용한 SUHD TV에는 머리카락 10만분의 1보다 더 작은 나노 \\n크기워 퀀텀닷 입자를 사용합니다. 이를 통해 초밀도 화질을 구현할 수 있게 되었습니다.'),\n",
       " Document(metadata={'producer': 'itext-paulo-155 (itextpdf.sf.net-lowagie.com)', 'creator': 'nPDF (pdftk 1.41)', 'creationdate': '2017-08-16T00:21:02-08:00', 'moddate': '2017-08-16T00:21:02-08:00', 'source': './gsat_170823.pdf', 'total_pages': 27, 'page': 17, 'page_label': '18'}, page_content='19\\n삼성, 신형 갤A 시리즈 공개, 새해 벽두부터 중저가폰 경쟁\\n(한국경제. 2017.01.03)\\n삼성전자가 카메라 성능을 강화하고 방수·방진 기능을 담은 준프리미엄 스마트폰 갤럭시A 시\\n리즈 3종(2017년형·사진)을 공개했다. 앞서 LG전자는 신형 중저가폰 K시리즈와 스타일러스3 등\\n을 발표했고, KT는 자사 전용 초저가폰을 3일 출시하는 등 새해 벽두부터 스마트폰 경쟁이 치열\\n하다.\\n삼성전자가 2일 발표한 갤럭시 A 시리즈는 갤럭시 A3(4.7인치), 갤럭시A5(5.2인치), 갤럭시\\nA7(5.7인치) 등이다. 숫자가 높을수록 고성능 제품이다. 갤럭시A5와 갤럭시A7은 앞뒷면에 모두 \\n1600만 화소 카메라를 적용했다 . 일반적으로 스마트폰 아래쪽에 고정돼 있는 카메라 촬영 버튼\\n을 디스플레이 어느 곳으로든 이동할 수 있는 ‘플 로 팅  카 메 라  버 튼’ 기능을 담았다. 삼성전자 관'),\n",
       " Document(metadata={'producer': 'itext-paulo-155 (itextpdf.sf.net-lowagie.com)', 'creator': 'nPDF (pdftk 1.41)', 'creationdate': '2017-08-16T00:21:02-08:00', 'moddate': '2017-08-16T00:21:02-08:00', 'source': './gsat_170823.pdf', 'total_pages': 27, 'page': 17, 'page_label': '18'}, page_content='계자는 “오른손잡이든, 왼손잡이든 손쉽게 사진을 찍을 수 있도록 도와주는 기능 ”이라며 “어떤 \\n손가락으로 사진을 찍더라도 편리하게 촬영할 수 있다 ”고 설명했다. 셀프카메라를 찍을 때 디스\\n플레이 빛이 플래시 역할을 하기도 한다.\\n신형 갤럭시A 시리즈는 방수·방진 기능을 갖췄다. 삼성전자의 모바일 결제 서비스인 삼성페\\n이도 이용할 수 있다 . 색상은 블랙스카이, 골드샌드, 블루미스트, 피치클라우드 등 네 가지로 출\\n시될 예정이다. 삼성전자는 오는 5일 개막하는 세계 최대 전자쇼 ‘CES 2017’에 갤럭시A 시리즈\\n를 전시할 계획이다.\\nLG전자는 이번 CES에서 실속형 스마트폰 K시리즈 4종과 스타일러스3 등을 발표한다. K 시리\\n즈는 사용자 얼굴을 인식해 자동으로 셀프카메라를 찍어주는 ‘오토샷’ 기능, 손바닥을 폈다가 주\\n먹을 쥐면 3초 뒤 자동으로 촬영하는 ‘제스처샷’ 기능 등을 갖췄다.'),\n",
       " Document(metadata={'producer': 'itext-paulo-155 (itextpdf.sf.net-lowagie.com)', 'creator': 'nPDF (pdftk 1.41)', 'creationdate': '2017-08-16T00:21:02-08:00', 'moddate': '2017-08-16T00:21:02-08:00', 'source': './gsat_170823.pdf', 'total_pages': 27, 'page': 17, 'page_label': '18'}, page_content='KT는 신용카드 크기의 초소형 휴대폰 마이크로 X S240을 3일 선보인다. 이 제품은 미국 벤처\\n기업 포시모바일의 3세대(3G) 휴대폰이다. 출고가는 13만2000원. SK 텔레콤은 6일 출고가 43만\\n3400원짜리 중저가폰 쏠프라임을 출시한다.\\n2) 2017년형 ‘갤럭시 A’ 3종 공개\\n삼성전자가 유려한 디자인과 강력한 성능, 최상의 편의성을 갖춘 2017년형 ‘갤럭시 A’를 공개했습니다. \\n‘갤럭시 A’는 ‘갤럭시 A7(5.7형)’, ‘갤럭시 A5(5.2형)’, ‘갤럭시 A3(4.7형)’ 등 총 3종인데요. 2017년형 ‘갤럭시 \\nA’는 전면과 후면 모두 1,600만의 고화소 카메라를 탑재해 선명하고 생생한 사진 촬영이 가능합니다. \\n특히, 디스플레이 어느 곳으로도 이동할 수 있는 ‘플로팅 카메라 버튼(Floating Camera Button)’을 적용하고, \\n디스플레이 광원을 사용한 셀피 플래시 기능으로 언제나 편리하게 만족스러운 셀피를 촬영할 수 있습니다.'),\n",
       " Document(metadata={'producer': 'itext-paulo-155 (itextpdf.sf.net-lowagie.com)', 'creator': 'nPDF (pdftk 1.41)', 'creationdate': '2017-08-16T00:21:02-08:00', 'moddate': '2017-08-16T00:21:02-08:00', 'source': './gsat_170823.pdf', 'total_pages': 27, 'page': 17, 'page_label': '18'}, page_content='또한 스와이프만으로 촬영 모드나 효과를 변경할 수 있는 간결한 UX 경험도 제공합니다. 2017년형 ‘갤럭시 \\nA’는 갤럭시 A 시리즈 최초로 IP68 등급의 방수·방진을 지원하며, USB 타입-C 포트를 탑재해 충전 시 \\n케이블의 앞뒤를 구분해야 하는 기존의 번거로움을 없앴습니다.'),\n",
       " Document(metadata={'producer': 'itext-paulo-155 (itextpdf.sf.net-lowagie.com)', 'creator': 'nPDF (pdftk 1.41)', 'creationdate': '2017-08-16T00:21:02-08:00', 'moddate': '2017-08-16T00:21:02-08:00', 'source': './gsat_170823.pdf', 'total_pages': 27, 'page': 18, 'page_label': '19'}, page_content='20\\n삼성전자, 차세대 V낸드 솔루션 공개\\n삼성전자가 4세대(64단) 3D 낸드(V낸드)플래시를 사용한 스토리지 제품 3종을 공개했다. 64 단 \\nV낸드 기술을 바탕으로 테라바이트급 저장 장치를 올해 말 선보인다.\\n삼성전자는 10일(현지시간) 미국 산타클라라 컨벤션 센터에서 열린 ‘플래시 메모리 서밋 2016 \\n(Flash Memory Summit)’에서 차세대 V낸드 솔루션 및 중장기 전략을 공개했다 . 플래시 메모리 \\n서밋 2016은 매년 미국에서 열리는 세계 최대 플래시 메모리 업계 컨퍼런스다 . \\n삼성전자는 이번 플래시 메모리 서밋에서 4세대(64단) V 낸드 기술을 바탕으로 3차원 메모리 \\n기술 리더십을 공고히 하고, 빅데이터 시대를 맞아 초고용량의 ‘테라’ 시대를 주도해 나간다는 중\\n장기 전략을 공개했다.\\n이는 빅데이터의 증가와 고속 처리 , 데이터센터 관리 비용 절감 등 시장 요구에 맞춰 △고용'),\n",
       " Document(metadata={'producer': 'itext-paulo-155 (itextpdf.sf.net-lowagie.com)', 'creator': 'nPDF (pdftk 1.41)', 'creationdate': '2017-08-16T00:21:02-08:00', 'moddate': '2017-08-16T00:21:02-08:00', 'source': './gsat_170823.pdf', 'total_pages': 27, 'page': 18, 'page_label': '19'}, page_content='량 △고성능 △초소형 솔루션으로 기업 고객들의 IT 투자 효율을 극대화하겠다는 전략이다. \\n이에 삼성전자는 △ 기존 3세대(48단) 제품 대비 적층 단수를 30% 높인 4세대(64단) V 낸드 \\n△ 고용량 서버용 32TB SAS SSD △ 울트라 슬림 PC용 1TB BGA NVMe SSD △ 하이엔드용 \\nZ- SSD 등 혁신적인 4세대 V낸드 기반 신제품을 선보였다.\\n‘4세대 V낸드’는 데이터를 저장하는 ‘3차원 셀 (Cell)’을 기존(48단)보다 1.3배 더 쌓아 올리는 \\n삼성전자의 혁신 기술이 적용된 제품이다. 4 세대 V낸드는 512Gb까지 구현 가능해 고용량 제품\\n을 소형 패키지로 만들 수 있으며 , 입출력 속도를 800Mbps까지 높혔다. 삼성전자는 세계 최초로 \\n4세대 V낸드 기반 솔루션 제품을 올해 4분기에 출시할 예정이다. \\n또 삼성전자는 4세대 V낸드를 탑재해 16TB인 기존 제품보다 용량을 2배 높인 세계 최대 용'),\n",
       " Document(metadata={'producer': 'itext-paulo-155 (itextpdf.sf.net-lowagie.com)', 'creator': 'nPDF (pdftk 1.41)', 'creationdate': '2017-08-16T00:21:02-08:00', 'moddate': '2017-08-16T00:21:02-08:00', 'source': './gsat_170823.pdf', 'total_pages': 27, 'page': 18, 'page_label': '19'}, page_content='량의 ‘32TB 서버 SSD’를 내년 중 출시할 예정이다 . 삼성전자는 2020년까지 100TB이상 초고용량 \\nSSD를 개발해 테라 SSD 대중화를 선도하고 데이터센터와 기업용 스토리지 SSD 시장을 지속 선\\n점한다는 방침이다.\\n아울러 삼성전자는 삼성전기와 고집적 패키지 기술 (FO-PLP)을 공동 개발해 1센트 동전 크기\\n의 초소형 ‘1TB BGA NVMe SSD’ 를 내년 중 출시할 예정이다 . 연속 읽기속도는 기존 SSD보다 \\n3배 빠른 1,500MB/s이며, 고속 쓰기(Turbo Write) 기술을 적용해 쓰기속도도 900MB/s에 이른\\n다. 이는 고해상도 Full HD급 영화 1편(5GB)을 약 3초에 전송하고,약 6초 에  저 장 할  수  있 는  속\\n도다. 이 제품은 기존 제품 대비 크기를 50% 이상 줄였다. \\n초고성능 하이엔드 SSD제품도 선보였다. \\n3) 삼성전자, 차세대 V낸드 솔루션 공개'),\n",
       " Document(metadata={'producer': 'itext-paulo-155 (itextpdf.sf.net-lowagie.com)', 'creator': 'nPDF (pdftk 1.41)', 'creationdate': '2017-08-16T00:21:02-08:00', 'moddate': '2017-08-16T00:21:02-08:00', 'source': './gsat_170823.pdf', 'total_pages': 27, 'page': 18, 'page_label': '19'}, page_content='삼성전자는 2013년 세계 최초로 V낸드 제품을 내놓았고, 현재 그 비중을 빠르게 늘리고 있습니다. 3세대 \\nV낸드는 삼성전자가 세계에서 유일하게 생산하고 있습니다. V낸드란 기존 3세대 제품 대비 적층 단수를 \\n높여 속도와 생산성은 늘리는 반면 전력소모량은 낮추는 제품입니다. 2016년 4분기에는 4세대 V낸드를 \\n출시할 예정이며 동종 업계 유일한 공급업체라는 데 있어 그 의의가 상당히 높다고 할 수 있습니다.'),\n",
       " Document(metadata={'producer': 'itext-paulo-155 (itextpdf.sf.net-lowagie.com)', 'creator': 'nPDF (pdftk 1.41)', 'creationdate': '2017-08-16T00:21:02-08:00', 'moddate': '2017-08-16T00:21:02-08:00', 'source': './gsat_170823.pdf', 'total_pages': 27, 'page': 19, 'page_label': '20'}, page_content='21\\n삼성전자는 NVMe SSD 대비 응답시간은 4배 이상, 연속 읽기속도는 1.6 배 빠른 ‘Z-SSD’를 공\\n개했다. Z-SSD는 V낸드, 컨트롤러 등 최적화된 동작회로를 구성해 스토리지의성능을 더욱 높인 \\n초고성능 하이엔드 SSD 제품으로, 내 년  중  출 시 할  예 정 이 다.\\nZ-SSD는 빅데이터 분석, 서버용 캐시 등 실시간 분석이 요구되는 고성능 시장에 최적의 솔루\\n션을 제공할 것으로 기대된다. \\n전영현 삼성전자 메모리사업부장(사장)은 “고객들에게 4세대 V낸드 기반 고용량, 고성능, 초소\\n형 솔루션을 제공해 스토리지 시스템의 TCO(Total Cost of Ownership) 절감 효과를 극대화할 \\n수 있게 됐다 ”며 “앞으로 독보적인 V낸드 기술을 바탕으로 스토리지 사업 영역을 지속 확대해 \\n나갈 것”이라고 밝혔다.\\n2  삼성전자 관련 용어정리\\n∙인포테인먼트 시스템 : 인포메이션(운전과 길 안내 등 필요한 정보) + 엔터테인먼트(다양한 오락거리)의'),\n",
       " Document(metadata={'producer': 'itext-paulo-155 (itextpdf.sf.net-lowagie.com)', 'creator': 'nPDF (pdftk 1.41)', 'creationdate': '2017-08-16T00:21:02-08:00', 'moddate': '2017-08-16T00:21:02-08:00', 'source': './gsat_170823.pdf', 'total_pages': 27, 'page': 19, 'page_label': '20'}, page_content='합성어로, 차량 내 자동차가 무선 네트워크과 직접 연결되어 차가 하나의 커다란 스마트폰이 될 수 \\n있는 시스템이다.\\n∙AP : 스마트폰·디지털 TV 등에 사용되는 비메모리 반도체로 일반 컴퓨터의 중앙처리장치(CPU)와 같은 \\n역할을 한다.\\n∙ 하이엔드 : 오디오 시장에서 주로 사용되는 용어로, 제품군 가운데 가장 뛰어난 성능을 가진 제품을 \\n가리킨다.\\n∙낸드플래시 : 플래시 메모리의 한 형태로 전원이 없는 상태에서도 데이터를 계속 저장할 수 있으며 데이터\\n를 자유롭게 저장·삭제할 수 있다. 2002년부터 세계 1위를 유지하고 있다.\\n∙스마트워크 : 스마트 워크란 종래의 사무실 근무를 벗어나 언제 어디서나 효율적으로 일할 수 있는 업무개\\n념을 뜻한다.\\n∙잉여현금흐름 : 기업에 현금이 얼마나 순유입 되었는지를 나타내는 지표로 기업이 사업 활동에서 벌어들인 \\n현금에서 각종 비용과 세금, 설비투자 등을 빼고 남은 잔여 현금흐름을 말한다.\\n∙ 포터블 : 사람이 휴대하기 편리하게 생산된 기기'),\n",
       " Document(metadata={'producer': 'itext-paulo-155 (itextpdf.sf.net-lowagie.com)', 'creator': 'nPDF (pdftk 1.41)', 'creationdate': '2017-08-16T00:21:02-08:00', 'moddate': '2017-08-16T00:21:02-08:00', 'source': './gsat_170823.pdf', 'total_pages': 27, 'page': 19, 'page_label': '20'}, page_content='∙ HDR : 명암비를 세밀하게 분석해 어두운 곳과 밝은 곳의 미세한 차이까지도 정확하게 표현하는 영상 \\n기술'),\n",
       " Document(metadata={'producer': 'itext-paulo-155 (itextpdf.sf.net-lowagie.com)', 'creator': 'nPDF (pdftk 1.41)', 'creationdate': '2017-08-16T00:21:02-08:00', 'moddate': '2017-08-16T00:21:02-08:00', 'source': './gsat_170823.pdf', 'total_pages': 27, 'page': 20, 'page_label': '21'}, page_content='22\\n부문 사업부 직군 모집 전공 근무지\\nCE/IM부문 \\n및 \\n전사직속\\n부문공통\\n연구개발직\\n전기전자(H/W), 수학, 물리 수원 /구미\\n소프트웨어직 수원\\n기술직 수원 /구미/광주\\n소프트웨어직 전기전자(S/W), 전산/컴퓨터, 수학, 물리 수원 /구미\\n기술직 전기전자 (H/W), 전기전자(S/W), 기계, 전산/컴퓨터 수원 /구미\\n영업마케팅직 전공 무관 -\\n경영지원직(재무) 상경(부전공 포함)-\\n디자인직(제품) 산업디자인 -\\n디자인직(UI) 시각디자인, 산업디자인, 산업공학 -\\n한국총괄 영업마케팅직\\n(국내영업) 전공 무관 전국\\nDS부문 메모리\\n연구개발직 전기전자(H/W), 재료/금속, 화학/화공, 물리, 기계, 수학, \\n통계 화성/온양\\n설비엔지니어직 전기전자(H/W), 재료/금속, 화학/화공, 물리, 기계, 화성\\n생산관리직 산공 , 수학, 통계 화성\\nⅣ 채용분석 \\n1  채용절차\\n구 분 전형단계 내용'),\n",
       " Document(metadata={'producer': 'itext-paulo-155 (itextpdf.sf.net-lowagie.com)', 'creator': 'nPDF (pdftk 1.41)', 'creationdate': '2017-08-16T00:21:02-08:00', 'moddate': '2017-08-16T00:21:02-08:00', 'source': './gsat_170823.pdf', 'total_pages': 27, 'page': 20, 'page_label': '21'}, page_content='1차 서류전형 ∙ 서류전형을 통해 지원자 중에서 회사가 필요로 하는 분야의 대상이 되는지를 검토합니다.\\n∙ 성적, 출결, 생활태도, 지원동기 및 포부, 보유자격 등을 종합적으로 검토하여 전형을 합니다.\\n2차 직무적성검사 진취적이고 창의적인 인재를 선발할 수 있는 도구로서 기초능력 검사와 직무능력 검사로 나누\\n어 평가합니다.\\n3차 면접 ∙ 면접은 임원면접을 실시합니다.\\n∙ 단, 엔지니어직 및 S/W직의 경우 회사별로 별도 기술 면접을 실시할 수 있습니다.\\n2  채용공고\\n1) 지원자격\\n∙ 병역필 또는 면제자로 해외여행에 결격사유가 없는 분\\n∙ 영어회화자격을 보유한 분 : 3) 참조\\n2) 모집분야 : 삼성전자'),\n",
       " Document(metadata={'producer': 'itext-paulo-155 (itextpdf.sf.net-lowagie.com)', 'creator': 'nPDF (pdftk 1.41)', 'creationdate': '2017-08-16T00:21:02-08:00', 'moddate': '2017-08-16T00:21:02-08:00', 'source': './gsat_170823.pdf', 'total_pages': 27, 'page': 21, 'page_label': '22'}, page_content='23\\n계열사 직무 OPIC 토익스피킹\\n삼성전자\\nCE/IM부문 및 \\n전사직속\\n연구개발/소프트웨어/기술직 IL 5 급\\n영업마케팅직 IH 7 급\\n영업마케팅직(국내영업)I M 6 급\\n경영지원직(재무)I M 6 급\\n디자인직(UI, 제품) 해당사항없음\\nDS부문\\n연구개발/소프트웨어/설비엔지니어링/생산관리직 IL 5 급\\n영업마케팅직 IH 7 급\\n경영지원직(재무)I M 6 급\\n경영지원직 IM 6 급\\nSCSA IL 5 급\\n삼성디스플레이\\n연구개발직 IL 5 급\\n소프트웨어직 IL 5 급\\n설비엔지니어직 IL 5 급\\n삼성SDI\\n연구개발직 IL 5 급\\n기술직 IL 5 급\\n영업마케팅직 IM 6 급\\n삼성전기\\n영업마케팅직 IL 5 급\\n경영지원직(재무)I M 6 급\\nSystem LSI\\n연구개발직 전기전자(H/W), 재료/금속, 화학/화공, 물리, 기계 기흥 /화성\\n설비엔지니어직 전기전자(H/W), 재료/금속, 화학/화공, 물리, 기계 기흥 /화성\\n반도체\\n연구소'),\n",
       " Document(metadata={'producer': 'itext-paulo-155 (itextpdf.sf.net-lowagie.com)', 'creator': 'nPDF (pdftk 1.41)', 'creationdate': '2017-08-16T00:21:02-08:00', 'moddate': '2017-08-16T00:21:02-08:00', 'source': './gsat_170823.pdf', 'total_pages': 27, 'page': 21, 'page_label': '22'}, page_content='연구개발직 전기전자(H/W), 재료/금속, 화학/화공, 물리, 기계 기흥 /화성/온양\\n설비엔지니어직 전기전자(H/W), 재료/금속, 화학/화공, 물리, 기계 기흥 /화성/온양\\nTest&Pack\\nage 센터\\n연구개발직 전기전자(H/W), 재료/금속, 화학/화공, 물리, 기계 온양\\n설비엔지니어직 전기전자(H/W), 재료/금속, 화학/화공, 물리, 기계 온양\\nLED사업팀 연구개발직 전기전자(H/W), 재료/금속, 화학/화공, 물리, 기계 기흥 /화성\\n기흥/화성\\n단지총괄\\n연구개발직 전기전자(H/W), 기계, 산공 기흥 /화성/온양\\n설비엔지니어직 전기전자(H/W), 재료/금속, 화학/화공, 물리, 기계 기흥 /화성/온양\\n생산기술\\n연구소 연구개발직 전기전자(H/W), 물리, 기계 화성\\n부문공통\\n소프트웨어직 전기전자(S/W), 전산/컴퓨터, 산공, 수학, 물리, 통계 기흥/화성/수원/\\n온양\\n영업마케팅직 전공무관 기흥 /화성\\n경영지원직(재무) 상경(부전공 포함) 기흥/화성/온양'),\n",
       " Document(metadata={'producer': 'itext-paulo-155 (itextpdf.sf.net-lowagie.com)', 'creator': 'nPDF (pdftk 1.41)', 'creationdate': '2017-08-16T00:21:02-08:00', 'moddate': '2017-08-16T00:21:02-08:00', 'source': './gsat_170823.pdf', 'total_pages': 27, 'page': 21, 'page_label': '22'}, page_content='경영지원직(일반) 전공무관 기흥 /화성/온양\\n종합기술원 연구개발직 전기전자(H/W), 재료/금속, 화학/화공 수원\\n※ 사업부/근무지는 입사후 결정됩니다.\\n3) 참고 : 삼성계열사별 어학기준(2016년도 하반기 기준)'),\n",
       " Document(metadata={'producer': 'itext-paulo-155 (itextpdf.sf.net-lowagie.com)', 'creator': 'nPDF (pdftk 1.41)', 'creationdate': '2017-08-16T00:21:02-08:00', 'moddate': '2017-08-16T00:21:02-08:00', 'source': './gsat_170823.pdf', 'total_pages': 27, 'page': 22, 'page_label': '23'}, page_content='24\\n삼성SDS\\nICT개발/운영 IL 5 급\\n인프라 IL 5 급\\nSCSA IL 5 급\\n삼성바이오로직스\\n연구개발직 IM 6 급\\n경영지원직 IM 6 급\\n삼성바이오에피스\\n연구개발직 IM 6 급\\n경영지원직 IM 6 급\\n삼성생명\\n영업관리직 IL 5 급\\n상품계리직 IM 6 급\\n자산운용직 IM 6 급\\n금융IT직 IL 5 급\\n삼성화재\\n영업관리‧보상서비스 IL 5 급\\n상품개발‧계리 IM 6 급\\n삼성카드\\n영업마케팅직 IL 5 급\\n신용관리/RM IM 6 급\\n경영지원직(재무)I M 6 급\\nIT IL 5 급\\n디자인 해당사항 없음\\n삼성증권\\nPB/IB/Wholesale/운용/상품전략/리서치 IM 6 급\\nIT IL 5 급\\n삼성자산운용 경영지원직 IM 6 급\\n삼성엔지니어링 기술직 IM 6 급\\n삼성물산(건설) 기술직 IM 6 급\\n삼성물산(상사)\\n해외영업직 IH 7 급\\n경영지원직 IH 7 급\\n삼성물산(리조트)\\n조경시공 IL 5 급\\n파크운영(동물원운영)I M 6 급\\n경영지원직 IM 6 급\\nIT IL 5 급'),\n",
       " Document(metadata={'producer': 'itext-paulo-155 (itextpdf.sf.net-lowagie.com)', 'creator': 'nPDF (pdftk 1.41)', 'creationdate': '2017-08-16T00:21:02-08:00', 'moddate': '2017-08-16T00:21:02-08:00', 'source': './gsat_170823.pdf', 'total_pages': 27, 'page': 22, 'page_label': '23'}, page_content='삼성물산(패션) Retail영업 IH 7 급\\n호텔신라\\n웹기획(면세유통)I H 7 급\\n인테리어공사관리(면세유통)I L 5 급\\n영업마케팅직(생활레저)I H 7 급\\n마케팅(호텔)I H 7 급\\n서비스(호텔)I H 7 급\\n경영지원직(호텔)I H 7 급\\n디자인(면세유통/호텔&레저) 해당사항없음'),\n",
       " Document(metadata={'producer': 'itext-paulo-155 (itextpdf.sf.net-lowagie.com)', 'creator': 'nPDF (pdftk 1.41)', 'creationdate': '2017-08-16T00:21:02-08:00', 'moddate': '2017-08-16T00:21:02-08:00', 'source': './gsat_170823.pdf', 'total_pages': 27, 'page': 23, 'page_label': '24'}, page_content='25\\n제일기획\\n기획직 IH 7 급\\n제작직(ART) 해당사항없음\\n소프트웨어직 IL 5 급\\n방송직(PD) IH 7 급\\n에스원\\n보안시스템영업직/빌딩자산운영직/경영지원직 IM 6 급\\n연구개발직/SI시공직/빌딩시설관리직 IL 5 급\\n첨단보안직 NH 4 급\\n삼성서울병원\\n경영지원직(재무)I M 6 급\\n법무 IM 6 급\\n삼성웰스토리\\n식품연구/제품개발 IL 5 급\\n수주영업 IM 6 급\\n식음구매 IM 6 급\\n법무 IM 6 급\\n경영지원직(재무)I M 6 급\\n3  최근 직무에세이 항목\\n1) 2016년 상반기, 하반기\\n본인의 취미/특기, 존경인물 및 존경하는 이유를 자유롭게 작성하여 주시기 바랍니다.\\n -  취미/특기\\n -  존경인물\\n -  존경이유\\nEssay 1\\n삼성취업을 선택한 이유와 입사 후 회사에서 이루고 싶은 꿈을 기술하십시오.\\n(700자 이내)\\nEssay 2\\n본인의 성장과정을 간략히 기술하되 현재의 자신에게 가장 큰 영향을 끼친 사건, 인물 등을 포함하여 기술하시기 바랍니다.'),\n",
       " Document(metadata={'producer': 'itext-paulo-155 (itextpdf.sf.net-lowagie.com)', 'creator': 'nPDF (pdftk 1.41)', 'creationdate': '2017-08-16T00:21:02-08:00', 'moddate': '2017-08-16T00:21:02-08:00', 'source': './gsat_170823.pdf', 'total_pages': 27, 'page': 23, 'page_label': '24'}, page_content='(※작품 속 가상인물도 가능) (1500자 이내)\\nEssay 3\\n최근 사회이슈 중 중요하다고 생각되는 한 가지를 선택하고 이에 관한 자신의 견해를 기술해 주시기 바랍니다.\\n(1000자 이내)'),\n",
       " Document(metadata={'producer': 'itext-paulo-155 (itextpdf.sf.net-lowagie.com)', 'creator': 'nPDF (pdftk 1.41)', 'creationdate': '2017-08-16T00:21:02-08:00', 'moddate': '2017-08-16T00:21:02-08:00', 'source': './gsat_170823.pdf', 'total_pages': 27, 'page': 24, 'page_label': '25'}, page_content='26\\n2) 2015년\\n삼성취업을 선택한 이유와 입사 후 회사에서 이루고 싶은 꿈을 기술하십시오.(700자 이내)\\n본인의 성장과정을 간략히 기술하되 현재의 자신에게 가장 큰 영향을 끼친 사건, 인물 등을 포함하여 기술하시기 바랍니다. \\n(※작품 속 가상인물도 가능) (1500자 이내)\\n최근 사회이슈 중 중요하다고 생각되는 한 가지를 선택하고 이에 관한 자신의 견해를 기술해 주시기 바랍니다.\\n(1000자 이내)\\n4  필기시험 최근 출제유형 분석\\n구분 세부 유형 문항수 시간 (분)\\n언어논리 어휘 , 문장/문단배열, 독해 30 25\\n수리논리 응용수리 , 자료해석 20 30\\n추리 삼단논법 , 언어추리(논리게임 등), 문자추리, 도형추리, 단어추리, 추론형 30 30\\n시각적사고 평면도형 : 종이접기(펀칭 포함), 조각모음(찾기) 등 \\n입체도형 : 다른 도형 찾기, 전개도, 투상도, 블록형 등 30 30\\n상식 삼성 , 경영/경제, 일반상식, 시사상식, 과학/공학, 한국사, 세계사 50 25'),\n",
       " Document(metadata={'producer': 'itext-paulo-155 (itextpdf.sf.net-lowagie.com)', 'creator': 'nPDF (pdftk 1.41)', 'creationdate': '2017-08-16T00:21:02-08:00', 'moddate': '2017-08-16T00:21:02-08:00', 'source': './gsat_170823.pdf', 'total_pages': 27, 'page': 24, 'page_label': '25'}, page_content='합계 시험시간 : 9시 20분 ~ 12시 160 140\\n1) 시험특징 및 Tip\\n∙ 유형 : 객관식 5지선다\\n∙ 출제형식 : 영역별로 구별, 시간 별도, 단 쉬는 시간없이 진행 ⇨ 각 과목별 시간배분 전략 필요. 평소 \\n시간이 많이 걸리거나 난이도가 높은 유형을 파악하여 미리 전략을 세우는 것이 유리! \\n∙ 오답 작성시 불이익 있음 ⇨ 무작위로 찍지 않도록 조심!\\n∙ 시각적 사고 영역 : 문제지를 돌리거나 손상 금지 ⇨ 평소 시각적 사고영역의 문항을 손을 사용하지 \\n않고 생각으로만 풀이하도록 연습. 생각으로만 도형을 변환하는데 익숙해지는 것이 유리!\\n∙ 영역별 과락 있음 ⇨ 약점과목이라도 과락을 넘길 수 있도록 각 과목의 기본적인 문항은 반드시 맞출 \\n수 있도록 연습!\\n2) 자주 출제되는 유형\\n∙ 언어논리 : 2개의 제시문에서 공통질문 또는 공통결론 찾기\\n∙ 수리논리 : 가격계산, 확률, 자료해석 유형\\n∙ 추리_단어추리 : 단어간의 관계 추리'),\n",
       " Document(metadata={'producer': 'itext-paulo-155 (itextpdf.sf.net-lowagie.com)', 'creator': 'nPDF (pdftk 1.41)', 'creationdate': '2017-08-16T00:21:02-08:00', 'moddate': '2017-08-16T00:21:02-08:00', 'source': './gsat_170823.pdf', 'total_pages': 27, 'page': 24, 'page_label': '25'}, page_content='∙ 시각적 사고 : 종이접어서 뒷모양 또는 앞모양 추론, 전개도를 이용한 입체도형 추론'),\n",
       " Document(metadata={'producer': 'itext-paulo-155 (itextpdf.sf.net-lowagie.com)', 'creator': 'nPDF (pdftk 1.41)', 'creationdate': '2017-08-16T00:21:02-08:00', 'moddate': '2017-08-16T00:21:02-08:00', 'source': './gsat_170823.pdf', 'total_pages': 27, 'page': 25, 'page_label': '26'}, page_content='27\\n삼성전자 합격자 ○○○의 GSAT(직무적성검사) 후기\\n❙삼성직무능력검사(GSAT)❙\\n ※ 준비교재 : 시중 대기업 인적성 교재, GSAT 대비 교재\\n ※ 준비기간 : 1개월~2개월\\n ※ 기출소재\\n⑴ 언어논리\\n① 어휘 : 어휘의 의미, 빈칸에 들어갈(가지 않을) 단어, 어휘간의 의미관계 유추(나머지 포괄하는 \\n단어) 등\\n② 문장/문단배열 : 문장이 들어갈 위치 찾기, 문장 순서대로 배열, 제시문 뒤에 이어질 내용 찾기\\n③ 독해 : 2개의 제시문에서 공통질문/결론 찾기, 반론제기, 세부내용 파악, 세부내용 파악\\n⑵ 수리논리\\n① 응용수리(5문항 정도) : 방정식/부등식 활용, 확률/경우의 수, 가격계산 등\\n② 자료해설(15문항 정도) : 자료이해, 자료추론(계산), 자료변환\\n⑶ 추리 \\n① 명제논리 : 삼단논법, 언어추리(자리배열, 참거짓)\\n② 도형/문자추리 : 기호에 적용된 도형, 문자의 변환규칙 추리하기\\n③ 단어추리 : 단어간 관계 추리'),\n",
       " Document(metadata={'producer': 'itext-paulo-155 (itextpdf.sf.net-lowagie.com)', 'creator': 'nPDF (pdftk 1.41)', 'creationdate': '2017-08-16T00:21:02-08:00', 'moddate': '2017-08-16T00:21:02-08:00', 'source': './gsat_170823.pdf', 'total_pages': 27, 'page': 25, 'page_label': '26'}, page_content='④ 추론형 문항 : 진술 참거짓 판별, 반박, 논점파악\\n⑷ 시각적 사고 \\n① 종이접어서 모양 추론 \\n② 조각 : 주어진 도형에서 조각 찾기, 주어진 조각으로 만들 수 없는 모양 찾기\\n③ 입체도형 : 다른 도형 찾기, 다양한 방향에서 본 모양으로 입체도형 찾기\\n④ 전개도형 \\n⑥ 블록형 : 블록결합했을 때 나올 수 있는 모양 등\\n⑸ 기억나는 문항들\\n∙ 자율주행차 \\n∙ 평창통신기술\\n∙ 종이접기 (난이도 상)\\n∙ 한국사, 세계사 복합 문제\\n∙ 펀칭자르기 (난이도 상)\\n∙ 구멍뚫기 (난이도 상)\\n∙ 블록문제\\n∙ 경우의수\\n∙ 방정식, 부등식 활용\\n5  합격자가 전해주는 후기'),\n",
       " Document(metadata={'producer': 'itext-paulo-155 (itextpdf.sf.net-lowagie.com)', 'creator': 'nPDF (pdftk 1.41)', 'creationdate': '2017-08-16T00:21:02-08:00', 'moddate': '2017-08-16T00:21:02-08:00', 'source': './gsat_170823.pdf', 'total_pages': 27, 'page': 26, 'page_label': '27'}, page_content='28\\n∙ 홍체 인식과 관련된 생체 인식 문제\\n∙ 퀀텀닷(양자점)과 OLED(유기발광다이오드)\\n∙ 차세대 디스플레이의 개념\\n∙ 과학 관련 소재 : 핀테크, 바이오시밀러, 증강현실, 알파고, 딥러닝\\n삼성전자 합격자 △△의 면접 설명 및 준비 Tip\\n⑴ 직무역량면접 : PT면접\\n∙ 기본 전공지식과 그 지식을 실제로 어떻게 활용할지 질문하는 것으로 직무능력 평가\\n∙ 직무에세이를 근거한 질문들\\n⑵ 창의성면접 : 과제에 대한 해결방안 발표 및 토론\\n∙ 제시된 과제에 대해 해결방안을 발표하고 면접관 질문(또는 토론)\\n∙키워드가 주어지고 고르면 면접 진행요원에게 관련 시험지를 받고 3~40분의 준비시간을 거쳐 면접관\\n에게 답변을 함\\n∙ 해당 질문에 대해 정답보다는 타인에게 자신의 생각을 명확하게 전달할 수 있는 논리력 중요!\\n⑶ 임원면접 : 인성면접\\n∙ 예상이 가능한 평범한 질문이므로 크게 긴장하지 않도록 주의\\n∙ 밝고 적극적인 태도 중요'),\n",
       " Document(metadata={'producer': 'itext-paulo-155 (itextpdf.sf.net-lowagie.com)', 'creator': 'nPDF (pdftk 1.41)', 'creationdate': '2017-08-16T00:21:02-08:00', 'moddate': '2017-08-16T00:21:02-08:00', 'source': './gsat_170823.pdf', 'total_pages': 27, 'page': 26, 'page_label': '27'}, page_content='∙ 1분 자기소개와 마지막 하고 싶은 말을 물어보는 경우가 많으므로 미리 준비하여야.')]"
      ]
     },
     "execution_count": 8,
     "metadata": {},
     "output_type": "execute_result"
    }
   ],
   "execution_count": 8
  },
  {
   "metadata": {
    "ExecuteTime": {
     "end_time": "2025-05-21T07:40:47.095077Z",
     "start_time": "2025-05-21T07:40:47.081080Z"
    }
   },
   "cell_type": "code",
   "source": "len(texts)",
   "id": "cc60ab715f42e4da",
   "outputs": [
    {
     "data": {
      "text/plain": [
       "69"
      ]
     },
     "execution_count": 9,
     "metadata": {},
     "output_type": "execute_result"
    }
   ],
   "execution_count": 9
  },
  {
   "metadata": {
    "ExecuteTime": {
     "end_time": "2025-05-21T07:41:32.026146Z",
     "start_time": "2025-05-21T07:41:32.013147Z"
    }
   },
   "cell_type": "code",
   "source": "len(texts[0].page_content)",
   "id": "983193a1b52782e8",
   "outputs": [
    {
     "data": {
      "text/plain": [
       "490"
      ]
     },
     "execution_count": 10,
     "metadata": {},
     "output_type": "execute_result"
    }
   ],
   "execution_count": 10
  },
  {
   "metadata": {},
   "cell_type": "markdown",
   "source": "### BM-25 검색기",
   "id": "6b205c844c764a9d"
  },
  {
   "metadata": {
    "ExecuteTime": {
     "end_time": "2025-05-21T07:41:55.242266Z",
     "start_time": "2025-05-21T07:41:55.229267Z"
    }
   },
   "cell_type": "code",
   "source": [
    "bm25_retriever = BM25Retriever.from_documents(texts)\n",
    "bm25_retriever.k = 2"
   ],
   "id": "63b0a4bcb3c01792",
   "outputs": [],
   "execution_count": 11
  },
  {
   "metadata": {
    "ExecuteTime": {
     "end_time": "2025-05-21T07:41:58.934379Z",
     "start_time": "2025-05-21T07:41:58.920380Z"
    }
   },
   "cell_type": "code",
   "source": "docs = bm25_retriever.get_relevant_documents(\"삼성전자의 사업 영역은?\")",
   "id": "2c4469a45918aa7a",
   "outputs": [
    {
     "name": "stderr",
     "output_type": "stream",
     "text": [
      "C:\\Users\\yechan_amd\\AppData\\Local\\Temp\\ipykernel_21516\\1405877725.py:2: LangChainDeprecationWarning: The method `BaseRetriever.get_relevant_documents` was deprecated in langchain-core 0.1.46 and will be removed in 1.0. Use :meth:`~invoke` instead.\n",
      "  docs = bm25_retriever.get_relevant_documents(\"삼성전자의 사업 영역은?\")\n"
     ]
    }
   ],
   "execution_count": 12
  },
  {
   "metadata": {
    "ExecuteTime": {
     "end_time": "2025-05-21T07:42:06.735691Z",
     "start_time": "2025-05-21T07:42:06.722691Z"
    }
   },
   "cell_type": "code",
   "source": [
    "for i in docs:\n",
    "    print(i.metadata)\n",
    "    print(\":\")\n",
    "    print(i.page_content.replace('\\n',' '))\n",
    "    print(len(i.page_content.replace('\\n',' ')))\n",
    "    print(\"*\"*30)"
   ],
   "id": "c44981e5fd1c26b7",
   "outputs": [
    {
     "name": "stdout",
     "output_type": "stream",
     "text": [
      "{'producer': 'itext-paulo-155 (itextpdf.sf.net-lowagie.com)', 'creator': 'nPDF (pdftk 1.41)', 'creationdate': '2017-08-16T00:21:02-08:00', 'moddate': '2017-08-16T00:21:02-08:00', 'source': './gsat_170823.pdf', 'total_pages': 27, 'page': 10, 'page_label': '11'}\n",
      ":\n",
      "12 Q2 삼성전자의 Harman사 인수에 대해 어떻게 생각하십니까 ? A  삼성전자가 최근 80억달러(약 9조)에 미국의 전장업체(자동차 전자기기에 대한 사업)인 Harman 사를  인수하기로 결정했습니다. 하만사는 세계적으로 자동차용 인포테인먼트와 텔레매틱스 시장에서 점유 율 1~2위를 달리고 있으며 매출도 상당합니다. 이번 삼성전자의 하만 인수는 모바일 및 가전 시장에서  나아가 Connected Car 시장 진입에 진출했다는 것에 큰 의의가 있습니다. 향후 10년 시장 내 Connected  Car의 비중은 90%에 육박할 전망입니다. LG전자 역시 자동차부품(VC) 사업 부문에 있어 상당한 경쟁  위협 요인가 될 것으로 내다봤습니다. <관련기사> 전장사업 강자 하만과 손잡은 삼성…스마트카 ‘티어1’ 노린다 (한국경제. 2016-11-21) 삼성전자는 자동차 전장(電裝)사업에서 후발 주자다. 2005년 전장사업을 시작한 LG전자는\n",
      "474\n",
      "******************************\n",
      "{'producer': 'itext-paulo-155 (itextpdf.sf.net-lowagie.com)', 'creator': 'nPDF (pdftk 1.41)', 'creationdate': '2017-08-16T00:21:02-08:00', 'moddate': '2017-08-16T00:21:02-08:00', 'source': './gsat_170823.pdf', 'total_pages': 27, 'page': 14, 'page_label': '15'}\n",
      ":\n",
      "2015년말 기준 삼성전자의 총자산 금액은 약 169조에 달하며, 부채는 32.5조, 자본총계는 136조에 이르고  있다.\n",
      "68\n",
      "******************************\n"
     ]
    }
   ],
   "execution_count": 13
  },
  {
   "metadata": {},
   "cell_type": "markdown",
   "source": "### 임베딩 기반 검색기",
   "id": "67c56b973b7f9d1d"
  },
  {
   "metadata": {
    "ExecuteTime": {
     "end_time": "2025-05-21T07:45:24.162089Z",
     "start_time": "2025-05-21T07:44:53.595554Z"
    }
   },
   "cell_type": "code",
   "source": [
    "chroma_vector = Chroma.from_documents(texts, model_huggingface)\n",
    "chroma_retriever = chroma_vector.as_retriever(search_kwargs={'k':2})"
   ],
   "id": "c58fdd953692cec3",
   "outputs": [],
   "execution_count": 15
  },
  {
   "metadata": {
    "ExecuteTime": {
     "end_time": "2025-05-21T07:45:30.199948Z",
     "start_time": "2025-05-21T07:45:30.030428Z"
    }
   },
   "cell_type": "code",
   "source": [
    "docs = chroma_retriever.invoke(\"삼성전자의 사업 영역은?\")\n",
    "for i in docs:\n",
    "    print(i.metadata)\n",
    "    print(\":\")\n",
    "    print(i.page_content.replace('\\n',' '))\n",
    "    print(len(i.page_content.replace('\\n',' ')))\n",
    "    print(\"*\"*30)"
   ],
   "id": "a3faddf50ba07e9d",
   "outputs": [
    {
     "name": "stdout",
     "output_type": "stream",
     "text": [
      "{'page': 9, 'creator': 'nPDF (pdftk 1.41)', 'page_label': '10', 'source': './gsat_170823.pdf', 'moddate': '2017-08-16T00:21:02-08:00', 'total_pages': 27, 'creationdate': '2017-08-16T00:21:02-08:00', 'producer': 'itext-paulo-155 (itextpdf.sf.net-lowagie.com)'}\n",
      ":\n",
      "11 Ⅱ 기업 상세 분석 1  사업분야(내용) Q1 삼성전자의 대표적 사업분야에 대해 설명할 수 있습니까 ? A  삼성전자는 크게 CE(Consumer Electronics) 사업부문, IM(Information technology & Mobile communica- tion) 사업부문, DS(Device Solutions) 사업부문 등 3개 사업부문으로 나누어 독립 경영을 합니다. ⑴ Consumer Electronics (CE) 부문  ① 영상디스플레이 : 진화하는 스마트TV, 초대형 프리미엄 TV 전략으로 8년 연속 세계 1위에  도전 ② 생활가전 : 새로운 기술과 가치 창출로 생활과 문화를 바꾸는 혁신을 준비 ③ 의료기기 : 정확하고 빠른 진단을 도와주는 새롭고 혁신적인 의료기기를 개발 ⑵ Information technology & Mobile communication (IM) 부문 ① 무선 : 인간 중심의 혁신으로 소비자들이 열망하는 새로운 가치와 편의를 지속적으로 제공\n",
      "499\n",
      "******************************\n",
      "{'page_label': '10', 'total_pages': 27, 'source': './gsat_170823.pdf', 'creator': 'nPDF (pdftk 1.41)', 'creationdate': '2017-08-16T00:21:02-08:00', 'moddate': '2017-08-16T00:21:02-08:00', 'page': 9, 'producer': 'itext-paulo-155 (itextpdf.sf.net-lowagie.com)'}\n",
      ":\n",
      "11 Ⅱ 기업 상세 분석 1  사업분야(내용) Q1 삼성전자의 대표적 사업분야에 대해 설명할 수 있습니까 ? A  삼성전자는 크게 CE(Consumer Electronics) 사업부문, IM(Information technology & Mobile communica- tion) 사업부문, DS(Device Solutions) 사업부문 등 3개 사업부문으로 나누어 독립 경영을 합니다. ⑴ Consumer Electronics (CE) 부문  ① 영상디스플레이 : 진화하는 스마트TV, 초대형 프리미엄 TV 전략으로 8년 연속 세계 1위에  도전 ② 생활가전 : 새로운 기술과 가치 창출로 생활과 문화를 바꾸는 혁신을 준비 ③ 의료기기 : 정확하고 빠른 진단을 도와주는 새롭고 혁신적인 의료기기를 개발 ⑵ Information technology & Mobile communication (IM) 부문 ① 무선 : 인간 중심의 혁신으로 소비자들이 열망하는 새로운 가치와 편의를 지속적으로 제공\n",
      "499\n",
      "******************************\n"
     ]
    }
   ],
   "execution_count": 16
  },
  {
   "metadata": {},
   "cell_type": "markdown",
   "source": "### BM-25 + 임베딩 앙상블 기반 검색기",
   "id": "656580893e0d3f13"
  },
  {
   "metadata": {
    "ExecuteTime": {
     "end_time": "2025-05-21T07:46:33.548830Z",
     "start_time": "2025-05-21T07:46:33.410771Z"
    }
   },
   "cell_type": "code",
   "source": [
    "ensemble_retriever = EnsembleRetriever(\n",
    "                    retrievers = [bm25_retriever, chroma_retriever], weight = {0.5,0.5})\n",
    "\n",
    "docs = ensemble_retriever.invoke(\"삼성전자의 사업 영역은?\")"
   ],
   "id": "dfed5a280cac50a6",
   "outputs": [],
   "execution_count": 17
  },
  {
   "metadata": {
    "ExecuteTime": {
     "end_time": "2025-05-21T07:46:39.766786Z",
     "start_time": "2025-05-21T07:46:39.752785Z"
    }
   },
   "cell_type": "code",
   "source": [
    "for i in docs:\n",
    "    print(i.metadata)\n",
    "    print(\":\")\n",
    "    print(i.page_content.replace('\\n',' '))\n",
    "    print(len(i.page_content.replace('\\n',' ')))\n",
    "    print(\"*\"*30)"
   ],
   "id": "d8712ec3515523c7",
   "outputs": [
    {
     "name": "stdout",
     "output_type": "stream",
     "text": [
      "{'producer': 'itext-paulo-155 (itextpdf.sf.net-lowagie.com)', 'creator': 'nPDF (pdftk 1.41)', 'page': 9, 'moddate': '2017-08-16T00:21:02-08:00', 'source': './gsat_170823.pdf', 'total_pages': 27, 'creationdate': '2017-08-16T00:21:02-08:00', 'page_label': '10'}\n",
      ":\n",
      "11 Ⅱ 기업 상세 분석 1  사업분야(내용) Q1 삼성전자의 대표적 사업분야에 대해 설명할 수 있습니까 ? A  삼성전자는 크게 CE(Consumer Electronics) 사업부문, IM(Information technology & Mobile communica- tion) 사업부문, DS(Device Solutions) 사업부문 등 3개 사업부문으로 나누어 독립 경영을 합니다. ⑴ Consumer Electronics (CE) 부문  ① 영상디스플레이 : 진화하는 스마트TV, 초대형 프리미엄 TV 전략으로 8년 연속 세계 1위에  도전 ② 생활가전 : 새로운 기술과 가치 창출로 생활과 문화를 바꾸는 혁신을 준비 ③ 의료기기 : 정확하고 빠른 진단을 도와주는 새롭고 혁신적인 의료기기를 개발 ⑵ Information technology & Mobile communication (IM) 부문 ① 무선 : 인간 중심의 혁신으로 소비자들이 열망하는 새로운 가치와 편의를 지속적으로 제공\n",
      "499\n",
      "******************************\n",
      "{'producer': 'itext-paulo-155 (itextpdf.sf.net-lowagie.com)', 'creator': 'nPDF (pdftk 1.41)', 'creationdate': '2017-08-16T00:21:02-08:00', 'moddate': '2017-08-16T00:21:02-08:00', 'source': './gsat_170823.pdf', 'total_pages': 27, 'page': 10, 'page_label': '11'}\n",
      ":\n",
      "12 Q2 삼성전자의 Harman사 인수에 대해 어떻게 생각하십니까 ? A  삼성전자가 최근 80억달러(약 9조)에 미국의 전장업체(자동차 전자기기에 대한 사업)인 Harman 사를  인수하기로 결정했습니다. 하만사는 세계적으로 자동차용 인포테인먼트와 텔레매틱스 시장에서 점유 율 1~2위를 달리고 있으며 매출도 상당합니다. 이번 삼성전자의 하만 인수는 모바일 및 가전 시장에서  나아가 Connected Car 시장 진입에 진출했다는 것에 큰 의의가 있습니다. 향후 10년 시장 내 Connected  Car의 비중은 90%에 육박할 전망입니다. LG전자 역시 자동차부품(VC) 사업 부문에 있어 상당한 경쟁  위협 요인가 될 것으로 내다봤습니다. <관련기사> 전장사업 강자 하만과 손잡은 삼성…스마트카 ‘티어1’ 노린다 (한국경제. 2016-11-21) 삼성전자는 자동차 전장(電裝)사업에서 후발 주자다. 2005년 전장사업을 시작한 LG전자는\n",
      "474\n",
      "******************************\n",
      "{'producer': 'itext-paulo-155 (itextpdf.sf.net-lowagie.com)', 'creator': 'nPDF (pdftk 1.41)', 'creationdate': '2017-08-16T00:21:02-08:00', 'moddate': '2017-08-16T00:21:02-08:00', 'source': './gsat_170823.pdf', 'total_pages': 27, 'page': 14, 'page_label': '15'}\n",
      ":\n",
      "2015년말 기준 삼성전자의 총자산 금액은 약 169조에 달하며, 부채는 32.5조, 자본총계는 136조에 이르고  있다.\n",
      "68\n",
      "******************************\n"
     ]
    }
   ],
   "execution_count": 18
  },
  {
   "metadata": {},
   "cell_type": "code",
   "outputs": [],
   "execution_count": null,
   "source": "",
   "id": "db498c72a431d5b8"
  }
 ],
 "metadata": {
  "kernelspec": {
   "display_name": "Python 3",
   "language": "python",
   "name": "python3"
  },
  "language_info": {
   "codemirror_mode": {
    "name": "ipython",
    "version": 2
   },
   "file_extension": ".py",
   "mimetype": "text/x-python",
   "name": "python",
   "nbconvert_exporter": "python",
   "pygments_lexer": "ipython2",
   "version": "2.7.6"
  }
 },
 "nbformat": 4,
 "nbformat_minor": 5
}
