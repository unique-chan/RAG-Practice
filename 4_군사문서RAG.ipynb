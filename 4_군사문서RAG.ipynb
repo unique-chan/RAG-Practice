{
 "cells": [
  {
   "cell_type": "code",
   "execution_count": 3,
   "id": "initial_id",
   "metadata": {
    "ExecuteTime": {
     "end_time": "2025-05-22T14:56:41.965165Z",
     "start_time": "2025-05-22T14:56:41.581118Z"
    },
    "collapsed": true
   },
   "outputs": [],
   "source": [
    "from langchain.text_splitter import RecursiveCharacterTextSplitter, CharacterTextSplitter\n",
    "from langchain.vectorstores import Chroma\n",
    "from langchain.document_loaders import PyPDFLoader\n",
    "from langchain.embeddings import HuggingFaceEmbeddings"
   ]
  },
  {
   "cell_type": "code",
   "execution_count": 4,
   "id": "90bc4f4973ff266",
   "metadata": {
    "ExecuteTime": {
     "end_time": "2025-05-22T14:29:31.188603Z",
     "start_time": "2025-05-22T14:29:30.758548Z"
    }
   },
   "outputs": [
    {
     "name": "stdout",
     "output_type": "stream",
     "text": [
      "17\n"
     ]
    }
   ],
   "source": [
    "loader = PyPDFLoader('./atp7-100-1_defense.pdf')\n",
    "pages = loader.load_and_split() # pdf 페이지 단위로 쪼깨서 읽어 들임\n",
    "print(len(pages))"
   ]
  },
  {
   "cell_type": "code",
   "execution_count": 5,
   "id": "6a77e55b8b2ffc10",
   "metadata": {
    "ExecuteTime": {
     "end_time": "2025-05-22T14:29:31.250119Z",
     "start_time": "2025-05-22T14:29:31.238120Z"
    }
   },
   "outputs": [
    {
     "data": {
      "text/plain": [
       "Document(metadata={'producer': 'iLovePDF', 'creator': 'PyPDF', 'creationdate': '', 'moddate': '2025-05-23T07:42:04+00:00', 'source': './atp7-100-1_defense.pdf', 'total_pages': 14, 'page': 1, 'page_label': '2'}, page_content=\"Chapter 6 \\n6-2 ATP 7-100.1 \\x15\\x1c\\x03)HEUXDU\\\\\\x03\\x15\\x13\\x15\\x17 \\nACHIEVING STABILITY IN THE DEFENSE \\n6-4. To achieve stability in the defense, SV ground units must be able to survive impacts of nuclear weapons \\nand maintain a low exposure to aggressor precision weap ons. To accomplish this, units must be dispersed,\\ncovered, concealed, and use resources to mask thei r positions from radar and thermal imaging devices. To\\nmaintain stability, SV ground units mu st also have the means to protec t against precision munitions using\\nelectromagnetic warfare. Stability measures also include—\\nz Antitank capability to deter attacks by tanks and armored vehicles.\\nz Ability to defend against tactical and operational air strikes.\\nz Ability to resist airborne and air assault attacks and aggressor reconnaissance efforts as well as the\\ncapability to deter attempted sabotage.\\nELEMENTS OF AN ACTIVE DEFENSE \\n6-5. An active defense must be capable of placing the aggressor under planned and integrated fires, and, as\\na rule, create adverse conditions for the aggressor to  manage the battle. Active defensive measures also\\ninclude extensive maneuver of systems and forces in the conduct of fires and assaults. A key attribute of the\\nactive defense is the ability to conduct decisive count erattacks. The active defense is achieved by thorough\\norganization and adroit implementation of the means of nuclear and conventional fires to annihilate the\\naggressor. The active defense also includes—\\nz Judicious maneuver of forces and systems, which includes the use of planned, integrated fires and\\nobstacles against a threatened axis of advance.\\nz Countering aggressor C2 systems, weapons, fixed wing, rotary wing, and UAVs.\\nECHELONMENT OF FORCES \\n6-6. Russian tactical combat formations, units, and subunits are normally deployed in two echelons in both\\nthe offense and the defense. The first echelon in either offense or defense is a combined arms force often\\ncomprising as much as one-half to two-thirds of the brigade's or division’s available combat power. In the\\npositional defense, the first echelon occupies the main forward position and is responsible for stopping the\\naggressor's attack in front of or within this position.  In a maneuver defense, the first echelon seeks to force\\nthe aggressor to deploy, disrupt the attack, and expose key elements and systems to counterattack.\\n6-7. The second echelon is assigned an explicit mission that distinguishes it from a reserve. The second\\nechelon is also a combined arms force often representing one-third to one-half of available combat power. In\\na maneuver defense, the second echelon shields the repositioning of combat forces and reserve to provide a\\nbasis from which strikes and counterattacks are launch ed. In a positional defense, the second echelon's\\nmission is to—\\nz Retain the depths of the defensive positions.\\nz Prohibit the aggressor from penetrating into the depths of the defense.\\nz Replace units and subunits from the first echelon who have lost combat effectiveness.\\nTYPES OF DEFENSE \\n6-8. The SV uses several different tactics during defensive operations, with their use informed by the\\nprinciples discussed earlier in this chapter.\\nPOSITIONAL DEFENSE \\n6-9. The positional defense is designed to exact the utmost losses on the aggressor by tenaciously holding\\nprepared defensive positions. The positional defense is used to defend critical terrain and significant\\nobjectives considered too important to lose to the aggressor. An SV positional defense will be significantly\\necheloned by a system of defensive positions, lines, and areas and a prepared system of planned and\\nintegrated fires designed to defeat the aggressor. SV units may also adopt a brief positional defense, typically\\na nonfortified firing line. This temporary defense could be employed during a meeting battle or while moving\\nwithin a defensive combat formation. Typically, the temporary positional defense is used to fend off\")"
      ]
     },
     "execution_count": 5,
     "metadata": {},
     "output_type": "execute_result"
    }
   ],
   "source": [
    "pages[1]"
   ]
  },
  {
   "cell_type": "code",
   "execution_count": 6,
   "id": "3cee96c9e7126fd7",
   "metadata": {
    "ExecuteTime": {
     "end_time": "2025-05-22T14:36:51.508698Z",
     "start_time": "2025-05-22T14:36:51.494698Z"
    }
   },
   "outputs": [],
   "source": [
    "# text_splitter = RecursiveCharacterTextSplitter(chunk_size=500, chunk_overlap=0)\n",
    "\n",
    "text_splitter = CharacterTextSplitter.from_tiktoken_encoder(\n",
    "    chunk_size=500,\n",
    "    chunk_overlap=0,\n",
    "    encoding_name=\"cl100k_base\",\n",
    ")\n",
    "texts = text_splitter.split_documents(pages)"
   ]
  },
  {
   "cell_type": "code",
   "execution_count": 7,
   "id": "cc60ab715f42e4da",
   "metadata": {
    "ExecuteTime": {
     "end_time": "2025-05-22T14:36:47.387327Z",
     "start_time": "2025-05-22T14:36:47.374817Z"
    }
   },
   "outputs": [
    {
     "data": {
      "text/plain": [
       "17"
      ]
     },
     "execution_count": 7,
     "metadata": {},
     "output_type": "execute_result"
    }
   ],
   "source": [
    "len(texts)"
   ]
  },
  {
   "cell_type": "code",
   "execution_count": 8,
   "id": "5f8d0b6799c4272d",
   "metadata": {
    "ExecuteTime": {
     "end_time": "2025-05-22T14:36:57.982696Z",
     "start_time": "2025-05-22T14:36:57.970187Z"
    }
   },
   "outputs": [
    {
     "data": {
      "text/plain": [
       "'\\x15\\x1c\\x03)HEUXDU\\\\\\x03\\x15\\x13\\x15\\x17 ATP 7-100.1 6-1\\nChapter 6 \\nDefense \\nOver the course of the last two decades, the Ground Forces of the Russian Federation \\n\\x0bɋɭɯɨɩɭɬɧɵɟ\\x03ɜɨɣɫɤɚ\\x03Ɋɨɫɫɢɣɫɤɨɣ\\x03Ɏɟɞɟɪɚɰɢɢ\\x03– sukhoputnyye voyska RF - SV) have \\nemphasized defensive tactics. And, while SV units train in both positional and \\nmaneuver defense, recent SV doctrinal papers have emphasized the value of the \\nmaneuver defense over the positional defense. In all cases however, the SV considers \\nthe tactical counterattack as the ultimate method for destroying an aggressor on the \\nbattlefield. This chapter explains the theory and rational behind the SV’s defensive \\nobjectives, as well as, how the SV design, arrange, and execute tactical defensive \\nactions. Additionally, the tactical defensive requirements and characteristics for units \\nare described in detail.  \\nPURPOSE OF THE DEFENSE \\n6-1. The SV is not the ground force of World War II or the Cold War, which involved massive armies and\\nmillions of soldiers in a linear, cohesive, side-by-side defense. Indeed, contemporary Russian military writers\\nsuggest that the future conventional battlefield unde r nuclear-threatened conditi ons and precision weapons\\nwill be fragmented. The SV will fight with open flanks protected by fires, counterattacks, strong points,\\ndifficult terrain, and obstacles. Battles in the security zone combined with maneuver defense will be common \\nleading to a positional defense where the greatly weakened and disorganized aggressor will crash into a\\ntoughened and prepared defense.\\nGOALS OF THE DEFENSE \\n6-2. The goals of the defense for the SV are—\\nz Repel attacks by superior aggressor forces.\\nz Produce maximum losses.\\nz Hold important areas, objects, and key terrain.\\nz Generate advantageous conditions for the conduct of an offensive.\\nREQUIREMENTS FOR THE DEFENSE \\n6-3. According to SV tactical regulati ons, the defense must be both stable and active. Numerous Russian\\nmilitary academics deem stability and activeness as pr imary prerequisites for an effective defense. The\\ndefense must be able to defeat large aggressor attack s and protect key areas. The defense must also be able\\nto annihilate any aggressor breakthrough of defensive positions. Notably, SV forces can assume the defense\\nin or out of contact with the aggressor. SV defensive doctrine states that to achieve these requirements, the\\ndefense must include—\\nz Echeloned positions capable of defending against weapons of mass destruction, precision-guided\\nmunitions, and electromagnetic warfare.\\nz Antitank resources.\\nz Air defense resources.\\nz Anti-air assault capabilities.'"
      ]
     },
     "execution_count": 8,
     "metadata": {},
     "output_type": "execute_result"
    }
   ],
   "source": [
    "texts[0].page_content"
   ]
  },
  {
   "cell_type": "code",
   "execution_count": 9,
   "id": "983193a1b52782e8",
   "metadata": {
    "ExecuteTime": {
     "end_time": "2025-05-22T14:37:00.042479Z",
     "start_time": "2025-05-22T14:37:00.030479Z"
    }
   },
   "outputs": [
    {
     "data": {
      "text/plain": [
       "\"Chapter 6 \\n6-2 ATP 7-100.1 \\x15\\x1c\\x03)HEUXDU\\\\\\x03\\x15\\x13\\x15\\x17 \\nACHIEVING STABILITY IN THE DEFENSE \\n6-4. To achieve stability in the defense, SV ground units must be able to survive impacts of nuclear weapons \\nand maintain a low exposure to aggressor precision weap ons. To accomplish this, units must be dispersed,\\ncovered, concealed, and use resources to mask thei r positions from radar and thermal imaging devices. To\\nmaintain stability, SV ground units mu st also have the means to protec t against precision munitions using\\nelectromagnetic warfare. Stability measures also include—\\nz Antitank capability to deter attacks by tanks and armored vehicles.\\nz Ability to defend against tactical and operational air strikes.\\nz Ability to resist airborne and air assault attacks and aggressor reconnaissance efforts as well as the\\ncapability to deter attempted sabotage.\\nELEMENTS OF AN ACTIVE DEFENSE \\n6-5. An active defense must be capable of placing the aggressor under planned and integrated fires, and, as\\na rule, create adverse conditions for the aggressor to  manage the battle. Active defensive measures also\\ninclude extensive maneuver of systems and forces in the conduct of fires and assaults. A key attribute of the\\nactive defense is the ability to conduct decisive count erattacks. The active defense is achieved by thorough\\norganization and adroit implementation of the means of nuclear and conventional fires to annihilate the\\naggressor. The active defense also includes—\\nz Judicious maneuver of forces and systems, which includes the use of planned, integrated fires and\\nobstacles against a threatened axis of advance.\\nz Countering aggressor C2 systems, weapons, fixed wing, rotary wing, and UAVs.\\nECHELONMENT OF FORCES \\n6-6. Russian tactical combat formations, units, and subunits are normally deployed in two echelons in both\\nthe offense and the defense. The first echelon in either offense or defense is a combined arms force often\\ncomprising as much as one-half to two-thirds of the brigade's or division’s available combat power. In the\\npositional defense, the first echelon occupies the main forward position and is responsible for stopping the\\naggressor's attack in front of or within this position.  In a maneuver defense, the first echelon seeks to force\\nthe aggressor to deploy, disrupt the attack, and expose key elements and systems to counterattack.\\n6-7. The second echelon is assigned an explicit mission that distinguishes it from a reserve. The second\\nechelon is also a combined arms force often representing one-third to one-half of available combat power. In\\na maneuver defense, the second echelon shields the repositioning of combat forces and reserve to provide a\\nbasis from which strikes and counterattacks are launch ed. In a positional defense, the second echelon's\\nmission is to—\\nz Retain the depths of the defensive positions.\\nz Prohibit the aggressor from penetrating into the depths of the defense.\\nz Replace units and subunits from the first echelon who have lost combat effectiveness.\\nTYPES OF DEFENSE \\n6-8. The SV uses several different tactics during defensive operations, with their use informed by the\\nprinciples discussed earlier in this chapter.\\nPOSITIONAL DEFENSE \\n6-9. The positional defense is designed to exact the utmost losses on the aggressor by tenaciously holding\\nprepared defensive positions. The positional defense is used to defend critical terrain and significant\\nobjectives considered too important to lose to the aggressor. An SV positional defense will be significantly\\necheloned by a system of defensive positions, lines, and areas and a prepared system of planned and\\nintegrated fires designed to defeat the aggressor. SV units may also adopt a brief positional defense, typically\\na nonfortified firing line. This temporary defense could be employed during a meeting battle or while moving\\nwithin a defensive combat formation. Typically, the temporary positional defense is used to fend off\""
      ]
     },
     "execution_count": 9,
     "metadata": {},
     "output_type": "execute_result"
    }
   ],
   "source": [
    "texts[1].page_content"
   ]
  },
  {
   "cell_type": "code",
   "execution_count": 10,
   "id": "89ec51929ef744b9",
   "metadata": {
    "ExecuteTime": {
     "end_time": "2025-05-22T14:37:01.641661Z",
     "start_time": "2025-05-22T14:37:01.630660Z"
    }
   },
   "outputs": [
    {
     "data": {
      "text/plain": [
       "\"Defense \\n\\x15\\x1c\\x03)HEUXDU\\\\\\x03\\x15\\x13\\x15\\x17 ATP 7-100.1 6-3\\naggressor counterattacks, hold key terrain, or to protect exposed flanks before shifting to offensive operations. \\nSV manuals stipulate that a brigade's main defensive zone in a positional defense will be up to 15 km wide \\nand up to 20 km deep. As always, though, the width and depth will be situationally dependent. \\nMANEUVER DEFENSE \\n6-10. When circumstances arise in which the aggressor has substantial advantage over SV forces, and when\\nit is possible to trade maneuver space for time, the SV will use a maneuver defense. Maneuver defense is\\ndesigned to win time, allow for the reorganizing of forces, and at the intended time, strike a critical blow on\\nthe attacking aggressor. In short, the maneuver defense is achieved by echeloned, sequential defensive actions \\nplanned, and culminating in a decisive blow against the aggressor forces. A brigade's main defensive front in\\na maneuver defense can be up to 20 km wide and up to 30 km in depth. However, the width and depth of the\\nmain defense will be situationally dependent.\\nDEFENSIVE BELT AND ZONE OF RESPONSIBILITY \\n6-11. If the brigade or division is part of an army or corps, it comprises a defensive belt (polosa oborony -\\nɩɨɥɨɫɚ ɨɛɨɪɨɧɵ). If, however, the brigade/division is working separately on a distinct axis of approach or\\nin a separate armed conflict, the brigade/division establishes a zone of responsibility (zona otvetstvennosti -\\nɡɨɧɚ ɨɬɜɟɬɫɬɜɟɧɧɨɫɬɢ). The radius of reconnaissance systems, combined with flank and rear boundary\\nlines dividing the brigade/division from other friendly units determines how a defensive belt or zone of\\nresponsibility are distributed. The design of the belt or zone is predicated on the tactical support of all combat\\nsubunits within the brigade/division,  as well as the ability of the brigade/division to provide increasing\\nresistance to advancing aggressor elements. The la yout is also based on sufficient area for freedom of\\nmaneuver and dispersal of subunits. The following are characteristics of a motorized rifle or tank\\nbrigade/division in the defense:\\nz Brigade/division combat formation.\\nz A system of defensive positions, areas, and borders. (Integrated defensive positions).\\nz A system of fire destruction on the aggressor. (Fire sacks for destruction of the aggressor).\\nz Integrated air defense. (Tactical-Operational-Strategic).\\nz Integrated antitank defense.\\nz System of engineering obstacles. (Integrated obstacles).\\nz A system for combating airborne assault forces. (Integrated air assault/air drop defense).\\nz Management system. (Integrated command and control).\\nPREPARATION OF THE DEFENSE \\n6-12. Formulation of the defense starts when the SV senior commander issues their orders. These orders will\\ninclude—\\nz Organization for combat.\\nz Decision making.\\nz Giving orders to subordinate units.\\nz Reconnaissance.\\nz Establishment of cooperation and establishment of an integrated system of fires as well as wide-\\nranging logistic and C2 support.\\nz Development of diagrams for the battalion's area of defense, to include company strong points.\\nz Planning to conduct combat missions.\\nz Creation of combat orders and system of fires.\\nz Engineering collaboration for the establishment of strong points.\\nz Organization and direction of morale and psychological effort.\\nz Functional work by the commander, deputies, a nd staff with subordinate subunits and other\\nplanning activities.\""
      ]
     },
     "execution_count": 10,
     "metadata": {},
     "output_type": "execute_result"
    }
   ],
   "source": [
    "texts[2].page_content"
   ]
  },
  {
   "cell_type": "code",
   "execution_count": 11,
   "id": "8e06a2c16568ca90",
   "metadata": {
    "ExecuteTime": {
     "end_time": "2025-05-22T14:37:18.524900Z",
     "start_time": "2025-05-22T14:37:13.837816Z"
    }
   },
   "outputs": [
    {
     "name": "stderr",
     "output_type": "stream",
     "text": [
      "C:\\Users\\sooyeonkim\\AppData\\Local\\Temp\\ipykernel_21804\\260948898.py:1: LangChainDeprecationWarning: The class `HuggingFaceEmbeddings` was deprecated in LangChain 0.2.2 and will be removed in 1.0. An updated version of the class exists in the :class:`~langchain-huggingface package and should be used instead. To use it run `pip install -U :class:`~langchain-huggingface` and import as `from :class:`~langchain_huggingface import HuggingFaceEmbeddings``.\n",
      "  model = HuggingFaceEmbeddings(model_name='BAAI/bge-large-en-v1.5')\n"
     ]
    }
   ],
   "source": [
    "model = HuggingFaceEmbeddings(model_name='BAAI/bge-large-en-v1.5')"
   ]
  },
  {
   "cell_type": "code",
   "execution_count": 12,
   "id": "c58fdd953692cec3",
   "metadata": {
    "ExecuteTime": {
     "end_time": "2025-05-22T14:53:57.870869Z",
     "start_time": "2025-05-22T14:53:53.883286Z"
    }
   },
   "outputs": [],
   "source": [
    "chroma_db = Chroma.from_documents(texts, model)"
   ]
  },
  {
   "cell_type": "code",
   "execution_count": 13,
   "id": "d817eec298e13c50",
   "metadata": {
    "ExecuteTime": {
     "end_time": "2025-05-22T14:53:58.729169Z",
     "start_time": "2025-05-22T14:53:58.716660Z"
    }
   },
   "outputs": [
    {
     "data": {
      "text/plain": [
       "17"
      ]
     },
     "execution_count": 13,
     "metadata": {},
     "output_type": "execute_result"
    }
   ],
   "source": [
    "chroma_db._collection.count()"
   ]
  },
  {
   "cell_type": "code",
   "execution_count": 14,
   "id": "91742cb3669076e9",
   "metadata": {},
   "outputs": [],
   "source": [
    "from langchain_openai import ChatOpenAI\n",
    "from langchain import PromptTemplate\n",
    "from langchain.chains import RetrievalQA\n",
    "import os"
   ]
  },
  {
   "cell_type": "code",
   "execution_count": 15,
   "id": "8082f4fb1d2d9d7c",
   "metadata": {
    "ExecuteTime": {
     "end_time": "2025-05-22T14:57:41.480249Z",
     "start_time": "2025-05-22T14:57:41.473250Z"
    }
   },
   "outputs": [],
   "source": "os.environ['OPENAI_API_KEY'] = ''"
  },
  {
   "cell_type": "code",
   "execution_count": 32,
   "id": "41978c34aa846c5b",
   "metadata": {
    "ExecuteTime": {
     "end_time": "2025-05-22T15:06:29.402850Z",
     "start_time": "2025-05-22T15:06:29.389850Z"
    }
   },
   "outputs": [],
   "source": [
    "template = '''너는 군사 전문가이고, 검색 결과를 바탕으로 똑바로 답해야 해.\n",
    "만약 모르겠다면, 솔직하게 모른다고 해. 그리고 이모지를 넣어서 친근하게 답해봐!!! \n",
    "{context}\n",
    "\n",
    "question: {question}\n",
    "answer:\n",
    "'''\n",
    "\n",
    "prompt = PromptTemplate.from_template(template)"
   ]
  },
  {
   "cell_type": "code",
   "execution_count": 17,
   "id": "32cbfba25f7d3228",
   "metadata": {
    "ExecuteTime": {
     "end_time": "2025-05-22T15:00:51.987925Z",
     "start_time": "2025-05-22T15:00:51.099715Z"
    }
   },
   "outputs": [],
   "source": [
    "llm = ChatOpenAI(model_name='gpt-4o')"
   ]
  },
  {
   "cell_type": "code",
   "execution_count": 18,
   "id": "288b3d044bd80e91",
   "metadata": {
    "ExecuteTime": {
     "end_time": "2025-05-22T15:01:23.314095Z",
     "start_time": "2025-05-22T15:01:21.792902Z"
    }
   },
   "outputs": [
    {
     "name": "stdout",
     "output_type": "stream",
     "text": [
      "Hello! I'm an AI language model created by OpenAI. I'm here to help answer questions, provide information, and assist with a wide range of topics. How can I assist you today?\n"
     ]
    }
   ],
   "source": [
    "result = llm.invoke('hi! who are you?')\n",
    "print(result.content)"
   ]
  },
  {
   "cell_type": "code",
   "execution_count": 20,
   "id": "11a8cbcc24968423",
   "metadata": {
    "ExecuteTime": {
     "end_time": "2025-05-22T15:02:45.376649Z",
     "start_time": "2025-05-22T15:02:45.363649Z"
    }
   },
   "outputs": [],
   "source": [
    "retriever = chroma_db.as_retriever(search_kwargs={'k': 2})"
   ]
  },
  {
   "cell_type": "code",
   "execution_count": 33,
   "id": "ed8e8bd796133fb1",
   "metadata": {
    "ExecuteTime": {
     "end_time": "2025-05-22T15:04:18.199211Z",
     "start_time": "2025-05-22T15:04:18.186211Z"
    }
   },
   "outputs": [],
   "source": [
    "# 랭체인 핵심 ! \n",
    "\n",
    "qa_chain = RetrievalQA.from_chain_type(\n",
    "    llm=llm,\n",
    "    retriever=retriever,\n",
    "    chain_type_kwargs={'prompt': prompt},\n",
    "    return_source_documents=True,\n",
    ")"
   ]
  },
  {
   "cell_type": "code",
   "execution_count": 23,
   "id": "f2942127cf4fb55c",
   "metadata": {
    "ExecuteTime": {
     "end_time": "2025-05-22T15:07:55.451141Z",
     "start_time": "2025-05-22T15:07:53.232878Z"
    }
   },
   "outputs": [],
   "source": [
    "question = \"What is the main topic of the document?\"\n",
    "chatbot_response = qa_chain.invoke(question)"
   ]
  },
  {
   "cell_type": "code",
   "execution_count": 24,
   "id": "73a54cd9b9208070",
   "metadata": {
    "ExecuteTime": {
     "end_time": "2025-05-22T15:07:56.890333Z",
     "start_time": "2025-05-22T15:07:56.877318Z"
    }
   },
   "outputs": [
    {
     "data": {
      "text/plain": [
       "{'query': 'What is the main topic of the document?',\n",
       " 'result': 'The main topic of the document is the defensive tactics and strategies of the Ground Forces of the Russian Federation (SV). It elaborates on the theory, goals, and requirements behind their defensive objectives, and details the considerations and responsibilities of commanders at various levels in arranging and executing tactical defensive actions.',\n",
       " 'source_documents': [Document(metadata={'producer': 'iLovePDF', 'total_pages': 14, 'moddate': '2025-05-23T07:42:04+00:00', 'source': './atp7-100-1_defense.pdf', 'page_label': '1', 'creationdate': '', 'page': 0, 'creator': 'PyPDF'}, page_content='\\x15\\x1c\\x03)HEUXDU\\\\\\x03\\x15\\x13\\x15\\x17 ATP 7-100.1 6-1\\nChapter 6 \\nDefense \\nOver the course of the last two decades, the Ground Forces of the Russian Federation \\n\\x0bɋɭɯɨɩɭɬɧɵɟ\\x03ɜɨɣɫɤɚ\\x03Ɋɨɫɫɢɣɫɤɨɣ\\x03Ɏɟɞɟɪɚɰɢɢ\\x03– sukhoputnyye voyska RF - SV) have \\nemphasized defensive tactics. And, while SV units train in both positional and \\nmaneuver defense, recent SV doctrinal papers have emphasized the value of the \\nmaneuver defense over the positional defense. In all cases however, the SV considers \\nthe tactical counterattack as the ultimate method for destroying an aggressor on the \\nbattlefield. This chapter explains the theory and rational behind the SV’s defensive \\nobjectives, as well as, how the SV design, arrange, and execute tactical defensive \\nactions. Additionally, the tactical defensive requirements and characteristics for units \\nare described in detail.  \\nPURPOSE OF THE DEFENSE \\n6-1. The SV is not the ground force of World War II or the Cold War, which involved massive armies and\\nmillions of soldiers in a linear, cohesive, side-by-side defense. Indeed, contemporary Russian military writers\\nsuggest that the future conventional battlefield unde r nuclear-threatened conditi ons and precision weapons\\nwill be fragmented. The SV will fight with open flanks protected by fires, counterattacks, strong points,\\ndifficult terrain, and obstacles. Battles in the security zone combined with maneuver defense will be common \\nleading to a positional defense where the greatly weakened and disorganized aggressor will crash into a\\ntoughened and prepared defense.\\nGOALS OF THE DEFENSE \\n6-2. The goals of the defense for the SV are—\\nz Repel attacks by superior aggressor forces.\\nz Produce maximum losses.\\nz Hold important areas, objects, and key terrain.\\nz Generate advantageous conditions for the conduct of an offensive.\\nREQUIREMENTS FOR THE DEFENSE \\n6-3. According to SV tactical regulati ons, the defense must be both stable and active. Numerous Russian\\nmilitary academics deem stability and activeness as pr imary prerequisites for an effective defense. The\\ndefense must be able to defeat large aggressor attack s and protect key areas. The defense must also be able\\nto annihilate any aggressor breakthrough of defensive positions. Notably, SV forces can assume the defense\\nin or out of contact with the aggressor. SV defensive doctrine states that to achieve these requirements, the\\ndefense must include—\\nz Echeloned positions capable of defending against weapons of mass destruction, precision-guided\\nmunitions, and electromagnetic warfare.\\nz Antitank resources.\\nz Air defense resources.\\nz Anti-air assault capabilities.'),\n",
       "  Document(metadata={'producer': 'iLovePDF', 'source': './atp7-100-1_defense.pdf', 'moddate': '2025-05-23T07:42:04+00:00', 'page': 13, 'creator': 'PyPDF', 'creationdate': '', 'page_label': '14', 'total_pages': 14}, page_content=\"Chapter 6 \\n6-14 ATP 7-100.1 \\x15\\x1c\\x03)HEUXDU\\\\\\x03\\x15\\x13\\x15\\x17 \\nConsiderations of the Battalion Commander \\n6-90. Battalion commanders take many factors into consideration when setting up the defense. The below\\nitems describe considerations by various elements.\\n6-91. For Companies of the First Echelon, commanders consider: reinforcements; strong points and direction \\non which to concentrate the main effort; tasks to repulse the offensive and destroy an aggressor which has\\npenetrated into one's defenses; the number of trenches and their trace; field of fire, additional sectors of fire\\nand zones of concentrated fire; what forces and means are needed to secure the flanks, joints and gaps, and\\nwho is responsible for them; who provides support.\\n6-92. For Companies of the Second Echelon, commanders consider: same duties as the companies (platoons) \\nof the first echelon, plus, second echelon companies, their lines of deployment for counterattacks; for tank\\ncompanies and motorized rifle companies with BMPs, their firing lines.\\n6-93. For Reserve, commanders consider: assembly area (strong point); on-order missions to prepare for;\\nadditionally for tank companies and motorized rifle companies with BMPs, their firing lines.\\n6-94. For Bronegruppa, commanders consider: group composition; assembly area and time to occupy it;\\nfiring lines; on-order missions to prepare for.\\n6-95. For Ambush Team, commanders consider: compositi on; place; mission for engaging an advancing\\naggressor; sequence of withdrawal.\\n6-96. For Attached Artillery and Mortar Battery Support, commanders consider: sequence of supporting fire\\nfor the security zone; fire missions during aggressor movement to the forward edge of the defense;\\ndeployment and transition to the attack; fire against aggressor wedged into the defense; support for the\\ncounterattack of the second echelon; main, alternate and temporary firing positions.\\n6-97. For Grenade Launcher (AGS-17), commanders consider: missions supporting companies of the first\\nechelon and repelling aggressor infantry assaults; main and reserve positions; belts of fire; additional sectors\\nof fire; zones of concentrated fire; lines of barrier fire.\\n6-98. For Antitank Subunits, commanders consider: their place in the defense; the direction of the aggressor's \\nadvance; lines of deployment; the sequence for occupying positions and on-order missions to prepare for; the\\nsignal for opening and ceasing fire; actions after mission is complete.\\n6-99. For Antiaircraft Units, commanders consider: launch or firing positions; sectors of reconnaissance to\\ndetect aggressor aircraft; time and degrees of readiness; sequence of the conduct of fire.\\n6-100. For Security Subunits in the Security Zone, commanders consider: position; mission; weapons\\ndesignated for support; sequence of calls for fire; sequence of withdrawal.\\n6-101. For Concluding the Order, commanders consider: the time to be ready to fulfill the order, the time\\nto occupy the defense, the time for readiness of the sc heme of integrated fire and the time for engineering\\nwork to be completed, the order and sequence for camouflage and field fortifications of the area of the defense \\n(strong point).\")]}"
      ]
     },
     "execution_count": 24,
     "metadata": {},
     "output_type": "execute_result"
    }
   ],
   "source": [
    "chatbot_response"
   ]
  },
  {
   "cell_type": "code",
   "execution_count": 25,
   "id": "e94855104ea17fa2",
   "metadata": {
    "ExecuteTime": {
     "end_time": "2025-05-22T15:08:30.655130Z",
     "start_time": "2025-05-22T15:08:30.643131Z"
    }
   },
   "outputs": [
    {
     "name": "stdout",
     "output_type": "stream",
     "text": [
      "The main topic of the document is the defensive tactics and strategies of the Ground Forces of the Russian Federation (SV). It elaborates on the theory, goals, and requirements behind their defensive objectives, and details the considerations and responsibilities of commanders at various levels in arranging and executing tactical defensive actions.\n"
     ]
    }
   ],
   "source": [
    "print(chatbot_response['result'])"
   ]
  },
  {
   "cell_type": "code",
   "execution_count": 37,
   "id": "ffcff8b412cd76f9",
   "metadata": {
    "ExecuteTime": {
     "end_time": "2025-05-22T15:10:12.787072Z",
     "start_time": "2025-05-22T15:10:11.237216Z"
    }
   },
   "outputs": [
    {
     "name": "stdout",
     "output_type": "stream",
     "text": [
      "When deploying defensive tactics, several key pieces of information are needed to ensure effective planning and execution. These include:\n",
      "\n",
      "1. **Understanding the Terrain**: Knowledge of the geographical features that can be used for defensive advantages, such as natural obstacles, vantage points, and areas for concealment.\n",
      "\n",
      "2. **Enemy Capabilities and Movement**: Information about the aggressor’s strength, tactics, movement, and possible attack trajectories.\n",
      "\n",
      "3. **Friendly Force Composition**: Details of the units available, including their strengths and specialties, which will influence tactical decisions.\n",
      "\n",
      "4. **Logistics and Supply Lines**: Assurance that resources such as ammunition, food, water, and medical supplies are available and can be sustained during operations.\n",
      "\n",
      "5. **Communication Systems**: Reliable and secure lines of communication for effective command and control.\n",
      "\n",
      "6. **Weather Conditions**: Weather can significantly impact operations, affecting both movement and visibility.\n",
      "\n",
      "7. **Rules of Engagement**: Understanding the legal and strategic boundaries within which forces must operate.\n",
      "\n",
      "8. **Integration with Air and Antitank Defense**: Coordinating with air support and ensuring readiness against potential tank threats.\n",
      "\n",
      "9. **Reconnaissance Data**: Up-to-date intelligence to provide situational awareness and predict enemy actions.\n",
      "\n",
      "10. **Morale and Psychological Readiness**: Ensuring troops are mentally and emotionally prepared for defensive operations.\n",
      "\n",
      "These factors collectively help in crafting a defense that is robust, adaptable, and capable of withstanding aggressive actions while preparing for potential counterattacks. 😊\n"
     ]
    }
   ],
   "source": [
    "question = \"What information do you need when deploying defensive tactics?\"\n",
    "chatbot_response = qa_chain.invoke(question)\n",
    "print(chatbot_response['result'])"
   ]
  },
  {
   "cell_type": "code",
   "execution_count": 34,
   "id": "8fa6a085",
   "metadata": {},
   "outputs": [
    {
     "name": "stdout",
     "output_type": "stream",
     "text": [
      "방어 전술을 펼칠 때 필요한 정보는 여러 가지 요소를 포함합니다. 😊 이 정보들은 방어를 효과적으로 계획하고 실행하기 위해 중요합니다. 여기 몇 가지 주요 고려사항을 정리해 봅니다:\n",
      "\n",
      "1. **증원 및 주요 강점**: 방어 위치를 강화하고 집중해야 할 방향을 결정합니다.\n",
      "2. **공격 반격 준비**: 적의 침입에 대한 대비 계획을 수립합니다.\n",
      "3. **화력 배치**: 사격 범위와 집중 사격 구역을 설정합니다.\n",
      "4. **옆구리 및 간격 보호**: 측면 보호와 갭을 방어하는데 필요한 병력과 자원을 결정합니다.\n",
      "5. **전술적 반격**: 필요 시 반격을 준비합니다.\n",
      "6. **장비 위치**: 탱크 및 기동 보병 부대의 사격선과 배치를 고려합니다.\n",
      "7. **지원 화력**: 포병과 박격포 지원 계획을 수립합니다.\n",
      "8. **대전차 및 대공 방어**: 적의 기갑 및 공중 공격에 대한 대비책을 마련합니다.\n",
      "9. **경고 시스템**: 적 공중 공격을 탐지하기 위한 정찰 및 조기 경보 시스템을 배치합니다.\n",
      "\n",
      "이런 요소들은 방어 전략에서 안정성과 활동성을 유지하기 위해 필수적입니다. 🛡️🗺️\n"
     ]
    }
   ],
   "source": [
    "question = \"방어 전술을 펼칠때, 필요한 정보가 뭐야?\"\n",
    "chatbot_response = qa_chain.invoke(question)\n",
    "print(chatbot_response['result'])"
   ]
  },
  {
   "cell_type": "code",
   "execution_count": 35,
   "id": "33126109",
   "metadata": {},
   "outputs": [
    {
     "name": "stdout",
     "output_type": "stream",
     "text": [
      "문서에 등장하는 장비 이름은 다음과 같습니다:\n",
      "\n",
      "- 탱크 (tanks)\n",
      "- BMP (보병전투차량)\n",
      "- BTR (장갑차량)\n",
      "- 대전차 미사일 (antitank missiles)\n",
      "- 유탄 발사기 (grenade launchers)\n",
      "- 소화기 (small arms)\n",
      "- 화염 및 소이 무기 (flame and incendiary weapons)\n",
      "- 항공 자원 (aviation resources)\n",
      "\n",
      "이 장비들은 방어 작전에서 효과적인 화력 파괴 시스템을 구축하는 데 사용됩니다. 🚜🔫✈️\n"
     ]
    }
   ],
   "source": [
    "question = \"문서에 등장하는 장비 이름을 알려줘\"\n",
    "chatbot_response = qa_chain.invoke(question)\n",
    "print(chatbot_response['result'])"
   ]
  },
  {
   "cell_type": "code",
   "execution_count": 36,
   "id": "0ac45153",
   "metadata": {},
   "outputs": [
    {
     "name": "stdout",
     "output_type": "stream",
     "text": [
      "🤔 문서에서 언급된 장비는 다음과 같습니다:\n",
      "\n",
      "- Artillery\n",
      "- Tanks\n",
      "- BMPs (Boyevaya Mashina Pekhoty, 보병 전투 차량)\n",
      "- BTRs (Bronetransportyor, 장갑 수송차량)\n",
      "- Antitank missiles\n",
      "- Grenade launchers\n",
      "- Small arms\n",
      "- Flame and incendiary weapons (thermobaric)\n",
      "- Aviation resources (Air strikes and air defense weapons)\n",
      "\n",
      "이 중에서 정해진 영문 약어와 번역이 함께 있는 장비들이 포함되어 있습니다. 😊\n"
     ]
    }
   ],
   "source": [
    "question = \"문서에 등장하는 장비 이름을 영어로 알려줘\"\n",
    "chatbot_response = qa_chain.invoke(question)\n",
    "print(chatbot_response['result'])"
   ]
  }
 ],
 "metadata": {
  "kernelspec": {
   "display_name": "AEMA",
   "language": "python",
   "name": "python3"
  },
  "language_info": {
   "codemirror_mode": {
    "name": "ipython",
    "version": 3
   },
   "file_extension": ".py",
   "mimetype": "text/x-python",
   "name": "python",
   "nbconvert_exporter": "python",
   "pygments_lexer": "ipython3",
   "version": "3.9.22"
  }
 },
 "nbformat": 4,
 "nbformat_minor": 5
}
