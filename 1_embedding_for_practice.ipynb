{
 "cells": [
  {
   "cell_type": "code",
   "id": "initial_id",
   "metadata": {
    "collapsed": true,
    "ExecuteTime": {
     "end_time": "2025-05-21T05:18:49.819695Z",
     "start_time": "2025-05-21T05:18:49.536165Z"
    }
   },
   "source": [
    "from sentence_transformers import SentenceTransformer\n",
    "import numpy as np\n",
    "import pandas as pd"
   ],
   "outputs": [],
   "execution_count": 11
  },
  {
   "metadata": {},
   "cell_type": "markdown",
   "source": [
    "### 1. HuggingFace에 업로드된 임베딩 모델 (bge-m3)을 사용해보자.\n",
    "- bge-m3는 BAAI (베이징 인공지능 연구소)에서 개발한 다기능 임베딩 모델로, 한국어를 포함한 다국어의 포괄적 지원이 가능한 특징이 있다.\n",
    "- 2024년 2월 기준, 한국어 벤치마크에서 SOTA 성능을 달성한 바 있다.\n",
    "- Reference: https://arxiv.org/pdf/2402.03216 (ACL 2024)"
   ],
   "id": "b25b972c2ae2a4c7"
  },
  {
   "metadata": {
    "ExecuteTime": {
     "end_time": "2025-05-21T05:44:57.538587Z",
     "start_time": "2025-05-21T05:44:57.521586Z"
    }
   },
   "cell_type": "code",
   "source": "model = SentenceTransformer('BAAI/bge-m3')",
   "id": "7878c7208791ce06",
   "outputs": [],
   "execution_count": null
  },
  {
   "metadata": {
    "ExecuteTime": {
     "end_time": "2025-05-21T05:45:00.264429Z",
     "start_time": "2025-05-21T05:45:00.252430Z"
    }
   },
   "cell_type": "code",
   "source": "model.encode('종현이는 수연이를 사모한다.')",
   "id": "c838b0ef5084f262",
   "outputs": [],
   "execution_count": null
  },
  {
   "metadata": {
    "ExecuteTime": {
     "end_time": "2025-05-21T05:45:03.252810Z",
     "start_time": "2025-05-21T05:45:03.240811Z"
    }
   },
   "cell_type": "code",
   "source": "model.encode('종현이는 욱과 구 사이에서 마치 등 터진 새우와 같았다.')",
   "id": "ffda60d5aa2f683d",
   "outputs": [],
   "execution_count": null
  },
  {
   "metadata": {
    "ExecuteTime": {
     "end_time": "2025-05-21T05:15:24.376524Z",
     "start_time": "2025-05-21T05:15:24.362523Z"
    }
   },
   "cell_type": "code",
   "source": [
    "def get_embedding(sentence):\n",
    "    return list(model.encode(sentence))"
   ],
   "id": "6fa2e10a055d4b9",
   "outputs": [],
   "execution_count": 8
  },
  {
   "metadata": {
    "ExecuteTime": {
     "end_time": "2025-05-21T05:45:09.736543Z",
     "start_time": "2025-05-21T05:45:09.725542Z"
    }
   },
   "cell_type": "code",
   "source": [
    "data = ['저는 배가 고파요',\n",
    "        '저기 배가 지나가네요',\n",
    "        '굶어서 허기가 지네요',\n",
    "        '허기 워기라는 게임이 있는데 즐거워',\n",
    "        '스팀에서 재밌는 거 해야지',\n",
    "        '스팀에어프라이어로 연어구이 해먹을거야',\n",
    "        '종현은 수연을 좋아한다']\n",
    "df = pd.DataFrame(data, columns=['text'])\n",
    "df"
   ],
   "id": "8a0623dcd0f08e6b",
   "outputs": [],
   "execution_count": null
  },
  {
   "metadata": {
    "ExecuteTime": {
     "end_time": "2025-05-21T05:19:18.903176Z",
     "start_time": "2025-05-21T05:19:17.956271Z"
    }
   },
   "cell_type": "code",
   "source": "df['embedding'] = df['text'].apply(get_embedding)",
   "id": "ebf5fc86d8b2a739",
   "outputs": [],
   "execution_count": 13
  },
  {
   "metadata": {
    "ExecuteTime": {
     "end_time": "2025-05-21T05:45:17.003218Z",
     "start_time": "2025-05-21T05:45:16.992709Z"
    }
   },
   "cell_type": "code",
   "source": "df",
   "id": "6da04be12e1ae65e",
   "outputs": [],
   "execution_count": null
  },
  {
   "metadata": {
    "ExecuteTime": {
     "end_time": "2025-05-21T05:21:00.064912Z",
     "start_time": "2025-05-21T05:21:00.051402Z"
    }
   },
   "cell_type": "code",
   "source": [
    "def cos_sim(a, b):\n",
    "    return np.dot(a, b) / np.linalg.norm(a) * np.linalg.norm(b)"
   ],
   "id": "bd1aff9ba5fd165c",
   "outputs": [],
   "execution_count": 15
  },
  {
   "metadata": {
    "ExecuteTime": {
     "end_time": "2025-05-21T05:24:15.427981Z",
     "start_time": "2025-05-21T05:24:15.413980Z"
    }
   },
   "cell_type": "code",
   "source": [
    "def return_answer_candidate(df, query, top_k=3):\n",
    "    query_embedding = get_embedding(query)\n",
    "    df['similarity'] = df['embedding'].apply(lambda x: cos_sim(np.array(x), np.array(query_embedding)))\n",
    "    results = df.sort_values(by=['similarity'], ascending=False, ignore_index=True)[:top_k]\n",
    "    return results"
   ],
   "id": "982d473acd956a60",
   "outputs": [],
   "execution_count": 17
  },
  {
   "metadata": {
    "ExecuteTime": {
     "end_time": "2025-05-21T05:45:21.171755Z",
     "start_time": "2025-05-21T05:45:21.159754Z"
    }
   },
   "cell_type": "code",
   "source": [
    "sim_result = return_answer_candidate(df, '아무 것도 안 먹었더니 꼬르륵 소리가 나네')\n",
    "sim_result"
   ],
   "id": "67201b557bf0adee",
   "outputs": [],
   "execution_count": null
  },
  {
   "metadata": {},
   "cell_type": "markdown",
   "source": [
    "### 2. OpenAI가 유료로 제공하는 API 형태의 임베딩 모델 (text-embedding-ada-002)을 사용해보자.\n",
    "- text-embedding-ada-002: 2022년 12월 출시된 비교적 저렴한 API 모델 (dim: 1536)\n",
    "- text-similarity-babbage-001 (dim: 2048)\n",
    "- ..."
   ],
   "id": "69f7b5b48dbd91c2"
  },
  {
   "metadata": {
    "ExecuteTime": {
     "end_time": "2025-05-21T05:38:21.972754Z",
     "start_time": "2025-05-21T05:38:21.957754Z"
    }
   },
   "cell_type": "code",
   "source": [
    "from openai import OpenAI\n",
    "import openai\n",
    "\n",
    "OPENAI_API_KEY = '당신의 키 값을 입력하세요. MLV 계정 키 값 발급/사용 금지!!!'\n",
    "\n",
    "openai.api_key = OPENAI_API_KEY"
   ],
   "id": "d237c96017736a2e",
   "outputs": [],
   "execution_count": 33
  },
  {
   "metadata": {
    "ExecuteTime": {
     "end_time": "2025-05-21T05:38:29.198173Z",
     "start_time": "2025-05-21T05:38:28.918627Z"
    }
   },
   "cell_type": "code",
   "source": [
    "client = OpenAI(\n",
    "    api_key=OPENAI_API_KEY,\n",
    ")"
   ],
   "id": "172245827a4451c7",
   "outputs": [],
   "execution_count": 35
  },
  {
   "metadata": {
    "ExecuteTime": {
     "end_time": "2025-05-21T05:37:35.434873Z",
     "start_time": "2025-05-21T05:37:35.421361Z"
    }
   },
   "cell_type": "code",
   "source": [
    "def get_embedding_by_openai(sentence, model='text-embedding-ada-002'):\n",
    "    res = client.embeddings.create(\n",
    "        input=sentence,\n",
    "        model=model,\n",
    "    )\n",
    "    return res.data[0].embedding"
   ],
   "id": "70f9b7e5cd668475",
   "outputs": [],
   "execution_count": 31
  },
  {
   "metadata": {
    "ExecuteTime": {
     "end_time": "2025-05-21T05:45:30.641109Z",
     "start_time": "2025-05-21T05:45:30.628110Z"
    }
   },
   "cell_type": "code",
   "source": "get_embedding_by_openai('종현이는 수연이를 사모한다.')",
   "id": "f42d6a028cc6bf90",
   "outputs": [],
   "execution_count": null
  },
  {
   "metadata": {
    "ExecuteTime": {
     "end_time": "2025-05-21T05:45:35.528200Z",
     "start_time": "2025-05-21T05:45:35.516197Z"
    }
   },
   "cell_type": "code",
   "source": "len(get_embedding_by_openai('종현이는 수연이를 사모한다.'))",
   "id": "65bafff63b9345e8",
   "outputs": [],
   "execution_count": null
  },
  {
   "metadata": {
    "ExecuteTime": {
     "end_time": "2025-05-21T05:45:38.540585Z",
     "start_time": "2025-05-21T05:45:38.529587Z"
    }
   },
   "cell_type": "code",
   "source": "df",
   "id": "50747877adb0d77e",
   "outputs": [],
   "execution_count": null
  },
  {
   "metadata": {
    "ExecuteTime": {
     "end_time": "2025-05-21T05:39:43.018392Z",
     "start_time": "2025-05-21T05:39:37.749755Z"
    }
   },
   "cell_type": "code",
   "source": "df['embedding'] = df['text'].apply(get_embedding_by_openai)",
   "id": "205ed3f76fa0d981",
   "outputs": [],
   "execution_count": 39
  },
  {
   "metadata": {
    "ExecuteTime": {
     "end_time": "2025-05-21T05:42:01.291749Z",
     "start_time": "2025-05-21T05:42:01.276751Z"
    }
   },
   "cell_type": "code",
   "source": [
    "def return_answer_candidate_by_openai(df, query, top_k=3):\n",
    "    query_embedding = get_embedding_by_openai(query)\n",
    "    df['similarity'] = df['embedding'].apply(lambda x: cos_sim(np.array(x), np.array(query_embedding)))\n",
    "    results = df.sort_values(by=['similarity'], ascending=False, ignore_index=True)[:top_k]\n",
    "    return results"
   ],
   "id": "5e4b6007a8cf012",
   "outputs": [],
   "execution_count": 40
  },
  {
   "metadata": {
    "ExecuteTime": {
     "end_time": "2025-05-21T05:45:43.102441Z",
     "start_time": "2025-05-21T05:45:43.090934Z"
    }
   },
   "cell_type": "code",
   "source": [
    "sim_result = return_answer_candidate_by_openai(df, '아무 것도 안 먹었더니 꼬르륵 소리가 나네')\n",
    "sim_result"
   ],
   "id": "ef52fd267c85d19d",
   "outputs": [],
   "execution_count": null
  },
  {
   "metadata": {
    "ExecuteTime": {
     "end_time": "2025-05-21T05:45:46.904927Z",
     "start_time": "2025-05-21T05:45:46.893419Z"
    }
   },
   "cell_type": "code",
   "source": [
    "sim_result = return_answer_candidate_by_openai(df, '종현은 성헌을 그윽하게 본다.')\n",
    "sim_result"
   ],
   "id": "81b3d060832f0fc6",
   "outputs": [],
   "execution_count": null
  },
  {
   "metadata": {},
   "cell_type": "code",
   "outputs": [],
   "execution_count": null,
   "source": "",
   "id": "90bc4f4973ff266"
  }
 ],
 "metadata": {
  "kernelspec": {
   "display_name": "Python 3",
   "language": "python",
   "name": "python3"
  },
  "language_info": {
   "codemirror_mode": {
    "name": "ipython",
    "version": 2
   },
   "file_extension": ".py",
   "mimetype": "text/x-python",
   "name": "python",
   "nbconvert_exporter": "python",
   "pygments_lexer": "ipython2",
   "version": "2.7.6"
  }
 },
 "nbformat": 4,
 "nbformat_minor": 5
}
